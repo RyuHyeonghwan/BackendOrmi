{
  "nbformat": 4,
  "nbformat_minor": 0,
  "metadata": {
    "colab": {
      "provenance": [],
      "include_colab_link": true
    },
    "kernelspec": {
      "name": "python3",
      "display_name": "Python 3"
    },
    "language_info": {
      "name": "python"
    }
  },
  "cells": [
    {
      "cell_type": "markdown",
      "metadata": {
        "id": "view-in-github",
        "colab_type": "text"
      },
      "source": [
        "<a href=\"https://colab.research.google.com/github/RyuHyeonghwan/BackendOrmi/blob/main/%EC%98%A4%EB%8A%98%EB%B0%B0%EC%9A%B4%EA%B2%83/%EC%B1%85%EC%A7%91%ED%95%843_4%EB%B6%80.ipynb\" target=\"_parent\"><img src=\"https://colab.research.google.com/assets/colab-badge.svg\" alt=\"Open In Colab\"/></a>"
      ]
    },
    {
      "cell_type": "code",
      "execution_count": null,
      "metadata": {
        "id": "LHkuXteILoM6",
        "colab": {
          "base_uri": "https://localhost:8080/"
        },
        "outputId": "3a63a5f9-d962-4b3b-ab5a-738290d339a2"
      },
      "outputs": [
        {
          "output_type": "stream",
          "name": "stdout",
          "text": [
            "[9, 0, 1, 1, 1]\n",
            "[2, 0, 1, 0, 1]\n",
            "[1, 1, 1, 1, 1]\n",
            "[1, 0, 1, 0, 1]\n",
            "[1, 1, 1, 0, 1]\n",
            "\n",
            "[9, 0, 1, 1, 1]\n",
            "[2, 0, 1, 0, 1]\n",
            "[3, 1, 1, 1, 1]\n",
            "[1, 0, 1, 0, 1]\n",
            "[1, 1, 1, 0, 1]\n",
            "\n",
            "[9, 0, 1, 1, 1]\n",
            "[2, 0, 1, 0, 1]\n",
            "[3, 4, 1, 1, 1]\n",
            "[1, 0, 1, 0, 1]\n",
            "[1, 1, 1, 0, 1]\n",
            "\n",
            "[9, 0, 1, 1, 1]\n",
            "[2, 0, 1, 0, 1]\n",
            "[3, 4, 1, 1, 1]\n",
            "[4, 0, 1, 0, 1]\n",
            "[1, 1, 1, 0, 1]\n",
            "\n",
            "[9, 0, 1, 1, 1]\n",
            "[2, 0, 1, 0, 1]\n",
            "[3, 4, 5, 1, 1]\n",
            "[4, 0, 1, 0, 1]\n",
            "[1, 1, 1, 0, 1]\n",
            "\n",
            "[9, 0, 1, 1, 1]\n",
            "[2, 0, 1, 0, 1]\n",
            "[3, 4, 5, 1, 1]\n",
            "[4, 0, 1, 0, 1]\n",
            "[5, 1, 1, 0, 1]\n",
            "\n",
            "[9, 0, 1, 1, 1]\n",
            "[2, 0, 6, 0, 1]\n",
            "[3, 4, 5, 1, 1]\n",
            "[4, 0, 1, 0, 1]\n",
            "[5, 1, 1, 0, 1]\n",
            "\n",
            "[9, 0, 1, 1, 1]\n",
            "[2, 0, 6, 0, 1]\n",
            "[3, 4, 5, 6, 1]\n",
            "[4, 0, 1, 0, 1]\n",
            "[5, 1, 1, 0, 1]\n",
            "\n",
            "[9, 0, 1, 1, 1]\n",
            "[2, 0, 6, 0, 1]\n",
            "[3, 4, 5, 6, 1]\n",
            "[4, 0, 6, 0, 1]\n",
            "[5, 1, 1, 0, 1]\n",
            "\n",
            "[9, 0, 1, 1, 1]\n",
            "[2, 0, 6, 0, 1]\n",
            "[3, 4, 5, 6, 1]\n",
            "[4, 0, 6, 0, 1]\n",
            "[5, 6, 1, 0, 1]\n",
            "\n",
            "[9, 0, 7, 1, 1]\n",
            "[2, 0, 6, 0, 1]\n",
            "[3, 4, 5, 6, 1]\n",
            "[4, 0, 6, 0, 1]\n",
            "[5, 6, 1, 0, 1]\n",
            "\n",
            "[9, 0, 7, 1, 1]\n",
            "[2, 0, 6, 0, 1]\n",
            "[3, 4, 5, 6, 7]\n",
            "[4, 0, 6, 0, 1]\n",
            "[5, 6, 1, 0, 1]\n",
            "\n",
            "[9, 0, 7, 1, 1]\n",
            "[2, 0, 6, 0, 1]\n",
            "[3, 4, 5, 6, 7]\n",
            "[4, 0, 6, 0, 1]\n",
            "[5, 6, 7, 0, 1]\n",
            "\n",
            "[9, 0, 7, 8, 1]\n",
            "[2, 0, 6, 0, 1]\n",
            "[3, 4, 5, 6, 7]\n",
            "[4, 0, 6, 0, 1]\n",
            "[5, 6, 7, 0, 1]\n",
            "\n",
            "[9, 0, 7, 8, 1]\n",
            "[2, 0, 6, 0, 8]\n",
            "[3, 4, 5, 6, 7]\n",
            "[4, 0, 6, 0, 1]\n",
            "[5, 6, 7, 0, 1]\n",
            "\n",
            "[9, 0, 7, 8, 1]\n",
            "[2, 0, 6, 0, 8]\n",
            "[3, 4, 5, 6, 7]\n",
            "[4, 0, 6, 0, 8]\n",
            "[5, 6, 7, 0, 1]\n",
            "\n",
            "[9, 0, 7, 8, 9]\n",
            "[2, 0, 6, 0, 8]\n",
            "[3, 4, 5, 6, 7]\n",
            "[4, 0, 6, 0, 8]\n",
            "[5, 6, 7, 0, 1]\n",
            "\n",
            "[9, 0, 7, 8, 9]\n",
            "[2, 0, 6, 0, 8]\n",
            "[3, 4, 5, 6, 7]\n",
            "[4, 0, 6, 0, 8]\n",
            "[5, 6, 7, 0, 9]\n",
            "\n",
            "9\n",
            "[9, 0, 1, 1, 1]\n",
            "[2, 0, 1, 0, 1]\n",
            "[1, 1, 1, 1, 1]\n",
            "[1, 0, 1, 0, 0]\n",
            "[1, 1, 1, 0, 1]\n",
            "\n",
            "[9, 0, 1, 1, 1]\n",
            "[2, 0, 1, 0, 1]\n",
            "[3, 1, 1, 1, 1]\n",
            "[1, 0, 1, 0, 0]\n",
            "[1, 1, 1, 0, 1]\n",
            "\n",
            "[9, 0, 1, 1, 1]\n",
            "[2, 0, 1, 0, 1]\n",
            "[3, 4, 1, 1, 1]\n",
            "[1, 0, 1, 0, 0]\n",
            "[1, 1, 1, 0, 1]\n",
            "\n",
            "[9, 0, 1, 1, 1]\n",
            "[2, 0, 1, 0, 1]\n",
            "[3, 4, 1, 1, 1]\n",
            "[4, 0, 1, 0, 0]\n",
            "[1, 1, 1, 0, 1]\n",
            "\n",
            "[9, 0, 1, 1, 1]\n",
            "[2, 0, 1, 0, 1]\n",
            "[3, 4, 5, 1, 1]\n",
            "[4, 0, 1, 0, 0]\n",
            "[1, 1, 1, 0, 1]\n",
            "\n",
            "[9, 0, 1, 1, 1]\n",
            "[2, 0, 1, 0, 1]\n",
            "[3, 4, 5, 1, 1]\n",
            "[4, 0, 1, 0, 0]\n",
            "[5, 1, 1, 0, 1]\n",
            "\n",
            "[9, 0, 1, 1, 1]\n",
            "[2, 0, 6, 0, 1]\n",
            "[3, 4, 5, 1, 1]\n",
            "[4, 0, 1, 0, 0]\n",
            "[5, 1, 1, 0, 1]\n",
            "\n",
            "[9, 0, 1, 1, 1]\n",
            "[2, 0, 6, 0, 1]\n",
            "[3, 4, 5, 6, 1]\n",
            "[4, 0, 1, 0, 0]\n",
            "[5, 1, 1, 0, 1]\n",
            "\n",
            "[9, 0, 1, 1, 1]\n",
            "[2, 0, 6, 0, 1]\n",
            "[3, 4, 5, 6, 1]\n",
            "[4, 0, 6, 0, 0]\n",
            "[5, 1, 1, 0, 1]\n",
            "\n",
            "[9, 0, 1, 1, 1]\n",
            "[2, 0, 6, 0, 1]\n",
            "[3, 4, 5, 6, 1]\n",
            "[4, 0, 6, 0, 0]\n",
            "[5, 6, 1, 0, 1]\n",
            "\n",
            "[9, 0, 7, 1, 1]\n",
            "[2, 0, 6, 0, 1]\n",
            "[3, 4, 5, 6, 1]\n",
            "[4, 0, 6, 0, 0]\n",
            "[5, 6, 1, 0, 1]\n",
            "\n",
            "[9, 0, 7, 1, 1]\n",
            "[2, 0, 6, 0, 1]\n",
            "[3, 4, 5, 6, 7]\n",
            "[4, 0, 6, 0, 0]\n",
            "[5, 6, 1, 0, 1]\n",
            "\n",
            "[9, 0, 7, 1, 1]\n",
            "[2, 0, 6, 0, 1]\n",
            "[3, 4, 5, 6, 7]\n",
            "[4, 0, 6, 0, 0]\n",
            "[5, 6, 7, 0, 1]\n",
            "\n",
            "[9, 0, 7, 8, 1]\n",
            "[2, 0, 6, 0, 1]\n",
            "[3, 4, 5, 6, 7]\n",
            "[4, 0, 6, 0, 0]\n",
            "[5, 6, 7, 0, 1]\n",
            "\n",
            "[9, 0, 7, 8, 1]\n",
            "[2, 0, 6, 0, 8]\n",
            "[3, 4, 5, 6, 7]\n",
            "[4, 0, 6, 0, 0]\n",
            "[5, 6, 7, 0, 1]\n",
            "\n",
            "[9, 0, 7, 8, 9]\n",
            "[2, 0, 6, 0, 8]\n",
            "[3, 4, 5, 6, 7]\n",
            "[4, 0, 6, 0, 0]\n",
            "[5, 6, 7, 0, 1]\n",
            "\n",
            "이동불가\n"
          ]
        }
      ],
      "source": [
        "def solution(maps):\n",
        "    행_끝 = len(maps)\n",
        "    열_끝 = len(maps[0])\n",
        "    maps[0][0] = float(\"inf\") # 처음 시작위치를 다시 탐색하는것을 막기 위해\n",
        "    queue = [maps[0][0],0,0]\n",
        "    while queue:\n",
        "        몇칸, 행, 열 = queue.pop(0), queue.pop(0), queue.pop(0)\n",
        "        for 행방향, 열방향 in ((-1,0), (0,1), (1,0) ,(0,-1)):   #(-1,0) 북쪽, (0,1) 동쪽, (1,0)남쪽 ,(0,-1)서쪽\n",
        "            새로운행 = 행 + 행방향\n",
        "            새로운열 = 열 + 열방향\n",
        "            if 새로운행 in range(행_끝) and 새로운열 in range(열_끝) and maps[새로운행][새로운열]:\n",
        "                if 몇칸 + 1 >= maps[새로운행][새로운열] and  maps[새로운행][새로운열] == 1:\n",
        "                    maps[새로운행][새로운열] = 몇칸 +1\n",
        "                    queue.append(maps[새로운행][새로운열])\n",
        "                    queue.append(새로운행)\n",
        "                    queue.append(새로운열)\n",
        "                    [print(i) for i in maps]\n",
        "                    print('')\n",
        "    return '이동불가' if maps[행_끝 -1][열_끝 -1] == 1 else maps[행_끝 -1][열_끝 -1]\n",
        "print(solution([[1,0,1,1,1],[1,0,1,0,1],[1,1,1,1,1],[1,0,1,0,1],[1,1,1,0,1]]))\n",
        "print(solution([[1,0,1,1,1],[1,0,1,0,1],[1,1,1,1,1],[1,0,1,0,0],[1,1,1,0,1]]))"
      ]
    },
    {
      "cell_type": "code",
      "source": [],
      "metadata": {
        "id": "UVwQ-dagKe-U"
      },
      "execution_count": null,
      "outputs": []
    },
    {
      "cell_type": "code",
      "source": [],
      "metadata": {
        "id": "991VucU1jH_r"
      },
      "execution_count": null,
      "outputs": []
    },
    {
      "cell_type": "code",
      "source": [
        "maps = [[1,0,1,1,1],[1,0,1,0,1],[1,0,1,1,1],[1,1,1,0,1],[0,0,0,0,1]]\n",
        "행_끝 = len(maps)\n",
        "\n",
        "print(행_끝)\n",
        "print(len(열_끝))"
      ],
      "metadata": {
        "colab": {
          "base_uri": "https://localhost:8080/"
        },
        "id": "OPbfRN7hW_R5",
        "outputId": "a229510c-d754-4976-e4ee-f0b727b2b307"
      },
      "execution_count": null,
      "outputs": [
        {
          "output_type": "stream",
          "name": "stdout",
          "text": [
            "5\n",
            "5\n"
          ]
        }
      ]
    },
    {
      "cell_type": "code",
      "source": [
        "def solution(maps):\n",
        "    dir = ((0, 1), (0, -1), (1, 0), (-1, 0))\n",
        "    n, m = len(maps) - 1, len(maps[0]) - 1\n",
        "    distance = {}\n",
        "    queue = [((0, 0), 1)]\n",
        "\n",
        "    while queue:\n",
        "        coord, l = queue.pop(0)\n",
        "        if coord in distance:\n",
        "            continue\n",
        "        elif coord == (n, m):\n",
        "            return l\n",
        "        distance[coord] = l\n",
        "        x, y = coord\n",
        "        for d in dir:\n",
        "            x2, y2 = x + d[0], y + d[1]\n",
        "            if x2 >= 0 and x2 <= n and y2 >= 0 and y2 <= m:\n",
        "                if maps[x2][y2] and ((x2, y2) not in distance):\n",
        "                    queue.append(((x2, y2), l + 1))\n",
        "    return -1"
      ],
      "metadata": {
        "id": "3opV6pd6bJUV"
      },
      "execution_count": null,
      "outputs": []
    },
    {
      "cell_type": "code",
      "source": [
        "def solution(maps):\n",
        "    stack = [(0,0, 1)]\n",
        "    dx = [0, 0, -1, 1]\n",
        "    dy = [1, -1, 0, 0]\n",
        "\n",
        "    while stack:\n",
        "        x, y, d= stack.pop(0)\n",
        "        for q in range(4):\n",
        "            ny = y + dy[q]\n",
        "            nx = x + dx[q]\n",
        "            if ny <0 or nx <0 or ny >= len(maps) or nx >= len(maps[0]):\n",
        "                continue\n",
        "            else:\n",
        "                if maps[ny][nx] ==1 or maps[ny][nx] > d+1:\n",
        "                    maps[ny][nx] =d+1\n",
        "                    if ny == len(maps) -1 and nx == len(maps[0])-1:\n",
        "                        return d+1\n",
        "                    stack.append((nx, ny, d+1))\n",
        "    return -1\n",
        "print(solution([[1,0,1,1,1],[1,0,1,0,1],[1,0,1,1,1],[1,1,1,0,1],[0,0,0,0,1]]))\n",
        "print(solution([[1,0,1,1,1],[1,0,1,0,1],[1,0,1,1,1],[1,1,1,0,0],[0,0,0,0,1]]))"
      ],
      "metadata": {
        "colab": {
          "base_uri": "https://localhost:8080/"
        },
        "id": "6WRZD3q_qXDV",
        "outputId": "742fe627-f815-498f-f16f-e37e3d766fce"
      },
      "execution_count": null,
      "outputs": [
        {
          "output_type": "stream",
          "name": "stdout",
          "text": [
            "11\n",
            "-1\n"
          ]
        }
      ]
    },
    {
      "cell_type": "code",
      "source": [
        "def DFS(maps,행, 열, 행_끝, 열_끝):\n",
        "    몇칸 = maps[행][열]\n",
        "    for 행방향, 열방향 in ((-1,0), (0,1), (1,0) ,(0,-1)):   #(-1,0) 북쪽, (0,1) 동쪽, (1,0)남쪽 ,(0,-1)서쪽\n",
        "        새로운행 = 행 + 행방향\n",
        "        새로운열 = 열 + 열방향\n",
        "        if 새로운행 in range(행_끝) and 새로운열 in range(열_끝) and 몇칸 +1 < maps[새로운행][새로운열]:\n",
        "            maps[새로운행][새로운열] = 몇칸 +1\n",
        "            DFS(maps,새로운행, 새로운열, 행_끝, 열_끝)\n",
        "\n",
        "def solution(maps):\n",
        "    map = [[float(\"inf\") if maps[r][c] else 0 for c in range(len(maps[0]))] for r in range(len(maps))]\n",
        "    행_끝 = len(map)\n",
        "    열_끝 = len(map[0])\n",
        "    map[0][0] = 1\n",
        "    DFS(map,0, 0, 행_끝, 열_끝)\n",
        "    return '이동불가' if map[행_끝 -1][열_끝 -1] == float(\"inf\") else map[행_끝 -1][열_끝 -1]\n",
        "\n",
        "print(solution([[1,0,1,1,1],[1,0,1,0,1],[1,1,1,1,1],[1,0,1,0,1],[1,1,1,0,1]]))\n",
        "print(solution([[1,0,1,1,1],[1,0,1,0,1],[1,1,1,1,1],[1,0,1,0,0],[1,1,1,0,1]]))"
      ],
      "metadata": {
        "colab": {
          "base_uri": "https://localhost:8080/"
        },
        "id": "JkWuk1Ja8q46",
        "outputId": "20352061-ac94-453b-f84f-f8c7e5bb19e3"
      },
      "execution_count": null,
      "outputs": [
        {
          "output_type": "stream",
          "name": "stdout",
          "text": [
            "9\n",
            "이동불가\n"
          ]
        }
      ]
    },
    {
      "cell_type": "code",
      "source": [
        "def solution(maps):\n",
        "    stack = [(0,0, 1)]\n",
        "    dx = [0, 0, -1, 1]\n",
        "    dy = [1, -1, 0, 0]\n",
        "\n",
        "    while stack:\n",
        "        x, y, d= stack.pop(0)\n",
        "        for q in range(4):\n",
        "            ny = y + dy[q]\n",
        "            nx = x + dx[q]\n",
        "            if ny <0 or nx <0 or ny >= len(maps) or nx >= len(maps[0]):\n",
        "                continue\n",
        "            else:\n",
        "                if maps[ny][nx] ==1 or maps[ny][nx] > d+1:\n",
        "                    maps[ny][nx] =d+1\n",
        "                    if ny == len(maps) -1 and nx == len(maps[0])-1:\n",
        "                        return d+1\n",
        "                    stack.append((nx, ny, d+1))\n",
        "                    [print(i) for i in maps]\n",
        "                    print('')\n",
        "    return -1\n",
        "solution([[0,0,0,0,0,0,0,1],[0,0,0,0,0,0,0,0],[0,0,0,0,0,1,0,0],[0,0,0,0,1,0,0,0],[0,0,0,1,0,0,0,1],[0,0,1,0,0,0,1,0],[0,1,0,0,0,1,0,0],[1,0,0,0,0,0,0,0]])"
      ],
      "metadata": {
        "colab": {
          "base_uri": "https://localhost:8080/"
        },
        "id": "wSLBvpkenemI",
        "outputId": "22170724-99eb-4a61-fe52-7926c9e7885c"
      },
      "execution_count": null,
      "outputs": [
        {
          "output_type": "execute_result",
          "data": {
            "text/plain": [
              "-1"
            ]
          },
          "metadata": {},
          "execution_count": 21
        }
      ]
    },
    {
      "cell_type": "code",
      "source": [
        "from heapq import heappush, heappop\n",
        "\n",
        "def solution(maps):\n",
        "    행_끝 = len(maps)\n",
        "    열_끝 = len(maps[0])\n",
        "    maps[0][0] = 1\n",
        "    queue = []\n",
        "    heappush(queue,(1,0,0)) # 몇칸, 행, 열\n",
        "    while queue:\n",
        "        몇칸, 행, 열 = heappop(queue)\n",
        "        for 행방향, 열방향 in ((-1,0), (0,1), (1,0) ,(0,-1)):   #(-1,0) 북쪽, (0,1) 동쪽, (1,0)남쪽 ,(0,-1)서쪽\n",
        "            새로운행 = 행 + 행방향\n",
        "            새로운열 = 열 + 열방향\n",
        "            if 새로운행 in range(행_끝) and 새로운열 in range(열_끝) and maps[새로운행][새로운열]:\n",
        "                if 몇칸 + 1 >= maps[새로운행][새로운열] and  maps[새로운행][새로운열] == 1:\n",
        "                    maps[새로운행][새로운열] = 몇칸 +1\n",
        "                    heappush(queue,((maps[새로운행][새로운열]),새로운행,새로운열)) # 몇칸, 행, 열\n",
        "                    [print(i) for i in maps]\n",
        "                    print('')\n",
        "    return '이동불가' if maps[행_끝 -1][열_끝 -1] == 1 else maps[행_끝 -1][열_끝 -1]\n",
        "print(solution([[1,0,1,1,1],[1,0,1,0,1],[1,1,1,1,1],[1,0,1,0,1],[1,1,1,0,1]]))\n",
        "print(solution([[1,0,1,1,1],[1,0,1,0,1],[1,1,1,1,1],[1,0,1,0,0],[1,1,1,0,1]]))"
      ],
      "metadata": {
        "id": "WZbUS0ELgHlI"
      },
      "execution_count": null,
      "outputs": []
    },
    {
      "cell_type": "code",
      "source": [
        "def solution(maps):\n",
        "    행_끝 = len(maps)\n",
        "    열_끝 = len(maps[0])\n",
        "    c = 0\n",
        "    maps[0][0] = float(\"inf\") # 처음 시작위치를 다시 탐색하는것을 막기 위해\n",
        "    queue = [1,0,0]\n",
        "    while queue:\n",
        "        몇칸, 행, 열 = queue.pop(0), queue.pop(0), queue.pop(0)\n",
        "        for 행방향, 열방향 in ((-1,0), (0,1), (1,0) ,(0,-1)):   #(-1,0) 북쪽, (0,1) 동쪽, (1,0)남쪽 ,(0,-1)서쪽\n",
        "            새로운행 = 행 + 행방향\n",
        "            새로운열 = 열 + 열방향\n",
        "            if 새로운행 in range(행_끝) and 새로운열 in range(열_끝) and maps[새로운행][새로운열] == 0:\n",
        "                if 몇칸 + 1 >= maps[새로운행][새로운열] and  maps[새로운행][새로운열] == 0:\n",
        "                    maps[새로운행][새로운열] = 몇칸 +1\n",
        "                    queue.append(maps[새로운행][새로운열])\n",
        "                    queue.append(새로운행)\n",
        "                    queue.append(새로운열)\n",
        "    return '이동불가' if maps[행_끝 -1][열_끝 -1] == 1 else maps[행_끝 -1][열_끝 -1]\n",
        "#print(solution([[1,0,1,1,1],[1,0,1,0,1],[1,1,1,1,1],[1,0,1,0,1],[1,1,1,0,1]]))\n",
        "#print(solution([[1,0,1,1,1],[1,0,1,0,1],[1,1,1,1,1],[1,0,1,0,0],[1,1,1,0,1]]))\n",
        "solution([[0,0,0,0,0,0,0,1],[0,0,0,0,0,0,0,0],[0,0,0,0,0,1,0,0],[0,0,0,0,1,0,0,0],[0,0,0,1,0,0,0,1],[0,0,1,0,0,0,1,0],[0,1,0,0,0,1,0,0],[1,0,0,0,0,0,0,0]])"
      ],
      "metadata": {
        "id": "0FLHM-QPQlOe",
        "colab": {
          "base_uri": "https://localhost:8080/"
        },
        "outputId": "cadf8c2a-3726-47e6-c5da-0a39867c859a"
      },
      "execution_count": null,
      "outputs": [
        {
          "output_type": "execute_result",
          "data": {
            "text/plain": [
              "19"
            ]
          },
          "metadata": {},
          "execution_count": 66
        }
      ]
    },
    {
      "cell_type": "code",
      "source": [
        "def DFS(maps,행, 열, 행_끝, 열_끝):\n",
        "    몇칸 = maps[행][열]\n",
        "    for 행방향, 열방향 in ((-1,0), (0,1), (1,0) ,(0,-1)):\n",
        "        #(-1,0) 북쪽, (0,1) 동쪽, (1,0)남쪽 ,(0,-1)서쪽\n",
        "        새로운행 = 행 + 행방향\n",
        "        새로운열 = 열 + 열방향\n",
        "        if 새로운행 in range(행_끝) and 새로운열 in range(열_끝):\n",
        "            if 몇칸 +1 < maps[새로운행][새로운열]:\n",
        "                maps[새로운행][새로운열] = 몇칸 +1\n",
        "                DFS(maps,새로운행, 새로운열, 행_끝, 열_끝)\n",
        "                [print(i) for i in maps]\n",
        "                print('')\n",
        "\n",
        "def solution(maps):\n",
        "    map = [[float(\"inf\") if maps[r][c] == 0 else 0 for c in range(len(maps[0]))] for r in range(len(maps))]\n",
        "\n",
        "    행_끝 = len(map)\n",
        "    열_끝 = len(map[0])\n",
        "    map[0][0] = 1\n",
        "    DFS(map,0, 0, 행_끝, 열_끝)\n",
        "    return '이동불가' if map[행_끝 -1][열_끝 -1] == float(\"inf\") \\\n",
        "    else map[행_끝 -1][열_끝 -1]\n",
        "\n",
        "print(solution([[1,0,1,1,1],[1,0,1,0,1],[1,1,1,1,1],[1,0,1,0,1],[1,1,1,0,1]]))\n",
        "print(solution([[1,0,1,1,1],[1,0,1,0,1],[1,1,1,1,1],[1,0,1,0,0],[1,1,1,0,1]]))"
      ],
      "metadata": {
        "id": "CH6q1iYsV9Pp"
      },
      "execution_count": null,
      "outputs": []
    },
    {
      "cell_type": "code",
      "source": [
        "def solution(maps):\n",
        "    행_끝 = len(maps)\n",
        "    열_끝 = len(maps[0])\n",
        "    maps[0][0] = float(\"inf\") # 처음 시작위치를 다시 탐색하는것을 막기 위해\n",
        "    큐 = [1,0,0]\n",
        "    while 큐:\n",
        "        몇칸, 행, 열 = 큐.pop(0), 큐.pop(0), 큐.pop(0)\n",
        "        for 행방향, 열방향 in ((-1,0), (0,1), (1,0) ,(0,-1)):\n",
        "            #(-1,0) 북쪽, (0,1) 동쪽, (1,0)남쪽 ,(0,-1)서쪽\n",
        "            새로운행 = 행 + 행방향\n",
        "            새로운열 = 열 + 열방향\n",
        "            if 새로운행 in range(행_끝) and 새로운열 in range(열_끝) and maps[새로운행][새로운열]:\n",
        "                if 몇칸 + 1 >= maps[새로운행][새로운열] and maps[새로운행][새로운열] == 1:\n",
        "                    maps[새로운행][새로운열] = 몇칸 +1\n",
        "                    큐.append(maps[새로운행][새로운열])\n",
        "                    큐.append(새로운행)\n",
        "                    큐.append(새로운열)\n",
        "    return '이동불가' if maps[행_끝 -1][열_끝 -1] == 1 else maps[행_끝 -1][열_끝 -1]\n",
        "print(solution([[1,0,1,1,1],[1,0,1,0,1],\n",
        " [1,1,1,1,1],[1,0,1,0,1],[1,1,1,0,1]]))\n",
        "print(solution([[1,0,1,1,1],[1,0,1,0,1],\n",
        " [1,1,1,1,1],[1,0,1,0,0],[1,1,1,0,1]]))"
      ],
      "metadata": {
        "colab": {
          "base_uri": "https://localhost:8080/"
        },
        "id": "1mNzqomZxCuY",
        "outputId": "82a44655-a6b8-4cd9-a743-f2080dc60e0d"
      },
      "execution_count": null,
      "outputs": [
        {
          "output_type": "stream",
          "name": "stdout",
          "text": [
            "9\n",
            "이동불가\n"
          ]
        }
      ]
    },
    {
      "cell_type": "code",
      "source": [
        "def solution(progresses, speeds):\n",
        "    answer = []\n",
        "\n",
        "    while progresses:\n",
        "        b = 0\n",
        "        for i in range(len(progresses)):\n",
        "            if progresses[0] >= 100:\n",
        "                c = 0\n",
        "                for i in range(len(progresses)):\n",
        "                    if progresses[0] >= 100:\n",
        "                        c = c + 1\n",
        "                        progresses.pop(0)\n",
        "                answer.append(c)\n",
        "            if i < len(progresses):\n",
        "                progresses[i] = progresses[i]+ speeds[i]\n",
        "    return answer\n",
        "\n",
        "print(solution([93, 30, 55], [1, 30, 5]))\n",
        "print(solution([95, 90, 99, 99, 80, 99], [1, 1, 1, 1, 1, 1]))"
      ],
      "metadata": {
        "id": "L2Pf5UwCxDaA",
        "colab": {
          "base_uri": "https://localhost:8080/"
        },
        "outputId": "5ecac65f-a71d-488b-e94d-61892e016fd8"
      },
      "execution_count": null,
      "outputs": [
        {
          "output_type": "stream",
          "name": "stdout",
          "text": [
            "[2, 1]\n",
            "[1, 3, 2]\n"
          ]
        }
      ]
    },
    {
      "cell_type": "code",
      "source": [
        "import math\n",
        "def solution(진도율, 생산속도):\n",
        "    반환값 = []\n",
        "    완료일 = []\n",
        "    for i in range(len(진도율)):\n",
        "        b = 100 - 진도율[i]\n",
        "        c = math.ceil(b/생산속도[i])\n",
        "        완료일.append(c)\n",
        "    while 완료일:\n",
        "        날짜 = 완료일.pop(0)\n",
        "        result = 1\n",
        "        while len(완료일) != 0 and 날짜 >= 완료일[0]:\n",
        "            result +=1\n",
        "            완료일.pop(0)\n",
        "        반환값.append(result)\n",
        "    return 반환값\n",
        "print(solution([93, 30, 55, 40, 30, 50], [1, 30, 5, 40,30, 5]))\n",
        "print(solution([95, 90, 99, 99, 80, 99], [1, 1, 1, 1, 1, 1]))"
      ],
      "metadata": {
        "colab": {
          "base_uri": "https://localhost:8080/"
        },
        "id": "VEytKl60NPGS",
        "outputId": "ae4d1e4f-73b3-4376-e591-e64dbcf58f77"
      },
      "execution_count": null,
      "outputs": [
        {
          "output_type": "stream",
          "name": "stdout",
          "text": [
            "[2, 3, 1]\n",
            "[1, 3, 2]\n"
          ]
        }
      ]
    },
    {
      "cell_type": "code",
      "source": [
        "from math import ceil\n",
        "\n",
        "def solution(progresses, speeds):\n",
        "    daysLeft = list(map(lambda x: (ceil((100 - progresses[x]) / speeds[x])),\n",
        "                        range(len(progresses))))\n",
        "    count = 1\n",
        "    retList = []\n",
        "\n",
        "    for i in range(len(daysLeft)):\n",
        "        try:\n",
        "            if daysLeft[i] < daysLeft[i + 1]:\n",
        "                retList.append(count)\n",
        "                count = 1\n",
        "            else:\n",
        "                daysLeft[i + 1] = daysLeft[i]\n",
        "                count += 1\n",
        "        except IndexError:\n",
        "            retList.append(count)\n",
        "\n",
        "    return retList"
      ],
      "metadata": {
        "id": "BVf7xQSGWtVw"
      },
      "execution_count": null,
      "outputs": []
    },
    {
      "cell_type": "code",
      "source": [
        "def solution(arr):\n",
        "    a = []\n",
        "    b = 0\n",
        "    a.append(arr.pop(0))\n",
        "    while arr:\n",
        "        if a[len(a)-1] != arr[0]:\n",
        "            b = arr.pop(0)\n",
        "            a.append(b)\n",
        "        else:\n",
        "            arr.pop(0)\n",
        "    return a\n",
        "\n",
        "\n",
        "solution([1,1,3,3,0,1,1])"
      ],
      "metadata": {
        "colab": {
          "base_uri": "https://localhost:8080/"
        },
        "id": "zW9JHrLH70Rq",
        "outputId": "6dea5ce5-9714-4290-9d28-d8cc73f2bde9"
      },
      "execution_count": null,
      "outputs": [
        {
          "output_type": "execute_result",
          "data": {
            "text/plain": [
              "[1, 3, 0, 1]"
            ]
          },
          "metadata": {},
          "execution_count": 26
        }
      ]
    },
    {
      "cell_type": "code",
      "source": [
        "def solution(큐):\n",
        "    a = []\n",
        "    a.append(큐.pop(0))\n",
        "    while 큐:\n",
        "        if a[len(a)-1] != 큐[0]:\n",
        "            a.append(큐.pop(0))\n",
        "        else:\n",
        "            큐.pop(0)\n",
        "    return a\n",
        "\n",
        "solution([1,1,3,3,0,1,1])"
      ],
      "metadata": {
        "colab": {
          "base_uri": "https://localhost:8080/"
        },
        "id": "zMyaK0eqAPiq",
        "outputId": "2a7bcaf3-0cd9-488a-e762-577e090abfc4"
      },
      "execution_count": null,
      "outputs": [
        {
          "output_type": "execute_result",
          "data": {
            "text/plain": [
              "[1, 3, 0, 1]"
            ]
          },
          "metadata": {},
          "execution_count": 104
        }
      ]
    },
    {
      "cell_type": "code",
      "source": [
        "def solution(arr):\n",
        "    a = []\n",
        "    for i in range(1, len(arr)):\n",
        "        if i -1 == 0:\n",
        "            a.append(arr.pop(0))\n",
        "        if a[len(a)-1] != arr[0]:\n",
        "            a.append(arr.pop(0))\n",
        "        else:\n",
        "            del arr[0]\n",
        "    return a\n",
        "solution([1,1,3,3,0,1,1])\n"
      ],
      "metadata": {
        "colab": {
          "base_uri": "https://localhost:8080/"
        },
        "id": "4H_vAhk0A1e4",
        "outputId": "ba1a043c-257b-4f3c-cf4c-8fb1abf73797"
      },
      "execution_count": null,
      "outputs": [
        {
          "output_type": "execute_result",
          "data": {
            "text/plain": [
              "[1, 3, 0, 1]"
            ]
          },
          "metadata": {},
          "execution_count": 101
        }
      ]
    },
    {
      "cell_type": "code",
      "source": [
        "[95, 90, 99, 99, 80, 91, 50, 61, 65, 46, 13, 13, 51, 4,],\n",
        "[1,  1,  1,  1,  1,  70, 60, 80, 50, 30, 50, 12, 13, 1]"
      ],
      "metadata": {
        "id": "6r23sgdzKLTH"
      },
      "execution_count": null,
      "outputs": []
    },
    {
      "cell_type": "code",
      "source": [
        "def solution(n):\n",
        "    for i in range(1,10):\n",
        "        print(f'{n} * {i} = {n*i}')\n",
        "\n",
        "solution(int(input()))"
      ],
      "metadata": {
        "colab": {
          "base_uri": "https://localhost:8080/"
        },
        "id": "J9fc2Cmr6TA1",
        "outputId": "dfd2c872-a5d9-48b0-e881-8cb6f3bfbb6d"
      },
      "execution_count": null,
      "outputs": [
        {
          "output_type": "stream",
          "name": "stdout",
          "text": [
            "3\n",
            "3 * 1 = 3\n",
            "3 * 2 = 6\n",
            "3 * 3 = 9\n",
            "3 * 4 = 12\n",
            "3 * 5 = 15\n",
            "3 * 6 = 18\n",
            "3 * 7 = 21\n",
            "3 * 8 = 24\n",
            "3 * 9 = 27\n"
          ]
        }
      ]
    },
    {
      "cell_type": "code",
      "source": [
        "def solution(n):\n",
        "    j = 1\n",
        "    while j < 10:\n",
        "        print(f'{n} * {j} = {n * j}')\n",
        "        j += 1\n",
        "solution(int(input()))"
      ],
      "metadata": {
        "colab": {
          "base_uri": "https://localhost:8080/"
        },
        "id": "rR8Y2pP66Wzv",
        "outputId": "64343781-e959-4063-9b05-ac8e06a98b87"
      },
      "execution_count": null,
      "outputs": [
        {
          "output_type": "stream",
          "name": "stdout",
          "text": [
            "3\n",
            "3 * 1 = 3\n",
            "3 * 2 = 6\n",
            "3 * 3 = 9\n",
            "3 * 4 = 12\n",
            "3 * 5 = 15\n",
            "3 * 6 = 18\n",
            "3 * 7 = 21\n",
            "3 * 8 = 24\n",
            "3 * 9 = 27\n"
          ]
        }
      ]
    },
    {
      "cell_type": "code",
      "source": [
        "def solution(n, m):\n",
        "    큰수 = max(n,m)\n",
        "    작은수 = min(n,m)\n",
        "    while True:\n",
        "        나머지 = 큰수 % 작은수\n",
        "        큰수 = 작은수\n",
        "        작은수 = 나머지\n",
        "        if 나머지 == 0:\n",
        "            break\n",
        "    최소공배수 = int((n * m) / 큰수)\n",
        "    return 큰수, 최소공배수\n",
        "\n",
        "print(solution(3, 12))\n",
        "print(solution(64, 48))"
      ],
      "metadata": {
        "colab": {
          "base_uri": "https://localhost:8080/"
        },
        "id": "j_n_1N5HDQTh",
        "outputId": "8baa2e54-7ad4-4bae-f38e-53a994d76244"
      },
      "execution_count": null,
      "outputs": [
        {
          "output_type": "stream",
          "name": "stdout",
          "text": [
            "(3, 12)\n",
            "(16, 192)\n"
          ]
        }
      ]
    },
    {
      "cell_type": "code",
      "source": [
        "def solution(n, m):\n",
        "    큰수, 작은수 = max(n,m), min(n,m)\n",
        "    나머지 = 1\n",
        "    while 나머지:\n",
        "        나머지 = 큰수 % 작은수\n",
        "        큰수, 작은수 = 작은수, 나머지\n",
        "\n",
        "    최소공배수 = int((n * m) / 큰수)\n",
        "    return 큰수, 최소공배수\n",
        "\n",
        "print(solution(3, 12))\n",
        "print(solution(64, 48))"
      ],
      "metadata": {
        "colab": {
          "base_uri": "https://localhost:8080/"
        },
        "id": "WSkiiATMcJOf",
        "outputId": "b950d22b-234a-4baa-ac90-646bc6d022cd"
      },
      "execution_count": null,
      "outputs": [
        {
          "output_type": "stream",
          "name": "stdout",
          "text": [
            "(3, 12)\n",
            "(16, 192)\n"
          ]
        }
      ]
    },
    {
      "cell_type": "code",
      "source": [
        "def solution(루트):\n",
        "    루트 = sorted(루트, key=lambda x:x[1])\n",
        "    카메라 = 1\n",
        "    sa = 루트[0][1]\n",
        "    for i in range(0,len(루트)):\n",
        "        if sa >= 루트[i][0]:\n",
        "            continue\n",
        "        else:\n",
        "            카메라 +=1\n",
        "            sa = 루트[i][1]\n",
        "    return 카메라\n",
        "\n",
        "\n",
        "solution([[-20, -15], [-18, -13], [-14, -5], [-5, -3]])\n",
        "solution([[-18,-13],[-19,-16],[-3,4],[-19,-11],[5,8]])"
      ],
      "metadata": {
        "id": "Hc166xgwtXav",
        "colab": {
          "base_uri": "https://localhost:8080/"
        },
        "outputId": "cf335c24-9b7a-4bc8-94af-ab21a724cf4f"
      },
      "execution_count": null,
      "outputs": [
        {
          "output_type": "execute_result",
          "data": {
            "text/plain": [
              "3"
            ]
          },
          "metadata": {},
          "execution_count": 4
        }
      ]
    },
    {
      "cell_type": "code",
      "source": [
        "def solution(maps):\n",
        "    행_끝 = len(maps)\n",
        "    열_끝 = len(maps[0])\n",
        "    maps[0][0] = float(\"inf\") # 처음 시작위치를 다시 탐색하는것을 막기 위해\n",
        "    queue = [1,0,0]\n",
        "    while queue:\n",
        "        몇칸, 행, 열 = queue.pop(0), queue.pop(0), queue.pop(0)\n",
        "        for 행방향, 열방향 in ((-1,0), (0,1), (1,0) ,(0,-1)):   #(-1,0) 북쪽, (0,1) 동쪽, (1,0)남쪽 ,(0,-1)서쪽\n",
        "            새로운행 = 행 + 행방향\n",
        "            새로운열 = 열 + 열방향\n",
        "            if 새로운행 in range(행_끝) and 새로운열 in range(열_끝) and maps[새로운행][새로운열] == 0:\n",
        "                if 몇칸 + 1 >= maps[새로운행][새로운열] and  maps[새로운행][새로운열] == 0:\n",
        "                    maps[새로운행][새로운열] = 몇칸 +1\n",
        "                    queue.append(maps[새로운행][새로운열])\n",
        "                    queue.append(새로운행)\n",
        "                    queue.append(새로운열)\n",
        "                    [print(i) for i in maps]\n",
        "                    print('')\n",
        "    return '이동불가' if maps[행_끝 -1][열_끝 -1] == 1 else maps[행_끝 -1][열_끝 -1]\n",
        "\n",
        "print(solution([[0,0,0,0,0,0,0,1],[0,0,0,0,0,0,0,0],[0,0,0,0,0,1,0,0],[0,0,0,0,1,0,0,0],[0,0,0,1,0,0,0,1],[0,0,1,0,0,0,1,0],[0,1,0,0,0,1,0,0],[1,0,0,0,0,0,0,0]]))"
      ],
      "metadata": {
        "id": "mfnPUoN8vGP6"
      },
      "execution_count": null,
      "outputs": []
    },
    {
      "cell_type": "code",
      "source": [
        "def solution(배열):\n",
        "    결과 = []\n",
        "    for i in 배열:\n",
        "    if len(결과) == 0 or i != 결과[-1]:\n",
        "결과.append(i)\n",
        "return 결과"
      ],
      "metadata": {
        "id": "9i3UQujz1u_Z"
      },
      "execution_count": null,
      "outputs": []
    },
    {
      "cell_type": "code",
      "source": [
        "# 연결리스트 pop() & find ()\n",
        "\n",
        "class Node:\n",
        "    def __init__(self, data):\n",
        "        self.data = data\n",
        "        self. next = None\n",
        "\n",
        "class LinkedList:\n",
        "    def __init__(self):\n",
        "        init = Node ('init')\n",
        "        self.head = init\n",
        "        self.tail = init\n",
        "\n",
        "        self. 현재노드 = None\n",
        "        self. 데이터수 = 0\n",
        "\n",
        "    def __len__(self):\n",
        "        return self. 데이터수\n",
        "\n",
        "    def __str__(self):\n",
        "        현재노드 = self.head\n",
        "        현재노드 = 현재노드.next\n",
        "        s = ''\n",
        "\n",
        "        for i in range(self.데이터수):\n",
        "            s += f'{현재노드.data}, '\n",
        "            현재노드 = 현재노드.next\n",
        "\n",
        "        return f'[{s[:-2]}]'\n",
        "\n",
        "    def append(self, data):\n",
        "        새로운노드 = Node(data)\n",
        "        self.tail.next = 새로운노드\n",
        "        self.tail = 새로운노드\n",
        "        self.데이터수 += 1\n",
        "\n",
        "    def pop(self):\n",
        "        마지막값 = self.tail.data\n",
        "        현재노드 = self.head\n",
        "\n",
        "        for i in range(self.데이터수):\n",
        "            if 현재노드.next is self.tail:\n",
        "                self.tial = 현재노드\n",
        "                break\n",
        "            현재노드 = 현재노드.next\n",
        "        self.데이터수 -= 1\n",
        "        return 마지막값\n",
        "\n",
        "    def find(self, data):\n",
        "        index = -1\n",
        "        현재노드 = self.head\n",
        "\n",
        "        for i in range(self.데이터수+1):\n",
        "            if 현재노드.data is data:\n",
        "                return index\n",
        "            index += 1\n",
        "            현재노드 = 현재노드.next\n",
        "\n",
        "        return -1"
      ],
      "metadata": {
        "id": "CPr3cs_q17NO"
      },
      "execution_count": null,
      "outputs": []
    },
    {
      "cell_type": "code",
      "source": [
        "# 연결리스트 반복문과 insert()\n",
        "\n",
        "class Node:\n",
        "    def __init__(self, data):\n",
        "        self.data = data\n",
        "        self. next = None\n",
        "\n",
        "class LinkedList:\n",
        "    def __init__(self):\n",
        "        init = Node ('init')\n",
        "        self.head = init\n",
        "        self.tail = init\n",
        "\n",
        "        self. 현재노드 = None\n",
        "        self. 데이터수 = 0\n",
        "\n",
        "    def __len__(self):\n",
        "        return self. 데이터수\n",
        "\n",
        "    def __str__(self):\n",
        "        현재노드 = self.head\n",
        "        현재노드 = 현재노드.next\n",
        "        s = ''\n",
        "\n",
        "        for i in range(self.데이터수):\n",
        "            s += f'{현재노드.data}, '\n",
        "            현재노드 = 현재노드.next\n",
        "\n",
        "        return f'[{s[:-2]}]'\n",
        "\n",
        "    def __iter__(self):\n",
        "        현재노드 = self.head\n",
        "        현재노드 = 현재노드.next\n",
        "        while 현재노드:\n",
        "            yield 현재노드.data\n",
        "            현재노드 = 현재노드.next\n",
        "\n",
        "    def append(self, data):\n",
        "        새로운노드 = Node(data)\n",
        "        self.tail.next = 새로운노드\n",
        "        self.tail = 새로운노드\n",
        "        self.데이터수 += 1\n",
        "\n",
        "    def insert(self, input_index, input_data):\n",
        "        현재노드 = self.head\n",
        "\n",
        "        for i in range(input_index):\n",
        "            현재노드 = 현재노드.next\n",
        "\n",
        "        신규노드 = Node(input_data)\n",
        "        신규노드.next = 현재노드.next\n",
        "        현재노드.next = 신규노드\n",
        "\n",
        "        self.데이터수 += 1\n",
        "\n",
        "    def pop(self):\n",
        "        마지막값 = self.tail.data\n",
        "        현재노드 = self.head\n",
        "\n",
        "        for i in range(self.데이터수):\n",
        "            if 현재노드.next is self.tail:\n",
        "                self.tial = 현재노드\n",
        "                break\n",
        "            현재노드 = 현재노드.next\n",
        "        self.데이터수 -= 1\n",
        "        return 마지막값\n",
        "\n",
        "    def find(self, data):\n",
        "        index = -1\n",
        "        현재노드 = self.head\n",
        "\n",
        "        for i in range(self.데이터수+1):\n",
        "            if 현재노드.data is data:\n",
        "                return index\n",
        "            index += 1\n",
        "            현재노드 = 현재노드.next\n",
        "\n",
        "        return -1"
      ],
      "metadata": {
        "id": "weBC-wCF2CAJ"
      },
      "execution_count": null,
      "outputs": []
    },
    {
      "cell_type": "markdown",
      "source": [
        "# 트리"
      ],
      "metadata": {
        "id": "SKnB_DS53wet"
      }
    },
    {
      "cell_type": "code",
      "source": [
        "# 트리 전위순회\n",
        "\n",
        "def 전위순회(node):\n",
        "    if node is None:\n",
        "        return\n",
        "\n",
        "    # 현재 노드의 value 찍어주기\n",
        "    print(node.val, end=' ')\n",
        "    # 좌, 우측 자식\n",
        "    전위순회(node.left)\n",
        "    전위순회(node.right)\n",
        "\n",
        "전위순회(node1)"
      ],
      "metadata": {
        "id": "jgQom2G33rxF"
      },
      "execution_count": null,
      "outputs": []
    },
    {
      "cell_type": "code",
      "source": [
        "# 트리 중위순회\n",
        "\n",
        "def 중위순회(node):\n",
        "    if node is None:\n",
        "        return\n",
        "\n",
        "    중위순회(node.left)\n",
        "    print(node.val, end=' ')\n",
        "    중위순회(node.right)\n",
        "\n",
        "중위순회(node1)"
      ],
      "metadata": {
        "id": "sy9MRW4l3z6A"
      },
      "execution_count": null,
      "outputs": []
    },
    {
      "cell_type": "code",
      "source": [
        "# 트리 후위순위\n",
        "\n",
        "def 후위순회(node):\n",
        "    if node is None:\n",
        "        return\n",
        "\n",
        "    후위순회(node.left)\n",
        "    후위순회(node.right)\n",
        "    print(node.val, end=' ')\n",
        "\n",
        "후위순회(node1)"
      ],
      "metadata": {
        "id": "Ls32LJw132VI"
      },
      "execution_count": null,
      "outputs": []
    },
    {
      "cell_type": "markdown",
      "source": [
        "# 스택\n"
      ],
      "metadata": {
        "id": "IlVcp-0E4A_p"
      }
    },
    {
      "cell_type": "code",
      "source": [
        "# 스택 파이썬의 스택\n",
        "\n",
        "def solution(배열):\n",
        "    결과 = []\n",
        "    for i in 배열:\n",
        "        if len(결과) == 0 or i != 결과[-1]:\n",
        "            결과.append(i)\n",
        "    return 결과"
      ],
      "metadata": {
        "id": "UKi4F_fG4CSS"
      },
      "execution_count": null,
      "outputs": []
    },
    {
      "cell_type": "markdown",
      "source": [
        "# 그리디"
      ],
      "metadata": {
        "id": "3LLTYzJC4Kn2"
      }
    },
    {
      "cell_type": "code",
      "source": [
        "# 그리디 연습문제\n",
        "\n",
        "def solution(거스름_돈):\n",
        "    배열 = [500, 100, 50, 10]\n",
        "    동전_개수 = 0\n",
        "\n",
        "    for 동전 in 배열:\n",
        "        동전_개수 += 거스름_돈 // 동전\n",
        "        거스름_돈 %= 동전\n",
        "\n",
        "    return 동전_개수"
      ],
      "metadata": {
        "id": "RPtGIKK_4KW6"
      },
      "execution_count": null,
      "outputs": []
    },
    {
      "cell_type": "code",
      "source": [
        "# 그리디 레벨1 문제풀이\n",
        "\n",
        "def solution(단원_수, 분실_단원, 여벌_단원):\n",
        "    결괏값 = 0\n",
        "    분실_재단원 = set(분실_단원) - set(여벌_단원)\n",
        "    여벌_재단원 = set(여벌_단원) - set(분실_단원)\n",
        "\n",
        "    for 단원 in 여벌_재단원:\n",
        "        if 단원 - 1 in 분실_재단원:\n",
        "            분실_재단원.remove(단원 - 1)\n",
        "        elif 단원 + 1 in 분실_재단원:\n",
        "            분실_재단원.remove(단원 + 1)\n",
        "    결괏값 = 단원_수 - len(분실_재단원)\n",
        "    return 결괏값"
      ],
      "metadata": {
        "id": "ORN7DFkB4QHt"
      },
      "execution_count": null,
      "outputs": []
    },
    {
      "cell_type": "code",
      "source": [
        "# 그리디 레벨2 문제풀이\n",
        "\n",
        "def solution (사람들, 제한):\n",
        "    결과 = 0\n",
        "    사람들.sort()\n",
        "    최소_몸무게 = 0\n",
        "    최대_몸무게 = len(사람들) -1\n",
        "\n",
        "    while 최소_몸무게 <= 최대_몸무게:\n",
        "        if 사람들[최소_몸무게] + 사람들[최대_몸무게] <= 제한:\n",
        "            결과 += 1\n",
        "            최소_몸무게 += 1\n",
        "            최대_몸무게 -= 1\n",
        "        else:\n",
        "            결과 += 1\n",
        "            최대_몸무게 -= 1\n",
        "    return 결과"
      ],
      "metadata": {
        "id": "R88_I_1B4ZMT"
      },
      "execution_count": null,
      "outputs": []
    },
    {
      "cell_type": "code",
      "source": [
        "import math\n",
        "print() # >>> 7\n",
        "def solution(n, m):\n",
        "    return math.gcd(n, m), int((n * m) / math.gcd(n, m))\n",
        "\n",
        "print(solution(3, 12))\n",
        "print(solution(64, 48))"
      ],
      "metadata": {
        "id": "6-GCIc8x7PhP",
        "colab": {
          "base_uri": "https://localhost:8080/"
        },
        "outputId": "9a30abfb-1eb1-482b-a1f2-a941b55685ea"
      },
      "execution_count": null,
      "outputs": [
        {
          "output_type": "stream",
          "name": "stdout",
          "text": [
            "\n",
            "(3, 12)\n",
            "(16, 192)\n"
          ]
        }
      ]
    },
    {
      "cell_type": "code",
      "source": [
        "def solution(n, m):\n",
        "    큰수 = max(n,m)\n",
        "    작은수 = min(n,m)\n",
        "    while True:\n",
        "        나머지 = 큰수 % 작은수\n",
        "        큰수 = 작은수\n",
        "        작은수 = 나머지\n",
        "        if 나머지 == 0:\n",
        "            break\n",
        "    최소공배수 = int((n * m) / 큰수)\n",
        "    return 큰수, 최소공배수\n",
        "\n",
        "print(solution(3, 12))\n",
        "print(solution(64, 48))"
      ],
      "metadata": {
        "id": "YBcv-vgB9CoY"
      },
      "execution_count": null,
      "outputs": []
    },
    {
      "cell_type": "code",
      "source": [
        "import math\n",
        "def solution(w,h):\n",
        "    return w + h - math.gcd(w,h)\n",
        "solution(8,12)"
      ],
      "metadata": {
        "colab": {
          "base_uri": "https://localhost:8080/"
        },
        "id": "dfuQLf8CBUBF",
        "outputId": "f4dce297-8ba2-4b3f-803b-73ac9d54ab9d"
      },
      "execution_count": null,
      "outputs": [
        {
          "output_type": "execute_result",
          "data": {
            "text/plain": [
              "16"
            ]
          },
          "metadata": {},
          "execution_count": 14
        }
      ]
    },
    {
      "cell_type": "code",
      "source": [
        "import math\n",
        "print(f'올림 12.4: {math.ceil(12.4)}')\n",
        "print(f'내림 12.4: {math.floor(12.4)}')\n",
        "print(f'제곱 2^5 :{math.pow(2,5)}')\n",
        "print(f'제곱근 9: {math.sqrt(9)}')\n",
        "print(f'최대공약수(8,12) :{math.gcd(8,14)}')"
      ],
      "metadata": {
        "id": "P2H6xHRJE4F3",
        "colab": {
          "base_uri": "https://localhost:8080/"
        },
        "outputId": "613866de-24c6-480f-ecb5-e56169349303"
      },
      "execution_count": null,
      "outputs": [
        {
          "output_type": "stream",
          "name": "stdout",
          "text": [
            "올림 12.4: 13\n",
            "내림 12.4: 12\n",
            "제곱 2^5 :32.0\n",
            "제곱근 9: 3.0\n",
            "최대공약수(8,12) :2\n"
          ]
        }
      ]
    },
    {
      "cell_type": "code",
      "source": [
        "import math\n",
        "print(f'올림 12.4: {math.ceil(12.4)}')\n",
        "print(f'내림 12.4: {math.floor(12.4)}')\n",
        "print(f'제곱 2^5 :{math.pow(2,5)}')\n",
        "print(f'제곱근 9: {math.sqrt(9)}')\n",
        "print(f'최대공약수(8,12) :{math.gcd(8,14)}')"
      ],
      "metadata": {
        "id": "roheoXx8rkJ8"
      },
      "execution_count": null,
      "outputs": []
    },
    {
      "cell_type": "code",
      "source": [
        "def gcd(n, m):\n",
        "    큰수 = max(n,m)\n",
        "    작은수 = min(n,m)\n",
        "    while True:\n",
        "        나머지 = 큰수 % 작은수\n",
        "        큰수 = 작은수\n",
        "        작은수 = 나머지\n",
        "        if 나머지 == 0:\n",
        "            break\n",
        "    return 큰수\n",
        "def solution(w,h):\n",
        "    return w + h - gcd(w,h)\n",
        "solution(8,12)"
      ],
      "metadata": {
        "colab": {
          "base_uri": "https://localhost:8080/"
        },
        "id": "ZYIWPP5CvyM2",
        "outputId": "0807aaa8-ecd8-457f-b8a7-75440249c96f"
      },
      "execution_count": null,
      "outputs": [
        {
          "output_type": "execute_result",
          "data": {
            "text/plain": [
              "16"
            ]
          },
          "metadata": {},
          "execution_count": 3
        }
      ]
    },
    {
      "cell_type": "code",
      "source": [],
      "metadata": {
        "id": "PlpK84CBwBCS"
      },
      "execution_count": null,
      "outputs": []
    }
  ]
}