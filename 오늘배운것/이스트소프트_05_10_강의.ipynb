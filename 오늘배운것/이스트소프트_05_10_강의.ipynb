{
  "nbformat": 4,
  "nbformat_minor": 0,
  "metadata": {
    "colab": {
      "provenance": [],
      "toc_visible": true,
      "authorship_tag": "ABX9TyPYC+8dGi8O4cODShB0b1VX",
      "include_colab_link": true
    },
    "kernelspec": {
      "name": "python3",
      "display_name": "Python 3"
    },
    "language_info": {
      "name": "python"
    }
  },
  "cells": [
    {
      "cell_type": "markdown",
      "metadata": {
        "id": "view-in-github",
        "colab_type": "text"
      },
      "source": [
        "<a href=\"https://colab.research.google.com/github/RyuHyeonghwan/BackendOrmi/blob/main/%EC%9D%B4%EC%8A%A4%ED%8A%B8%EC%86%8C%ED%94%84%ED%8A%B8_05_10_%EA%B0%95%EC%9D%98.ipynb\" target=\"_parent\"><img src=\"https://colab.research.google.com/assets/colab-badge.svg\" alt=\"Open In Colab\"/></a>"
      ]
    },
    {
      "cell_type": "code",
      "source": [
        "숫자 = [1, 2, 3, 4, 5]\n",
        "승수 = [2, 2, 2, 3, 3]\n",
        "\n",
        "#문제\n",
        "#1. 숫자의 승수를 zip으로 맵핑해서 진행하세요.\n",
        "#2. 숫자를 승수만큼 제곱하여 결과값을 표현해주세요.\n",
        "#3. 승수한 값이 100이상인 값을 출력하세요.\n",
        "#4. 승수한 값을 모두 더하세요.\n",
        "\n",
        "# Q1\n",
        "# Q1.1\n",
        "data = list(zip(숫자, 승수))\n",
        "\n",
        "# Q1.2 (list comprehension)\n",
        "data = [i for i in range(len(숫자))]\n",
        "###\n",
        "data = [(숫자[i], 승수[i]) for i in range(len(숫자))]\n",
        "data\n",
        "\n",
        "\n",
        "# Q2\n",
        "# Q2.1\n",
        "l = []\n",
        "for i in data:\n",
        "    l.append(i[0] ** i[1])\n",
        "print(l)\n",
        "\n",
        "# Q2.2\n",
        "def f(x):\n",
        "    return x[0] ** x[1]\n",
        "\n",
        "print(list(map(f, data)))\n",
        "\n",
        "# Q2.3\n",
        "print(list(map(lambda x:x[0] ** x[1], data)))\n",
        "\n",
        "# Q2.4\n",
        "print(list(map(lambda x:pow(x[0], x[1]), data)))\n",
        "\n",
        "# Q2.5 (list comprehension)\n",
        "[i for i in data]\n",
        "[i[0] ** i[1] for i in data] # 공간을 바로 할당해버립니다.\n",
        "\n",
        "# Q3\n",
        "# Q3.1\n",
        "l = []\n",
        "for i in map(lambda x:x[0] ** x[1], data):\n",
        "    if i >= 100:\n",
        "        l.append(i)\n",
        "print(l)\n",
        "\n",
        "# Q3.2\n",
        "def f(x):\n",
        "    return x > 100\n",
        "data2 = map(lambda x:x[0] ** x[1], data)\n",
        "print(list(filter(f, data2)))\n",
        "\n",
        "# Q3.3\n",
        "data2 = map(lambda x:x[0] ** x[1], data)\n",
        "print(list(filter(lambda x:x>=100, data2)))\n",
        "\n",
        "# Q3.4\n",
        "# list(filter(lambda x:x>=100, [1, 4, 9, 64, 125]))\n",
        "print(list(filter(lambda x:x>=100, map(lambda x:x[0] ** x[1], data))))\n",
        "\n",
        "# Q3.5\n",
        "print([i[0] ** i[1] for i in data if i[0] ** i[1] >= 100])\n",
        "\n",
        "# Q4\n",
        "sum(map(lambda x:x[0] ** x[1], data))"
      ],
      "metadata": {
        "colab": {
          "base_uri": "https://localhost:8080/"
        },
        "id": "o1_ybWZsTI8J",
        "outputId": "146f7159-b201-46b3-97aa-1da3537e379d"
      },
      "execution_count": 4,
      "outputs": [
        {
          "output_type": "stream",
          "name": "stdout",
          "text": [
            "[1, 4, 9, 64, 125]\n",
            "[1, 4, 9, 64, 125]\n",
            "[1, 4, 9, 64, 125]\n",
            "[1, 4, 9, 64, 125]\n",
            "[125]\n",
            "[125]\n",
            "[125]\n",
            "[125]\n",
            "[125]\n"
          ]
        },
        {
          "output_type": "execute_result",
          "data": {
            "text/plain": [
              "203"
            ]
          },
          "metadata": {},
          "execution_count": 4
        }
      ]
    },
    {
      "cell_type": "markdown",
      "source": [
        "## class"
      ],
      "metadata": {
        "id": "Ql-s8yqjBaFq"
      }
    },
    {
      "cell_type": "markdown",
      "source": [
        "현실              코드\n",
        "\n",
        "차-----------> \n",
        "\n",
        "클래스는 "
      ],
      "metadata": {
        "id": "JeTQzRCgBe5c"
      }
    },
    {
      "cell_type": "code",
      "execution_count": 3,
      "metadata": {
        "id": "z1rgnZ6NA30W",
        "colab": {
          "base_uri": "https://localhost:8080/"
        },
        "outputId": "b6842abd-16c9-46ba-a254-4b0d5bcc872e"
      },
      "outputs": [
        {
          "output_type": "stream",
          "name": "stdout",
          "text": [
            "400 의 스피드로 움직이고 있습니다.\n",
            "멈췄습니다.\n",
            "5 의 스피드로 움직이고 있습니다.\n",
            "멈췄습니다.\n",
            "300\n",
            "300\n"
          ]
        }
      ],
      "source": [
        "class Car_Factory(object): #앞 부분을 대문자로 사용합니다.\n",
        "\tMax_Speed = 300\n",
        "\tMax_People = 5\n",
        "\tdef move(self, x):\n",
        "\t\tprint(x, '의 스피드로 움직이고 있습니다.')# 함수와 함수사이에는 한줄 띄고 해야한다.\n",
        "        #아래 self는 스스로를 가리키기에\n",
        "        #self는 인스턴스를 가리킵니다.\n",
        "  \n",
        "\tdef stop(self):\n",
        "\t\tprint('멈췄습니다.')\n",
        "\n",
        "k5 = Car_Factory() # 붕어빵 k3(인스턴스) = 붕어빵틀 Car_Factory()(클래스)\n",
        "k3 = Car_Factory() #차(인스턴스) = 자동차공장 Car_Factory()(클래스)\n",
        "k5.move(300)\n",
        "k5.stop()\n",
        "k3.move(5)\n",
        "k3.stop()\n",
        "#print(Car.Max_Speed)# 클래스를 바로 접근하는것은 좋지 않습니다.\n",
        "\n",
        "print(k5.Max_Speed)\n",
        "print(k3.Max_Speed)"
      ]
    },
    {
      "cell_type": "code",
      "source": [
        "class Car_Factory(object): #앞 부분을 대문자로 사용합니다.\n",
        "\tMax_Speed = 300\n",
        "\tMax_People = 5\n",
        "\tdef move(self, x):\n",
        "\t\tprint(x, '의 스피드로 움직이고 있습니다.')# 함수와 함수사이에는 한줄 띄고 해야한다.\n",
        "        #아래 self는 스스로를 가리키기에\n",
        "        #self는 인스턴스를 가리킵니다.\n",
        "  \n",
        "\tdef stop(self):\n",
        "\t\tprint('멈췄습니다.')\n",
        "\n",
        "k5 = Car_Factory() # 붕어빵 k3(인스턴스) = 붕어빵틀 Car_Factory()(클래스)\n",
        "k3 = Car_Factory() #차(인스턴스) = 자동차공장 Car_Factory()(클래스)\n",
        "k5.move(300)\n",
        "k5.stop()\n",
        "k3.move(5)\n",
        "k3.stop()\n",
        "#print(Car.Max_Speed)# 클래스를 바로 접근하는것은 좋지 않습니다.\n",
        "\n",
        "print(k5.Max_Speed)\n",
        "print(k3.Max_Speed)"
      ],
      "metadata": {
        "id": "j8RdEurfCyVQ"
      },
      "execution_count": null,
      "outputs": []
    },
    {
      "cell_type": "code",
      "source": [
        "class list(object):\n",
        "    def __add__(self):\n",
        "        pass\n",
        "    def __class__(self):\n",
        "        pass\n",
        "    def __class_getitem__(self):\n",
        "        pass\n",
        "    def __eq__(self):\n",
        "        pass\n",
        "    def __ge__(self):\n",
        "        pass \n",
        "    # ... 생략 ...\n",
        "    def append(self):\n",
        "        pass\n",
        "    def clear(self):\n",
        "        pass\n",
        "    def copy(self):\n",
        "        pass\n",
        "    def count(self):\n",
        "        pass\n",
        "    def extend(self):\n",
        "        pass\n",
        "    def index(self):\n",
        "        pass\n",
        "    # ... 생략 ..."
      ],
      "metadata": {
        "id": "BGRb571EIzNa"
      },
      "execution_count": null,
      "outputs": []
    },
    {
      "cell_type": "code",
      "source": [
        "class Car(object):\n",
        "    kinds = []\n",
        "    speed = 300\n",
        "    def add_kinds(self, name):\n",
        "        self.kinds.append(name)\n",
        "    def change_speed(self, speed):\n",
        "        self.speed = speed\n",
        "\n",
        "k5 = Car()\n",
        "k3 = Car()\n",
        "k5.add_kinds('k5')\n",
        "k3.add_kinds('k3')\n",
        "\n",
        "print('k5.kinds:', k5.kinds)\n",
        "print('k3.kinds:', k3.kinds)\n",
        "print('k5.speed:', k5.speed)\n",
        "print('k3.speed:', k3.speed)\n",
        "k5.speed = 500\n",
        "print(k3.speed)"
      ],
      "metadata": {
        "colab": {
          "base_uri": "https://localhost:8080/"
        },
        "id": "AvOzhtFKV1w8",
        "outputId": "f0faab72-574f-49e0-9ed0-b2dacc754c2e"
      },
      "execution_count": 10,
      "outputs": [
        {
          "output_type": "stream",
          "name": "stdout",
          "text": [
            "k5.kinds: ['k5', 'k3']\n",
            "k3.kinds: ['k5', 'k3']\n",
            "k5.speed: 300\n",
            "k3.speed: 300\n",
            "300\n"
          ]
        }
      ]
    },
    {
      "cell_type": "code",
      "source": [
        "주인공 = ['licat', 10000]\n",
        "class MobFactory(object):\n",
        "    def __init__(self,이름, 체력,공격력, 마력, 크기_넓이, 크기_높이, 아이템확률, x,y):\n",
        "        self.name = 이름\n",
        "        self.hp = 체력\n",
        "        self.power = 공격력\n",
        "        self.mp = 마력\n",
        "        self.width = 크기_넓이\n",
        "        self.heigh = 크기_높이\n",
        "        self.dr = 아이템확률\n",
        "        self.x = x\n",
        "        self.y = y\n",
        "\n",
        "    def __add__(self,next):\n",
        "        if self.name =='슬라임'\n",
        "        return MobFactory(f'왕{self.name ,next.name}',1,100,100,2,2,100,1,1)\n",
        "\n",
        "    def attack(self):\n",
        "        주인공[1] -= self.power\n",
        "        print(f'{self.name}이 {self.power}데미지로 공격했습니다.')\n",
        "        print(f'주인공의 체력이 {주인공[1]}가 되었습니다.')\n",
        "\n",
        "오크 = MobFactory('슬라임',1,100,100,2,2,100,1,1)\n",
        "고블린 = MobFactory('슬라임',12,100,100,2,2,10,1,10)\n",
        "드래곤 = MobFactory('드래곤',10000000,10000,10000,100,100,10,1,1)\n",
        "해골 = MobFactory('슬라임',10,100,100,2,2,1,1,1)"
      ],
      "metadata": {
        "id": "QoHuq6jnbDAS"
      },
      "execution_count": 15,
      "outputs": []
    },
    {
      "cell_type": "code",
      "source": [
        "드래곤.attack()"
      ],
      "metadata": {
        "colab": {
          "base_uri": "https://localhost:8080/"
        },
        "id": "_gkI9fSzeTwf",
        "outputId": "9544f459-5978-4d2c-b662-12856027d67b"
      },
      "execution_count": 16,
      "outputs": [
        {
          "output_type": "stream",
          "name": "stdout",
          "text": [
            "드래곤이 10000데미지로 공격했습니다.\n",
            "주인공의 체력이 0가 되었습니다.\n"
          ]
        }
      ]
    },
    {
      "cell_type": "code",
      "source": [
        "몬스터 = ['드래곤',10000]\n",
        "class HeroFactory(object):\n",
        "    def __init__(self,이름, 체력,공격력, 마력, 크기_넓이, 크기_높이,스킬, 스킬데미지,소모마나, x,y):\n",
        "        self.Hero_name = 이름\n",
        "        self.Hero_hp = 체력\n",
        "        self.Hero_power = 공격력\n",
        "        self.Hero_mp = 마력\n",
        "        self.Hero_width = 크기_넓이\n",
        "        self.Hero_heigh = 크기_높이\n",
        "        self.Hero_sk = 스킬\n",
        "        self.Hero_skd = 스킬데미지\n",
        "        self.sk_mp = 소모마나\n",
        "        self.Hero_x = x\n",
        "        self.Hero_y = y\n",
        "\n",
        "    def attack(self):\n",
        "        몬스터[1] -= self.power\n",
        "        print(f'{self.name}이 {self.power}데미지로 공격했습니다.')\n",
        "        print(f'주인공의 체력이 {주인공[1]}가 되었습니다.')\n",
        "\n",
        "    def skill(self):\n",
        "        몬스터[1] = 몬스터[1] - (self.Hero_power * self.Hero_skd)\n",
        "        print(f'{self.Hero_name}이 {self.Hero_sk}데미지로 공격했습니다.')\n",
        "        print(f'몬스터의 체력이 {몬스터[1]}가 되었습니다.')\n",
        "        print(f'{self.Hero_name}의 마력이 {self.sk_mp}만큼 소비되어 {self.Hero_mp - self.sk_mp}가 되었습니다.')\n",
        "\n",
        "\n",
        "licat = HeroFactory(이름 ='licat',체력 = 10000,공격력 = 100, 마력 = 100, 크기_넓이 = 2, 크기_높이 = 2,스킬 = '강펀치',스킬데미지 = 3,소모마나 = 5,x = 1, y = 1)\n",
        "mura = HeroFactory(이름 ='mura',체력 = 10000,공격력 = 100, 마력 = 100, 크기_넓이 = 2, 크기_높이 = 2,스킬 = '강펀치',스킬데미지 = 3, 소모마나 = 5,x = 1, y = 1)\n",
        "\n",
        "mura.skill()"
      ],
      "metadata": {
        "colab": {
          "base_uri": "https://localhost:8080/"
        },
        "id": "4aA5H87xetn1",
        "outputId": "1a7362eb-fe58-4bc4-d375-f58a5a276aa1"
      },
      "execution_count": 26,
      "outputs": [
        {
          "output_type": "stream",
          "name": "stdout",
          "text": [
            "mura이 강펀치데미지로 공격했습니다.\n",
            "몬스터의 체력이 9700가 되었습니다.\n",
            "mura의 마력이 5만큼 소비되어 95가 되었습니다.\n"
          ]
        }
      ]
    },
    {
      "cell_type": "code",
      "source": [
        "# 쉽고 중요한 예제!\n",
        "\n",
        "class BlogFactory(object):\n",
        "    def __init__(self, 제목, 내용, 조회수, 글쓴이, 생성날짜):\n",
        "        self.title = 제목\n",
        "        self.content = 내용\n",
        "        self.count = 조회수\n",
        "        self.writer = 글쓴이\n",
        "        self.create_date = 생성날짜\n",
        "\n",
        "게시글1 = BlogFactory(\n",
        "    '오늘 제주의 날씨',\n",
        "    '오늘 제주의 날씨는 참 좋네요! 블라블라',\n",
        "    '0',\n",
        "    '이호준',\n",
        "    '2023/05/10',\n",
        "    )\n",
        "\n",
        "게시글2 = BlogFactory(\n",
        "    '오늘 부산 날씨',\n",
        "    '오늘 부산의 날씨는 참 좋네요! 블라블라',\n",
        "    '100',\n",
        "    '김이도',\n",
        "    '2023/05/9',\n",
        "    )\n",
        "\n",
        "게시글3 = BlogFactory(\n",
        "    '오늘 강원도의 날씨',\n",
        "    '오늘 강원도의 날씨는 참 좋네요! 블라블라',\n",
        "    '200',\n",
        "    '이지수',\n",
        "    '2023/05/1',\n",
        "    )\n",
        "    \n",
        "\n",
        "게시글1.title\n",
        "게시글2.title\n",
        "게시글3.title"
      ],
      "metadata": {
        "colab": {
          "base_uri": "https://localhost:8080/",
          "height": 35
        },
        "id": "MIYw4Ui52aZs",
        "outputId": "fe115acf-10ae-499d-b127-d11bcbcf596b"
      },
      "execution_count": 28,
      "outputs": [
        {
          "output_type": "execute_result",
          "data": {
            "text/plain": [
              "'오늘 강원도의 날씨'"
            ],
            "application/vnd.google.colaboratory.intrinsic+json": {
              "type": "string"
            }
          },
          "metadata": {},
          "execution_count": 28
        }
      ]
    },
    {
      "cell_type": "code",
      "source": [
        "data = [게시글1,게시글2,게시글3]\n",
        "for i in data:\n",
        "    print(i.title)\n"
      ],
      "metadata": {
        "colab": {
          "base_uri": "https://localhost:8080/"
        },
        "id": "rUQbgO9x4G7Z",
        "outputId": "8b36a17d-a8f8-4604-ff48-c8e6b52eee3a"
      },
      "execution_count": 29,
      "outputs": [
        {
          "output_type": "stream",
          "name": "stdout",
          "text": [
            "오늘 제주의 날씨\n",
            "오늘 부산 날씨\n",
            "오늘 강원도의 날씨\n"
          ]
        }
      ]
    },
    {
      "cell_type": "code",
      "source": [
        "for i in data:\n",
        "    if i.writer =='이호준':\n",
        "        print(f'<h2>{i.title}</h2>')\n",
        "        print(f'<p>{i.content}</p>')\n",
        "        print(f'<p>{i.count}</p>')\n",
        "        print(f'<p>{i.create_date}</p>')"
      ],
      "metadata": {
        "colab": {
          "base_uri": "https://localhost:8080/"
        },
        "id": "sBHEDgP_4uul",
        "outputId": "eb75506c-3e4d-4e8d-bc27-23bb879e7bec"
      },
      "execution_count": 31,
      "outputs": [
        {
          "output_type": "stream",
          "name": "stdout",
          "text": [
            "<h2>오늘 제주의 날씨</h2>\n",
            "<p>오늘 제주의 날씨는 참 좋네요! 블라블라</p>\n",
            "<p>0</p>\n",
            "<p>2023/05/10</p>\n"
          ]
        }
      ]
    },
    {
      "cell_type": "code",
      "source": [
        "class BlogFactory(object):\n",
        "    dataset = []\n",
        "    def __init__(self, 제목, 내용, 조회수, 글쓴이, 생성날짜):\n",
        "        self.title = 제목\n",
        "        self.content = 내용\n",
        "        self.count = 조회수\n",
        "        self.writer = 글쓴이\n",
        "        self.create_date = 생성날짜\n",
        "        self.dataset.append(self)\n",
        "\n",
        "    def __str__(self):\n",
        "        return self.title\n",
        "\n",
        "게시글1 = BlogFactory(\n",
        "    '오늘 제주의 날씨',\n",
        "    '오늘 제주의 날씨는 참 좋네요! 블라블라',\n",
        "    '0',\n",
        "    '이호준',\n",
        "    '2023/05/10',\n",
        "    )\n",
        "\n",
        "게시글2 = BlogFactory(\n",
        "    '오늘 부산 날씨',\n",
        "    '오늘 부산의 날씨는 참 좋네요! 블라블라',\n",
        "    '100',\n",
        "    '김이도',\n",
        "    '2023/05/9',\n",
        "    )\n",
        "\n",
        "게시글3 = BlogFactory(\n",
        "    '오늘 강원도의 날씨',\n",
        "    '오늘 강원도의 날씨는 참 좋네요! 블라블라',\n",
        "    '200',\n",
        "    '이지수',\n",
        "    '2023/05/1',\n",
        "    )\n",
        "    \n",
        "\n",
        "for i in 게시글1.dataset:\n",
        "    print(i.title)"
      ],
      "metadata": {
        "colab": {
          "base_uri": "https://localhost:8080/"
        },
        "id": "tvSspufn5lQK",
        "outputId": "1e3739af-c5d8-44ff-9745-b4d61c64b376"
      },
      "execution_count": 36,
      "outputs": [
        {
          "output_type": "stream",
          "name": "stdout",
          "text": [
            "오늘 제주의 날씨\n",
            "오늘 부산 날씨\n",
            "오늘 강원도의 날씨\n"
          ]
        }
      ]
    },
    {
      "cell_type": "code",
      "source": [
        "class BlogFactory(object):\n",
        "    dataset = []\n",
        "    def __init__(self, 제목, 내용, 조회수, 글쓴이, 생성날짜):\n",
        "        self.title = 제목\n",
        "        self.content = 내용\n",
        "        self.count = 조회수\n",
        "        self.writer = 글쓴이\n",
        "        self.create_date = 생성날짜\n",
        "        self.dataset.append(self)\n",
        "\n",
        "    def __str__(self):\n",
        "        return f'{index.dataset}제목: {self.title} , 내용: {self.content[:5]} , 글쓴이: {self.writer}'\n",
        "\n",
        "        self.writer = 글쓴이\n",
        "\n",
        "\n",
        "게시글1 = BlogFactory(\n",
        "    '오늘 제주의 날씨',\n",
        "    '오늘 제주의 날씨는 참 좋네요! 블라블라',\n",
        "    '0',\n",
        "    '이호준',\n",
        "    '2023/05/10',\n",
        "    )\n",
        "\n",
        "게시글2 = BlogFactory(\n",
        "    '오늘 부산 날씨',\n",
        "    '오늘 부산의 날씨는 참 좋네요! 블라블라',\n",
        "    '100',\n",
        "    '김이도',\n",
        "    '2023/05/9',\n",
        "    )\n",
        "\n",
        "게시글3 = BlogFactory(\n",
        "    '오늘 강원도의 날씨',\n",
        "    '오늘 강원도의 날씨는 참 좋네요! 블라블라',\n",
        "    '200',\n",
        "    '이지수',\n",
        "    '2023/05/1',\n",
        "    )\n",
        "    \n",
        "\n",
        "for i in 게시글1.dataset:\n",
        "    print(i.title)"
      ],
      "metadata": {
        "colab": {
          "base_uri": "https://localhost:8080/"
        },
        "id": "4Uljovqg_YJr",
        "outputId": "1cb9648b-bc2a-4611-b7ce-a321f4d22304"
      },
      "execution_count": 42,
      "outputs": [
        {
          "output_type": "stream",
          "name": "stdout",
          "text": [
            "오늘 제주의 날씨\n",
            "오늘 부산 날씨\n",
            "오늘 강원도의 날씨\n"
          ]
        }
      ]
    },
    {
      "cell_type": "code",
      "source": [
        "print(게시글1)"
      ],
      "metadata": {
        "colab": {
          "base_uri": "https://localhost:8080/",
          "height": 287
        },
        "id": "i8Mzyfbl81QU",
        "outputId": "53b61119-b58a-4481-a8aa-4140d4116fc9"
      },
      "execution_count": 43,
      "outputs": [
        {
          "output_type": "error",
          "ename": "NameError",
          "evalue": "ignored",
          "traceback": [
            "\u001b[0;31m---------------------------------------------------------------------------\u001b[0m",
            "\u001b[0;31mNameError\u001b[0m                                 Traceback (most recent call last)",
            "\u001b[0;32m<ipython-input-43-6fd2712f38a8>\u001b[0m in \u001b[0;36m<cell line: 1>\u001b[0;34m()\u001b[0m\n\u001b[0;32m----> 1\u001b[0;31m \u001b[0mprint\u001b[0m\u001b[0;34m(\u001b[0m\u001b[0m게시글1\u001b[0m\u001b[0;34m)\u001b[0m\u001b[0;34m\u001b[0m\u001b[0;34m\u001b[0m\u001b[0m\n\u001b[0m",
            "\u001b[0;32m<ipython-input-42-8ad1b89717e2>\u001b[0m in \u001b[0;36m__str__\u001b[0;34m(self)\u001b[0m\n\u001b[1;32m     10\u001b[0m \u001b[0;34m\u001b[0m\u001b[0m\n\u001b[1;32m     11\u001b[0m     \u001b[0;32mdef\u001b[0m \u001b[0m__str__\u001b[0m\u001b[0;34m(\u001b[0m\u001b[0mself\u001b[0m\u001b[0;34m)\u001b[0m\u001b[0;34m:\u001b[0m\u001b[0;34m\u001b[0m\u001b[0;34m\u001b[0m\u001b[0m\n\u001b[0;32m---> 12\u001b[0;31m         \u001b[0;32mreturn\u001b[0m \u001b[0;34mf'{index.self.dataset(self.title)}제목: {self.title} , 내용: {self.content[:5]} , 글쓴이: {self.writer}'\u001b[0m\u001b[0;34m\u001b[0m\u001b[0;34m\u001b[0m\u001b[0m\n\u001b[0m\u001b[1;32m     13\u001b[0m \u001b[0;34m\u001b[0m\u001b[0m\n\u001b[1;32m     14\u001b[0m         \u001b[0mself\u001b[0m\u001b[0;34m.\u001b[0m\u001b[0mwriter\u001b[0m \u001b[0;34m=\u001b[0m \u001b[0m글쓴이\u001b[0m\u001b[0;34m\u001b[0m\u001b[0;34m\u001b[0m\u001b[0m\n",
            "\u001b[0;31mNameError\u001b[0m: name 'index' is not defined"
          ]
        }
      ]
    },
    {
      "cell_type": "markdown",
      "source": [
        "'''\n",
        "\n",
        "        object.__lt__(self, other)\n",
        "        object.__le__(self, other)\n",
        "        object.__eq__(self, other)\n",
        "        object.__ne__(self, other)\n",
        "        object.__gt__(self, other)¶\n",
        "        object.__ge__(self, other)\n",
        "        object.__add__(self, other)\n",
        "        object.__sub__(self, other)\n",
        "        object.__mul__(self, other)\n",
        "        object.__matmul__(self, other)\n",
        "        object.__truediv__(self, other)¶\n",
        "        object.__floordiv__(self, other)\n",
        "        object.__mod__(self, other)\n",
        "        object.__divmod__(self, other)\n",
        "        object.__pow__(self, other[, modulo])\n",
        "        object.__lshift__(self, other)\n",
        "        object.__rshift__(self, other)\n",
        "        object.__and__(self, other)\n",
        "        object.__xor__(self, other)\n",
        "        object.__or__(self, other)\n",
        "        \n",
        "'''"
      ],
      "metadata": {
        "id": "NuJRyyKm80ui"
      }
    },
    {
      "cell_type": "code",
      "source": [
        "class UserInfo(object):\n",
        "    dataset = []\n",
        "    def __init__(self,이름,나이,학과,학번):\n",
        "        self.name = 이름\n",
        "        self.age = 나이\n",
        "        self.dep = 학과\n",
        "        self.Studentid = 학번\n",
        "        self.dataset.append(self)\n",
        "    \n",
        "    def __str__(self):\n",
        "        return f'{len(self.dataset)}이름: {self.name} , 학과: {self.dep} , 학번: {self.Studentid}'\n",
        "학생1 = UserInfo('오르미',25,'컴퓨터공학과',123456)\n",
        "\n",
        "print(학생1)\n",
        "\n",
        "\n",
        "\n"
      ],
      "metadata": {
        "colab": {
          "base_uri": "https://localhost:8080/"
        },
        "id": "uEtyNdepD1SU",
        "outputId": "6285ee2f-56b9-4f25-b29c-dd5cce9b5885"
      },
      "execution_count": 45,
      "outputs": [
        {
          "output_type": "stream",
          "name": "stdout",
          "text": [
            "1이름: 오르미 , 학과: 컴퓨터공학과 , 학번: 123456\n"
          ]
        }
      ]
    },
    {
      "cell_type": "code",
      "source": [
        "class BookInfo(object):\n",
        "    dataset = []\n",
        "    def __init__(self,책이름,작가,가격,출판사):\n",
        "        self.bookname = 책이름\n",
        "        self.author = 작가\n",
        "        self.price = 가격\n",
        "        self.publisher = 출판사\n",
        "        self.dataset.append(self)\n",
        "\n",
        "    def correction(self):\n",
        "        b = input('수정할 번호를 입력하세요 책이름: 1, 작가 : 2, 가격 : 3, 출판사 : 3')\n",
        "        if b == 1:\n",
        "            c = input('책 이름을 적어주세요')\n",
        "            self.bookname = c\n",
        "        elif b == 2:\n",
        "            c = input('작가 이름을 적어주세요')\n",
        "            self.author = c\n",
        "        elif b == 3:\n",
        "            c = input('가격을 적어주세요')\n",
        "            if type(c) == int:\n",
        "                self.price = c\n",
        "            else:\n",
        "                print('정수만 입력해 주세요')\n",
        "        elif b == 4:\n",
        "            c = input('출판사를 적어주세요')\n",
        "            self.publisher = c\n",
        "\n",
        "\n",
        "    \n",
        "    def __str__(self):\n",
        "        return f'{len(self.dataset)}이름: {self.bookname} , 작가: {self.author} , 가격: {self.price}'\n",
        "\n",
        "\n",
        "책1 = UserInfo('파이썬','작가',17500,'한빛미디어')\n",
        "책2 = UserInfo('파이썬2','작가',17500,'한빛미디어')\n",
        "책3 = UserInfo('파이썬3','작가',17500,'한빛미디어')\n",
        "책4 = UserInfo('파이썬4','작가',17500,'한빛미디어')\n",
        "\n",
        "\n"
      ],
      "metadata": {
        "id": "oERBv67P6Pyz"
      },
      "execution_count": 52,
      "outputs": []
    },
    {
      "cell_type": "code",
      "source": [
        "# 1번째 스탭\n",
        "# 공개되는 정보, 공개되지 않는 정보\n",
        "# 멤버(정적 수치, 문자열)와 메서드(기능)\n",
        "class Product(object):\n",
        "    def __init__(self, 품명, 가격):\n",
        "        self.product_name = 품명\n",
        "        self.price = 가격\n",
        "        \n",
        "자전거 = Product(\n",
        "    '자전거',\n",
        "    100000,\n",
        ")\n",
        "\n",
        "class UserInfo(object):\n",
        "    def __init__(self, \n",
        "                 이름, \n",
        "                 이메일,\n",
        "                 비밀번호, \n",
        "                 주요접속기기, \n",
        "                 주요접속국가, \n",
        "                 주요접속지역, \n",
        "                 마지막접속일자, \n",
        "                 회원가입날짜, \n",
        "                 별명, \n",
        "                 적립금, \n",
        "                 생일, \n",
        "                 휴대폰번호, \n",
        "                 휴대폰인증여부, \n",
        "                 고객등급, \n",
        "                 휴면계정여부):\n",
        "        self.이름 = 이름\n",
        "        self.고객등급 = 고객등급\n",
        "        self.적립금 = 적립금\n",
        "    \n",
        "    def 물품구매(self, product):\n",
        "        self.적립금 -= product.price\n",
        "\n",
        "    def 회원탈퇴(self):\n",
        "        pass\n",
        "\n",
        "    def 장바구니등록(self):\n",
        "        pass\n",
        "\n",
        "이호준 = UserInfo(\n",
        "    이름 = '이호준',\n",
        "    이메일 = 'hojun@gmail.com',\n",
        "    비밀번호 = '98d234db7e91f5ba026a25d0d6f17bc5ee0a347ea2216b0c9de06d43536d49f4',\n",
        "    주요접속기기 = 'Android',\n",
        "    주요접속국가 = 'Korea',\n",
        "    주요접속지역 = 'Jeju',\n",
        "    마지막접속일자 = '23/05/10',\n",
        "    회원가입날짜 = '23/05/10',\n",
        "    별명 = '준',\n",
        "    적립금 = 1000000000,\n",
        "    생일 = '13/13',\n",
        "    휴대폰번호 = '010-0000-0000',\n",
        "    휴대폰인증여부 = True,\n",
        "    고객등급 = 'VIP',\n",
        "    휴면계정여부 = False,\n",
        ")\n",
        "\n",
        "이호준.물품구매(자전거)\n",
        "이호준.적립금"
      ],
      "metadata": {
        "colab": {
          "base_uri": "https://localhost:8080/"
        },
        "id": "oSZ01uV-QkLz",
        "outputId": "92205410-b20b-46e8-d973-b0aa9c3f3efc"
      },
      "execution_count": 55,
      "outputs": [
        {
          "output_type": "execute_result",
          "data": {
            "text/plain": [
              "999900000"
            ]
          },
          "metadata": {},
          "execution_count": 55
        }
      ]
    },
    {
      "cell_type": "markdown",
      "source": [
        "## 상속"
      ],
      "metadata": {
        "id": "7O6lLPUcYjqW"
      }
    },
    {
      "cell_type": "code",
      "source": [
        "class Car(object):\n",
        "    maxSpeed = 300\n",
        "    maxPeople = 5\n",
        "    def move(self, x):\n",
        "        print(x, '의 스피드로 달리고 있습니다.')\n",
        "    def stop(self):\n",
        "        print('멈췄습니다.')\n",
        "\n",
        "class HybridCar(Car):\n",
        "    battery = 1000\n",
        "    batteryKM = 300\n",
        "\n",
        "class ElectricCar(HybridCar):\n",
        "    battery = 2000\n",
        "    batteryKM = 600\n",
        "\n",
        "\n",
        "k5 = HybridCar()\n",
        "electricCarK5 = ElectricCar()\n",
        "k5.maxSpeed\n",
        "print(electricCarK5.maxSpeed)\n",
        "print(electricCarK5.battery)"
      ],
      "metadata": {
        "colab": {
          "base_uri": "https://localhost:8080/"
        },
        "id": "ayPMW__kYjJF",
        "outputId": "a205c4b1-080a-423a-bbf1-8fb2c9b608bc"
      },
      "execution_count": 56,
      "outputs": [
        {
          "output_type": "stream",
          "name": "stdout",
          "text": [
            "300\n",
            "2000\n"
          ]
        }
      ]
    },
    {
      "cell_type": "markdown",
      "source": [
        "## !! 오늘 배운 것 정리\n",
        "* 클래스\n",
        "    * 클래스는 데이터(멤버)와 기능(메서드)을 가지고 있는 인스턴트 객체를 생성하기 위한 역할\n",
        "    * 우리가 배우고 있는 Python을 객체 지향 프로그래밍 언어\n",
        "        ```\n",
        "        현실                                코드\n",
        "        차 ---------------------------> class Car()\n",
        "        정수 -------------------------> class int()\n",
        "        실수 -------------------------> class float()\n",
        "\n",
        "        인간이 만들어 \n",
        "        놓은 현실 세계에서의 \n",
        "        정의 또는 약속 --------------> class\n",
        "        \n",
        "        1 + 1 = 2가 컴퓨터 입장에서는 10일 수도 있고\n",
        "        'A' + 'A' = 'AA'가 아니라 컴퓨터 입장에서는 130일 수 있습니다.\n",
        "        현실세계에서 '인간끼리' 약속을 코드에 세계로 옮긴거에요.\n",
        "        ```\n",
        "    * 예제 1\n",
        "        ```python\n",
        "        # 메서드 : 클래스 내에 함수\n",
        "        # 멤버 : 클래스 내에 변수\n",
        "        # 애트리뷰트 : 멤버 + 메서드\n",
        "        class CarFactory(object):\n",
        "            max_speed = 300\n",
        "            max_people = 5\n",
        "            def move(self):\n",
        "                print('차가 움직이고 있습니다.')\n",
        "            def stop(self):\n",
        "                print('차가 멈췄습니다.')\n",
        "\n",
        "        k5 = CarFactory()\n",
        "        k3 = CarFactory()\n",
        "        k5.move()\n",
        "        k3.move()\n",
        "        k5.stop()\n",
        "        k3.stop()\n",
        "        print(k5.max_speed)\n",
        "        ```\n",
        "    * 예제2\n",
        "        ```python\n",
        "        # 클래스 변수\n",
        "        # 클래스 바로 하위에 자리하고 있으며\n",
        "        # 모든 인스턴스가 공유합니다.\n",
        "        # 인스턴스 변수\n",
        "        # 인스턴스 영역 안에서만 사용하는 변수\n",
        "        class Car(object):\n",
        "            # kinds가 인스턴스에 없기에 class변수로 접근\n",
        "            # speed는 값을 = 로 할당했기에 인스턴스변수 생성\n",
        "            kinds = []\n",
        "            speed = 300\n",
        "            def add_kinds(self, name):\n",
        "                self.kinds.append(name) # self.kinds = [name]로 사용하면 인스턴스 변수가 됩니다.\n",
        "            def change_speed(self, speed):\n",
        "                self.speed = speed\n",
        "\n",
        "        k5 = Car()\n",
        "        k3 = Car()\n",
        "        k5.speed = 500\n",
        "        k3.speed # 클래스 변수는 값을 공유한다고 했는데?\n",
        "        ```\n",
        "    * 예제3\n",
        "        ```python\n",
        "        # 쉽고 중요한 예제!\n",
        "        # 이 코드는 가능하면 손으로 2 ~ 3번 써보시길 권해드립니다.\n",
        "\n",
        "        class BlogFactory(object):\n",
        "            def __init__(self, 제목, 내용, 조회수, 글쓴이, 생성날짜):\n",
        "                self.title = 제목\n",
        "                self.content = 내용\n",
        "                self.count = 조회수\n",
        "                self.writer = 글쓴이\n",
        "                self.create_date = 생성날짜\n",
        "\n",
        "        게시글1 = BlogFactory(\n",
        "                '오늘 제주의 날씨',\n",
        "                '오늘 제주의 날씨는 참 좋네요! 블라블라',\n",
        "                '0',\n",
        "                '이호준',\n",
        "                '2023/05/10',\n",
        "            )\n",
        "\n",
        "        게시글2 = BlogFactory(\n",
        "                '오늘 부산의 날씨',\n",
        "                '오늘 부산의 날씨는 참 좋네요! 블라블라',\n",
        "                '1000000',\n",
        "                '김재현',\n",
        "                '2023/05/10',\n",
        "            )\n",
        "\n",
        "        게시글3 = BlogFactory(\n",
        "                '오늘 강원의 날씨',\n",
        "                '오늘 강원의 날씨는 참 좋네요! 블라블라',\n",
        "                '10000',\n",
        "                '범남궁',\n",
        "                '2023/05/10',\n",
        "            )\n",
        "\n",
        "        data = [게시글1, 게시글2, 게시글3]\n",
        "        for i in data:\n",
        "            if i.writer == '이호준':\n",
        "                print(i.title)\n",
        "                print(i.content)\n",
        "                print(i.count)\n",
        "                print(i.create_date)\n",
        "        ```\n",
        "* 클래스 상속\n",
        "    * 클래스에서 상속은 상속해주는 클래스(Parent Class, Super class)의 내용(속성과 메소드)을 상속받는 클래스(Child class, sub class)가 가지게 되는 것\n",
        "    * 코드 예\n",
        "        ```python\n",
        "        # 이 예제는 기억하고 있으셔야 합니다.\n",
        "        class Car:\n",
        "            maxSpeed = 300\n",
        "            maxPeople = 5\n",
        "            def move(self, x):\n",
        "                print(x, '의 스피드로 달리고 있습니다.')\n",
        "            def stop(self):\n",
        "                print('멈췄습니다.')\n",
        "\n",
        "        class HybridCar(Car):\n",
        "            battery = 1000\n",
        "            batteryKM = 300\n",
        "\n",
        "        class ElectricCar(HybridCar):\n",
        "            battery = 2000\n",
        "            batteryKM = 600\n",
        "\n",
        "        K3 = Car()\n",
        "        HyK3 = HybridCar()\n",
        "        ElHyK3 = ElectricCar()\n",
        "        # id(K3.maxSpeed), id(HyK3.maxSpeed)\n",
        "        # id(K3.move), id(HyK3.move)\n",
        "\n",
        "        ElHyK3.move(10)\n",
        "        ```"
      ],
      "metadata": {
        "id": "yn0AxERQIvv9"
      }
    },
    {
      "cell_type": "code",
      "source": [],
      "metadata": {
        "id": "0DWevaP-1UAj"
      },
      "execution_count": null,
      "outputs": []
    }
  ]
}
