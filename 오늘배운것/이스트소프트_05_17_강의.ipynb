{
  "nbformat": 4,
  "nbformat_minor": 0,
  "metadata": {
    "colab": {
      "provenance": [],
      "authorship_tag": "ABX9TyN4dDRoURqRFbsTz92rqqMF",
      "include_colab_link": true
    },
    "kernelspec": {
      "name": "python3",
      "display_name": "Python 3"
    },
    "language_info": {
      "name": "python"
    }
  },
  "cells": [
    {
      "cell_type": "markdown",
      "metadata": {
        "id": "view-in-github",
        "colab_type": "text"
      },
      "source": [
        "<a href=\"https://colab.research.google.com/github/RyuHyeonghwan/BackendOrmi/blob/main/%EC%98%A4%EB%8A%98%EB%B0%B0%EC%9A%B4%EA%B2%83/%EC%9D%B4%EC%8A%A4%ED%8A%B8%EC%86%8C%ED%94%84%ED%8A%B8_05_17_%EA%B0%95%EC%9D%98.ipynb\" target=\"_parent\"><img src=\"https://colab.research.google.com/assets/colab-badge.svg\" alt=\"Open In Colab\"/></a>"
      ]
    },
    {
      "cell_type": "code",
      "source": [],
      "metadata": {
        "id": "JuE1oZjyQS4_"
      },
      "execution_count": null,
      "outputs": []
    },
    {
      "cell_type": "markdown",
      "source": [
        "## (과제) 마크다운 변환 함수 만들기"
      ],
      "metadata": {
        "id": "HrSqGgS_HxSF"
      }
    },
    {
      "cell_type": "markdown",
      "source": [
        "# 이것은 제목입니다\n",
        "## 이것은 소제목입니다\n",
        "### 이것은 소소제목입니다\n",
        "\n",
        "이것은 **굵은글씨** 입니다.\n",
        "이것은 *기울어진 글씨* 입니다.\n",
        "\n",
        "이것은 `코드블록` 입니다.\n",
        "\n",
        "- 이것은 리스트입니다.\n",
        "- 이것은 또 다른 리스트입니다.\n",
        "\n",
        "1. 이것은 숫자 리스트입니다.\n",
        "2. 이것은 또 다른 숫자 리스트입니다.\n",
        "\n",
        "> 이것은 인용입니다.\n",
        "> 이것은 또 다른 인용입니다.\n",
        "\n",
        "---\n",
        "구분선입니다. 아래부터는 어려운 내용입니다. 이번 수업에서는 진행하지 않으셔도 좋습니다.\n",
        "---\n",
        "\n",
        "[이것은 링크입니다](http://www.paullab.co.kr)\n",
        "![이미지](https://paullab.co.kr/images/message_licat.png)\n",
        "\n",
        "| 이것은 | 표입니다 |\n",
        "| --- | --- |\n",
        "| 이것은 | 셀입니다 |\n",
        "| 이것은 | 또 다른 셀입니다 |\n",
        "\n",
        "```python\n",
        "print('hello world')\n",
        "```"
      ],
      "metadata": {
        "id": "lrqRytjfLOmU"
      }
    },
    {
      "cell_type": "code",
      "source": [
        "# 위와 같은 양식을 변환해주는 프로그램을 짜세요."
      ],
      "metadata": {
        "id": "qg_Php19LQHX"
      },
      "execution_count": null,
      "outputs": []
    },
    {
      "cell_type": "code",
      "source": [
        "# advanced 문제:\n",
        "# 마크다운 파일을 업로드 해서 html파일로 만들어주는 코드를 만들어주세요.\n",
        "from pathlib import Path\n",
        "import re\n",
        "\n",
        "\n",
        "def markdown_to_text(path_and_name):\n",
        "    f = open(f'{path_and_name}', 'r', encoding='utf-8') #cp949, utf-8, 유니코드...\n",
        "    markdown_text = f.read()\n",
        "    f.close()\n",
        "    return markdown_text\n",
        "\n",
        "\n",
        "def md_text_to_html_text(md_text):\n",
        "    # Header 1~6\n",
        "    html_text = re.sub(r'###### (.*)', r'<h6>\\1</h6>', md_text)\n",
        "    html_text = re.sub(r'##### (.*)', r'<h5>\\1</h5>', html_text)\n",
        "    html_text = re.sub(r'#### (.*)', r'<h4>\\1</h4>', html_text)\n",
        "    html_text = re.sub(r'### (.*)', r'<h3>\\1</h3>', html_text)\n",
        "    html_text = re.sub(r'## (.*)', r'<h2>\\1</h2>', html_text)\n",
        "    html_text = re.sub(r'# (.*)', r'<h1>\\1</h1>', html_text)\n",
        "\n",
        "    # 코드블록 (여러줄 코드블록도)\n",
        "    html_text = re.sub(r'`{3}(.*)`{3}',\n",
        "                       r'<pre><code>\\1</code></pre>', html_text, flags=re.S)\n",
        "    html_text = re.sub(r'`(.*)`',\n",
        "                       r'<pre><code>\\1</code></pre>', html_text)\n",
        "\n",
        "    # 굵은글씨\n",
        "    html_text = re.sub(r'\\*\\*(.*)\\*\\*', r'<strong>\\1</strong>', html_text)\n",
        "\n",
        "    # 기울어진글씨(이탤릭)\n",
        "    html_text = re.sub(r'\\*(.*)\\*', r'<em>\\1</em>', html_text)\n",
        "\n",
        "    # 리스트\n",
        "    html_text = re.sub(\n",
        "        r'^- ([^-].*)', r'<ul><li>\\1</li></ul>', html_text, flags=re.M)\n",
        "\n",
        "    # 숫자 리스트\n",
        "    html_text = re.sub(r'^\\d. (.*)', r'<ol><li>\\1</li></ol>',\n",
        "                       html_text, flags=re.M)\n",
        "\n",
        "    # 인용(BlockQuote)\n",
        "    html_text = re.sub(\n",
        "        r'^(>+) (.*)', r'<blockquote>\\1\\2</blockquote>', html_text, flags=re.M)\n",
        "\n",
        "    # 취소선?\n",
        "    # html_text = re.sub(r'~~(.*)~~', r'<del>\\1</del>', html_text)\n",
        "\n",
        "    # 링크, 이미지, 표(table) 미구현\n",
        "\n",
        "    return html_text\n",
        "\n",
        "\n",
        "def save_html_file(html_text, path_saving, file_name):\n",
        "    f = open(f'{Path.joinpath(path_saving, file_name)}', 'w', encoding='utf-8')\n",
        "    f.write(html_text)\n",
        "    f.close()\n",
        "    return\n",
        "\n",
        "\n",
        "md_file_path = Path.joinpath(Path.cwd(), 'sample.md')\n",
        "md_text = markdown_to_text(md_file_path)\n",
        "html_text = md_text_to_html_text(md_text)\n",
        "save_html_file(html_text, Path.cwd(), 'parsed.html')"
      ],
      "metadata": {
        "id": "c6hMdyFkHvDR"
      },
      "execution_count": null,
      "outputs": []
    },
    {
      "cell_type": "code",
      "source": [
        "import re\n",
        "\n",
        "def md_to_html(text):\n",
        "    # 토글\n",
        "    text = re.sub(r'(>+) (.*)', r'<blockquote>\\1 \\2</blockquote>', text)\n",
        "    # 헤딩\n",
        "    text = re.sub(r'### (.*)', r'<h3>\\1</h3>', text)\n",
        "    text = re.sub(r'## (.*)', r'<h2>\\1</h2>', text)\n",
        "    text = re.sub(r'# (.*)', r'<h1>\\1</h1>', text)\n",
        "    # 코드블럭\n",
        "    if re.match('\\t?```', text):\n",
        "        text = re.sub(r'^\\t?```.*', r'<pre><code>', text)\n",
        "        text = re.sub(r'\\t?```$', r'</code></pre>', text)\n",
        "    text = re.sub(r'\\t?`(.*)`', r'<pre><code>\\1</code></pre>', text)\n",
        "    # 볼드\n",
        "    text = re.sub(r'[\\*_]{2}(.*)[\\*_]{2}', r'<strong>\\1</strong>', text)\n",
        "    # 이탤릭\n",
        "    text = re.sub(r'[\\*_]{1}(.*)[\\*_]{1}', r'<em>\\1</em>', text)\n",
        "    # 취소선\n",
        "    text = re.sub(r'~~(.*)~~', r'<del>\\1</del>', text)\n",
        "    # 이미지\n",
        "    text = re.sub(r'!\\[(.*)]\\((.*)\\)', r'<div><img src = \"\\2\" alt:=\"\\1\" width = \"100\"></div>', text)\n",
        "    # 링크\n",
        "    text = re.sub(r'\\[(.*)]\\((.*)\\)', r'<div><a href = \"\\2\">\\1</a></div>', text)\n",
        "    # 순서 없는 리스트\n",
        "    if re.match(r'[ \\t]*[\\*-]+[ \\t]+', text):\n",
        "        text = re.sub(r'^[ \\t]*[\\*-]+[ \\t]+(.+)', r'<ul>\\n<li>\\1</li>', text)\n",
        "        text = re.sub(r'[ \\t]*[\\*-]+[ \\t]+(.+)', r'<li>\\1</li>', text)\n",
        "        text += '</ul>'\n",
        "    # 순서 있는 리스트\n",
        "    if re.match(r'[ \\t]*\\d+\\.', text):\n",
        "        text = re.sub(r'^[ \\t]*\\d+\\.[ \\t]+(.+)', r'<ol>\\n<li>\\1</li>', text)\n",
        "        text = re.sub(r'[ \\t]*\\d+\\.[ \\t]+(.+)', r'<li>\\1</li>', text)\n",
        "        text += '</ol>'\n",
        "    return text\n",
        "    \n",
        "    \n",
        "name = 'markdown'\n",
        "\n",
        "f1 = open(f'{name}.md', 'r' ,encoding='UTF8')\n",
        "f2 =  open(f'{name}.html', 'w' ,encoding='UTF8')\n",
        "text = f1.readlines()\n",
        "temp = ''\n",
        "flag = 0\n",
        "for i in text:\n",
        "    # 여러줄짜리 코드블럭 처리\n",
        "    if re.match('\\t?```', i):\n",
        "        temp += i\n",
        "        if flag == 1:\n",
        "            f2.write(md_to_html(temp))\n",
        "            temp, flag = '', 0   \n",
        "        flag = 1\n",
        "        continue\n",
        "    if flag == 1:\n",
        "        temp += i\n",
        "        continue\n",
        "    # 순서있는 리스트 처리\n",
        "    if re.match(r'[ \\t]*\\d+\\.', i):\n",
        "        temp += i\n",
        "        flag = 2\n",
        "        continue\n",
        "    if flag == 2:\n",
        "        f2.write(md_to_html(temp))\n",
        "        temp = ''\n",
        "    # 순서없는 리스트 처리\n",
        "    if re.match(r'[ \\t]*[\\*-]+[ \\t]+', i):\n",
        "        temp += i\n",
        "        flag = 3\n",
        "        continue\n",
        "    if flag == 3:\n",
        "        f2.write(md_to_html(temp))\n",
        "        temp = ''\n",
        "    #특이사항없을시\n",
        "    f2.write(md_to_html(i))\n",
        "\n",
        "f1.close()\n",
        "f2.close()"
      ],
      "metadata": {
        "id": "pZ9RGMXWIQG-"
      },
      "execution_count": null,
      "outputs": []
    },
    {
      "cell_type": "code",
      "source": [
        "import re\n",
        "\n",
        "def markdown_to_html(md_file):\n",
        "\n",
        "    # 인용\n",
        "    md_file = re.sub(r'([\\>]) (.*)', r'<blockquote><p>\\2</p></blockquote>', md_file)\n",
        "\n",
        "    # h1~h3변환\n",
        "    md_file = re.sub(r'### (.*)', r'<h3>\\1</h3>', md_file)\n",
        "    md_file = re.sub(r'## (.*)', r'<h2>\\1</h2>', md_file)\n",
        "    md_file = re.sub(r'# (.*)', r'<h1>\\1</h1>', md_file)\n",
        "\n",
        "\n",
        "    # 글씨 강조\n",
        "    md_file = re.sub(r'\\*\\*(.*)\\*\\*', r'<strong>\\1</strong>', md_file)\n",
        "\n",
        "    # 글씨 기울이기\n",
        "    md_file = re.sub(r'\\*(.*)\\*', r'<em>\\1</em>', md_file)\n",
        "\n",
        "    # 코드블럭\n",
        "    md_file = re.sub(r'(코드블럭기호).*\\n*(.*)\\n*(코드블럭기호)', r'<pre><code>\\2</code></pre>', md_file)\n",
        "\n",
        "    # 코드\n",
        "    md_file = re.sub(r'(`)\\n*(.*)\\n*(`)', r'<p><code>\\2</code></p>', md_file)\n",
        "\n",
        " \n",
        "    #이미지 [링크 텍스트](https://)\n",
        "    md_file = re.sub(r'\\!\\[(.+?)\\]\\((https?://[^\\s]+)\\)', \n",
        "                     r'<img src=\"\\2\" alt=\"\\1\">\\1', md_file)\n",
        "    \n",
        "    # 링크텍스트 [링크 텍스트](https://)\n",
        "    md_file = re.sub(r'\\[(.+?)\\]\\((https?://[^\\s]+)\\)', \n",
        "                     r'<a href=\"\\2\">\\1</a>', md_file)\n",
        "    \n",
        "    # 기호 매기기\n",
        "    md_file = re.sub(r'^\\- (.+)',r'<ul><li>\\1</li></ul>',md_file,flags=re.M)\n",
        "\n",
        "    # 숫자 매기기\n",
        "    md_file = re.sub(r'^[\\d][.] (.+)',r'<ol><li>\\1</li></ol>',md_file,flags=re.M)\n",
        "\n",
        "\n",
        "    return md_file\n",
        "\n",
        "\n",
        "# 파일 읽기\n",
        "md_f = open('sample.md', 'r')\n",
        "md_str = md_f.read()\n",
        "md_f.close()\n",
        "\n",
        "# 파일 텍스트 변환\n",
        "\n",
        "md_to_html = markdown_to_html(md_str)\n",
        "\n",
        "#파일 저장\n",
        "html_f = open('sample.html', 'w')\n",
        "html_f.write(md_to_html)\n",
        "html_f.close()"
      ],
      "metadata": {
        "id": "rSKB_pa7IaRZ"
      },
      "execution_count": null,
      "outputs": []
    },
    {
      "cell_type": "code",
      "execution_count": 1,
      "metadata": {
        "id": "7YVU0ak4Etsn"
      },
      "outputs": [],
      "source": [
        "# 문재링크:https://pyalgo.co.kr/?page=6#\n",
        "data = [1, 1, 1, 2, 3, 4, 1, 2, 3, 4, 1]\n",
        "\n",
        "import re\n",
        "\n",
        "def solution(data):\n",
        "    result = 0\n",
        "    data = ''.join(str(i) for i in data)\n",
        "    p = re.compile('12341')\n",
        "    while p.search(data):\n",
        "        data = p.sub('',data, 1)\n",
        "        result += 1\n",
        "    return result\n",
        "\n",
        "# 스택\n",
        "def solution(data):\n",
        "    result = 0\n",
        "    wait = []\n",
        "    for food in data:\n",
        "        wait.append(food)\n",
        "        if wait[-5:] == [1,2,3,4,1]:\n",
        "            for i in range(5) : wait.pop()\n",
        "            result += 1\n",
        "    return result"
      ]
    },
    {
      "cell_type": "code",
      "source": [
        "#차가 가장 큰 값찾기\n",
        "maxi = -float('inf')\n",
        "l = [1, 3, 4, 8, 13, 17, 20]\n",
        "for i in range(len(l) - 1):\n",
        "    if l[i+1] - l[i] >maxi:\n",
        "        maxi = l[i+1] - l[i]\n",
        "maxi\n",
        "\n"
      ],
      "metadata": {
        "id": "DCHf23QrCq55",
        "colab": {
          "base_uri": "https://localhost:8080/"
        },
        "outputId": "aa6404f5-aa70-45f6-8d47-81bafb8668ff"
      },
      "execution_count": 2,
      "outputs": [
        {
          "output_type": "execute_result",
          "data": {
            "text/plain": [
              "5"
            ]
          },
          "metadata": {},
          "execution_count": 2
        }
      ]
    },
    {
      "cell_type": "code",
      "source": [
        "#차가 가장 작은 값 찾기\n",
        "mini = float('inf')\n",
        "index = -1\n",
        "l = [1, 3, 4, 8, 13, 17, 20]\n",
        "for i in range(len(l) - 1):\n",
        "    if l[i+1] - l[i] < mini:\n",
        "        mini = l[i+1] - l[i]\n",
        "        index = i\n",
        "\n",
        "l[index],l[index + 1]\n",
        "\n"
      ],
      "metadata": {
        "id": "ZcVmOU9YD6Sn",
        "colab": {
          "base_uri": "https://localhost:8080/"
        },
        "outputId": "9fc2d5ae-ae87-44de-dd86-949862aa1ede"
      },
      "execution_count": 3,
      "outputs": [
        {
          "output_type": "execute_result",
          "data": {
            "text/plain": [
              "(3, 4)"
            ]
          },
          "metadata": {},
          "execution_count": 3
        }
      ]
    },
    {
      "cell_type": "code",
      "source": [
        "l = [1, 3, 4, 8, 13, 17, 20]\n",
        "list(sorted(zip(l , l[1:]), key = lambda x:x[1]-x[0]))[0]\n"
      ],
      "metadata": {
        "id": "-eR8BRotE57C",
        "colab": {
          "base_uri": "https://localhost:8080/"
        },
        "outputId": "e9041d78-3b64-4c3d-ce5b-f7ac714cd994"
      },
      "execution_count": 4,
      "outputs": [
        {
          "output_type": "execute_result",
          "data": {
            "text/plain": [
              "(3, 4)"
            ]
          },
          "metadata": {},
          "execution_count": 4
        }
      ]
    },
    {
      "cell_type": "code",
      "source": [
        "# 연결리스트를 사용하여 구현하는 것이 일반적이지만 \n",
        "# 연결리스트가 다음 챕터에 나오기 때문에 리스트로 구현하도록 하겠습니다.\n",
        "\n",
        "# 연결리스트가 뒤에 배치된 것은 의도한 것입니다. \n",
        "# 쉬운 접근 -> 어려운 접근으로 점진적 부하를 드리기 위함입니다.\n",
        "\n",
        "# https://ko.wikipedia.org/wiki/%EC%8A%A4%ED%83%9D 이러한 모습에 \n",
        "# ADT를(Abstract Data Type, 추상자료형) 구현하면 되는 것입니다.\n",
        "\n",
        "class Stack:\n",
        "    def __init__(self):\n",
        "        self.lists = []\n",
        "\n",
        "    def top(self):\n",
        "        return self.lists[-1]\n",
        "\n",
        "    def pop(self):\n",
        "        return self.lists.pop()\n",
        "\n",
        "    def push(self, data):\n",
        "        self.lists.append(data)\n",
        "\n",
        "    def empty(self):\n",
        "        if self.lists:\n",
        "            return 0\n",
        "        return 1"
      ],
      "metadata": {
        "id": "_2vLfFpQLrqN"
      },
      "execution_count": 5,
      "outputs": []
    },
    {
      "cell_type": "code",
      "source": [
        "s = Stack()\n",
        "s.push(10)\n",
        "s.push(20)\n",
        "s.push(30)\n",
        "s.push(40)\n",
        "b = s.pop()\n",
        "print(b)\n",
        "s"
      ],
      "metadata": {
        "id": "uDAd9Ml-SmB-",
        "colab": {
          "base_uri": "https://localhost:8080/"
        },
        "outputId": "ce0d1de2-c481-494c-b99e-306ffcb6238d"
      },
      "execution_count": 6,
      "outputs": [
        {
          "output_type": "stream",
          "name": "stdout",
          "text": [
            "40\n"
          ]
        },
        {
          "output_type": "execute_result",
          "data": {
            "text/plain": [
              "<__main__.Stack at 0x7f09712ef8b0>"
            ]
          },
          "metadata": {},
          "execution_count": 6
        }
      ]
    },
    {
      "cell_type": "code",
      "source": [
        "\n"
      ],
      "metadata": {
        "id": "nJaeWkNFS88l"
      },
      "execution_count": 6,
      "outputs": []
    },
    {
      "cell_type": "markdown",
      "source": [
        "### 1.4.2 연결리스트\n",
        "* 연결리스트, 메모리 효율을 위해 사용되는 경우가 많음\n",
        "* 개념 : https://en.wikipedia.org/wiki/Linked_list\n",
        "* 알고리즘 시각화 : https://visualgo.net/ko"
      ],
      "metadata": {
        "id": "aPAtCeUK9rJM"
      }
    },
    {
      "cell_type": "code",
      "source": [
        "lists2 = {\n",
        "'value' :20,\n",
        "    'next':{\n",
        "        'value' :70,\n",
        "            'next':{\n",
        "                'velue':2,\n",
        "                'next':{\n",
        "                    'vleue':35,\n",
        "                    'next':{\n",
        "                        'vleue':21,\n",
        "                        'next':None\n",
        "                    }\n",
        "                }\n",
        "                \n",
        "            }\n",
        "    }\n",
        "}\n",
        "lists2['next']['next']['next']['vleue']"
      ],
      "metadata": {
        "id": "JEc3DCTmXETN",
        "colab": {
          "base_uri": "https://localhost:8080/"
        },
        "outputId": "b2f20cf8-3402-4404-92ab-2b21699011bc"
      },
      "execution_count": 7,
      "outputs": [
        {
          "output_type": "execute_result",
          "data": {
            "text/plain": [
              "35"
            ]
          },
          "metadata": {},
          "execution_count": 7
        }
      ]
    },
    {
      "cell_type": "code",
      "source": [
        "# [90, next] -> [2, next] -> [77, next] -> [35, next] -> [21, next]\n",
        "class Node:\n",
        "    def __init__(self,data):\n",
        "        self.value :90\n",
        "        self.next :None     \n",
        "   \n",
        "node1 = Node(90)\n",
        "node2 = Node(2)\n",
        "node3 = Node(77)\n",
        "node4 = Node(35)\n",
        "node5 = Node(21)\n",
        "\n",
        "node1.next = node2\n",
        "node2.next = node3\n",
        "node3.next = node4\n",
        "node4.next = node5\n"
      ],
      "metadata": {
        "id": "m4G4sdoiZLRb"
      },
      "execution_count": 8,
      "outputs": []
    },
    {
      "cell_type": "code",
      "source": [
        "# [90, next] -> [2, next] -> [77, next] -> [35, next] -> [21, next]\n",
        "# 변수를 하나 만들면\n",
        "# 자료구조가 무거워 집니다.(순회를 돌거나, 여러 인스턴스를 생성하면 시간이 많이 걸리게 됩니다!)\n",
        "# head -> ['init', next]\n",
        "#               ↑ \n",
        "#              tail\n",
        "# head -> ['init', next] -> [90, next]\n",
        "#                               ↑ \n",
        "#                              tail\n",
        "class Node:\n",
        "    def __init__(self, data):\n",
        "        self.data = data\n",
        "        self.next = None\n",
        "\n",
        "class LinkedList:\n",
        "    def __init__(self):\n",
        "        init = Node('init')\n",
        "        self.head = init\n",
        "        self.tail = init\n",
        "        self.count = 0\n",
        "\n",
        "    def __len__(self):\n",
        "        return self.count\n",
        "\n",
        "    def append(self, data):\n",
        "        newNode = Node(data)\n",
        "        self.tail.next = newNode\n",
        "        self.tail = newNode\n",
        "        self.count += 1\n",
        "\n",
        "l = LinkedList()\n",
        "l.append(90)\n",
        "l.append(2)\n",
        "l.append(77)\n",
        "l.append(35)\n",
        "l.append(21)\n",
        "len(l)\n",
        "print(l)\n",
        "\n",
        "l.head.next.next.next.next.data"
      ],
      "metadata": {
        "id": "gl5XNy_ndklU",
        "colab": {
          "base_uri": "https://localhost:8080/"
        },
        "outputId": "3516081c-0eab-408a-f84a-34f41495373a"
      },
      "execution_count": 9,
      "outputs": [
        {
          "output_type": "stream",
          "name": "stdout",
          "text": [
            "<__main__.LinkedList object at 0x7f09712eeb60>\n"
          ]
        },
        {
          "output_type": "execute_result",
          "data": {
            "text/plain": [
              "35"
            ]
          },
          "metadata": {},
          "execution_count": 9
        }
      ]
    },
    {
      "cell_type": "code",
      "source": [
        "#step 1\n",
        "class Node:\n",
        "    def __init__(self, data):\n",
        "        self.data = data\n",
        "        self.next = None\n",
        "\n",
        "class LinkedList:\n",
        "    def __init__(self):\n",
        "        init = Node('init')\n",
        "        self.head = init\n",
        "        self.tail = init\n",
        "        self.count = 0\n",
        "\n",
        "    def __len__(self):\n",
        "        return self.count\n",
        "\n",
        "    def __str__(self):\n",
        "        s = ''\n",
        "        currentNode = self.head\n",
        "        currentNode = currentNode.next\n",
        "        s += str(currentNode.data)\n",
        "        currentNode = currentNode.next\n",
        "        s += str(currentNode.data)\n",
        "        currentNode = currentNode.next\n",
        "        s += str(currentNode.data)\n",
        "        return s\n",
        "\n",
        "    def append(self, data):\n",
        "        newNode = Node(data)\n",
        "        self.tail.next = newNode\n",
        "        self.tail = newNode\n",
        "        self.count += 1\n",
        "\n",
        "l = LinkedList()\n",
        "l.append(90)\n",
        "l.append(2)\n",
        "l.append(77)\n",
        "l.append(35)\n",
        "l.append(21)\n",
        "\n",
        "print(l)"
      ],
      "metadata": {
        "id": "WexLR747e6nZ",
        "colab": {
          "base_uri": "https://localhost:8080/"
        },
        "outputId": "e0289a23-cdd4-4b67-b18c-1f92b0b9ea58"
      },
      "execution_count": 10,
      "outputs": [
        {
          "output_type": "stream",
          "name": "stdout",
          "text": [
            "90277\n"
          ]
        }
      ]
    },
    {
      "cell_type": "code",
      "source": [
        "#step 2\n",
        "class Node:\n",
        "    def __init__(self, data):\n",
        "        self.data = data\n",
        "        self.next = None\n",
        "\n",
        "class LinkedList:\n",
        "    def __init__(self):\n",
        "        init = Node('init')\n",
        "        self.head = init\n",
        "        self.tail = init\n",
        "        self.count = 0\n",
        "\n",
        "    def __len__(self):\n",
        "        return self.count\n",
        "\n",
        "    def __str__(self):\n",
        "        s = ''\n",
        "        currentNode = self.head\n",
        "        currentNode = currentNode.next\n",
        "        for i in range(self.count):\n",
        "            s += f'{str(currentNode.data)}, '\n",
        "            currentNode = currentNode.next\n",
        "        return f'<{s[:-2]}>'\n",
        "\n",
        "    def append(self, data):\n",
        "        newNode = Node(data)\n",
        "        self.tail.next = newNode\n",
        "        self.tail = newNode\n",
        "        self.count += 1\n",
        "\n",
        "l = LinkedList()\n",
        "l.append(90)\n",
        "l.append(2)\n",
        "l.append(77)\n",
        "l.append(35)\n",
        "l.append(21)\n",
        "\n",
        "print(l)"
      ],
      "metadata": {
        "id": "2tBj2wlakgtn",
        "colab": {
          "base_uri": "https://localhost:8080/"
        },
        "outputId": "810de686-2bce-4905-b513-7bdac3f80ce4"
      },
      "execution_count": 11,
      "outputs": [
        {
          "output_type": "stream",
          "name": "stdout",
          "text": [
            "<90, 2, 77, 35, 21>\n"
          ]
        }
      ]
    },
    {
      "cell_type": "code",
      "source": [
        "class Node:\n",
        "    def __init__(self, data):\n",
        "        self.data = data\n",
        "        self.next = None\n",
        "\n",
        "class LinkedList:\n",
        "    def __init__(self):\n",
        "        init = Node('init')\n",
        "        self.head = init\n",
        "        self.tail = init\n",
        "        self.count = 0\n",
        "\n",
        "    def __len__(self):\n",
        "        return self.count\n",
        "\n",
        "    def __str__(self):\n",
        "        s = ''\n",
        "        currentNode = self.head\n",
        "        currentNode = currentNode.next\n",
        "        for i in range(self.count):\n",
        "            s += f'{currentNode.data}, '\n",
        "            currentNode = currentNode.next\n",
        "        return f'<{s[:-2]}>'\n",
        "\n",
        "    def append(self, data):\n",
        "        newNode = Node(data)\n",
        "        self.tail.next = newNode\n",
        "        self.tail = newNode\n",
        "        self.count += 1\n",
        "\n",
        "    def pop(self):\n",
        "        lastValue = self.tail.data\n",
        "        currentNode = self.head\n",
        "        for i in range(self.count):\n",
        "            if currentNode.next is self.tail:\n",
        "                self.tail = currentNode\n",
        "                break\n",
        "            currentNode = currentNode.next\n",
        "        self.count -= 1\n",
        "        return lastValue\n",
        "\n",
        "    def find():\n",
        "        pass\n",
        "\n",
        "l = LinkedList()\n",
        "l.append(90)\n",
        "l.append(2)\n",
        "l.append(77)\n",
        "l.append(35)\n",
        "l.append(21)\n",
        "\n",
        "print(l)\n",
        "l.pop()"
      ],
      "metadata": {
        "id": "G23BE5_7lgBM",
        "colab": {
          "base_uri": "https://localhost:8080/"
        },
        "outputId": "f0b5c87f-b974-487f-d696-5cbe2dbaa37a"
      },
      "execution_count": 12,
      "outputs": [
        {
          "output_type": "stream",
          "name": "stdout",
          "text": [
            "<90, 2, 77, 35, 21>\n"
          ]
        },
        {
          "output_type": "execute_result",
          "data": {
            "text/plain": [
              "21"
            ]
          },
          "metadata": {},
          "execution_count": 12
        }
      ]
    },
    {
      "cell_type": "code",
      "source": [
        "print(l)"
      ],
      "metadata": {
        "id": "pIWHWJrX5l0q",
        "colab": {
          "base_uri": "https://localhost:8080/"
        },
        "outputId": "212e7c5e-80eb-4dbb-94a3-2785be1d8f3e"
      },
      "execution_count": 13,
      "outputs": [
        {
          "output_type": "stream",
          "name": "stdout",
          "text": [
            "<90, 2, 77, 35>\n"
          ]
        }
      ]
    },
    {
      "cell_type": "code",
      "source": [
        "# find 추가\n",
        "class Node:\n",
        "    def __init__(self, data):\n",
        "        self.data = data\n",
        "        self.next = None\n",
        "\n",
        "class LinkedList:\n",
        "    def __init__(self):\n",
        "        init = Node('init')\n",
        "        self.head = init\n",
        "        self.tail = init\n",
        "        self.count = 0\n",
        "\n",
        "    def __len__(self):\n",
        "        return self.count\n",
        "\n",
        "    def __str__(self):\n",
        "        s = ''\n",
        "        currentNode = self.head\n",
        "        currentNode = currentNode.next\n",
        "        for i in range(self.count):\n",
        "            s += f'{currentNode.data}, '\n",
        "            currentNode = currentNode.next\n",
        "        return f'<{s[:-2]}>'\n",
        "\n",
        "    def append(self, data):\n",
        "        newNode = Node(data)\n",
        "        self.tail.next = newNode\n",
        "        self.tail = newNode\n",
        "        self.count += 1\n",
        "\n",
        "    def pop(self):\n",
        "        lastValue = self.tail.data\n",
        "        currentNode = self.head\n",
        "        for i in range(self.count):\n",
        "            if currentNode.next is self.tail:\n",
        "                self.tail = currentNode\n",
        "                break\n",
        "            currentNode = currentNode.next\n",
        "        self.count -= 1\n",
        "        return lastValue\n",
        "\n",
        "    def find(self,data):\n",
        "        index = -1\n",
        "        lastValue = self.tail.data\n",
        "        currentNode = self.head\n",
        "        for i in range(self.count):\n",
        "            if currentNode.data == data:\n",
        "                return index\n",
        "            index += 1\n",
        "            currentNode = currentNode.next\n",
        "        return index\n",
        "\n",
        "l = LinkedList()\n",
        "l.append(90)\n",
        "l.append(2)\n",
        "l.append(77)\n",
        "l.append(35)\n",
        "l.append(21)\n",
        "\n",
        "print(l)\n",
        "l.find(777)"
      ],
      "metadata": {
        "id": "P55J9AQK6Qb0",
        "colab": {
          "base_uri": "https://localhost:8080/"
        },
        "outputId": "37555453-3f26-405e-e6c1-6c0ab08d6c7c"
      },
      "execution_count": 14,
      "outputs": [
        {
          "output_type": "stream",
          "name": "stdout",
          "text": [
            "<90, 2, 77, 35, 21>\n"
          ]
        },
        {
          "output_type": "execute_result",
          "data": {
            "text/plain": [
              "4"
            ]
          },
          "metadata": {},
          "execution_count": 14
        }
      ]
    },
    {
      "cell_type": "code",
      "source": [
        "# Final Step\n",
        "class Node:\n",
        "    def __init__(self, data):\n",
        "        self.data = data\n",
        "        self.next = None\n",
        "\n",
        "class LinkedList:\n",
        "    def __init__(self):\n",
        "        init = Node('init')\n",
        "        self.head = init\n",
        "        self.tail = init\n",
        "        self.count = 0\n",
        "\n",
        "    def __iter__(self):\n",
        "        currentNode = self.head\n",
        "        currentNode = currentNode.next\n",
        "        while currentNode:\n",
        "            yield currentNode.data\n",
        "            currentNode = currentNode.next\n",
        "\n",
        "    def __len__(self):\n",
        "        return self.count\n",
        "\n",
        "    def __str__(self):\n",
        "        s = ''\n",
        "        currentNode = self.head\n",
        "        currentNode = currentNode.next\n",
        "        for i in range(self.count):\n",
        "            s += f'{currentNode.data}, '\n",
        "            currentNode = currentNode.next\n",
        "        return f'<{s[:-2]}>'\n",
        "\n",
        "    def append(self, data):\n",
        "        newNode = Node(data)\n",
        "        self.tail.next = newNode\n",
        "        self.tail = newNode\n",
        "        self.count += 1\n",
        "\n",
        "    def pop(self):\n",
        "        lastValue = self.tail.data\n",
        "        currentNode = self.head\n",
        "        for i in range(self.count):\n",
        "            if currentNode.next is self.tail:\n",
        "                self.tail = currentNode\n",
        "                break\n",
        "            currentNode = currentNode.next\n",
        "        self.count -= 1\n",
        "        return lastValue\n",
        "\n",
        "    def find(self, data):\n",
        "        index = -1\n",
        "        currentNode = self.head\n",
        "        for i in range(self.count):\n",
        "            if currentNode.data == data:\n",
        "                return index\n",
        "            index += 1\n",
        "            currentNode = currentNode.next\n",
        "        return index\n",
        "        \n",
        "l = LinkedList()\n",
        "l.append(90)\n",
        "l.append(2)\n",
        "l.append(77)\n",
        "l.append(35)\n",
        "l.append(21)\n",
        "\n",
        "# next 없이 __iter__으로 반복문이 가능하게 할 수 있습니다.\n",
        "for i in l:\n",
        "    print(i)\n",
        "l.find(99)"
      ],
      "metadata": {
        "id": "mEtWdeaV7yQe",
        "colab": {
          "base_uri": "https://localhost:8080/"
        },
        "outputId": "f82fb8bd-23e7-4c46-bf34-43495304ff0c"
      },
      "execution_count": 15,
      "outputs": [
        {
          "output_type": "stream",
          "name": "stdout",
          "text": [
            "90\n",
            "2\n",
            "77\n",
            "35\n",
            "21\n"
          ]
        },
        {
          "output_type": "execute_result",
          "data": {
            "text/plain": [
              "4"
            ]
          },
          "metadata": {},
          "execution_count": 15
        }
      ]
    },
    {
      "cell_type": "code",
      "source": [
        "nodes1 = {\n",
        "    'pre':None,\n",
        "    'data': 10,\n",
        "    'next': None\n",
        "}\n",
        "nodes2 = {\n",
        "    'pre':None,\n",
        "    'data': 30,\n",
        "    'next': None\n",
        "}\n",
        "nodes3 = {\n",
        "    'pre':None,\n",
        "    'data': 40,\n",
        "    'next': None\n",
        "}\n",
        "nodes1['next'] = nodes2\n",
        "nodes2['next'] = nodes3\n",
        "\n",
        "nodes3['pre'] = nodes1\n",
        "\n",
        "\n"
      ],
      "metadata": {
        "id": "tmWQ37gn9p2E"
      },
      "execution_count": 16,
      "outputs": []
    },
    {
      "cell_type": "code",
      "source": [
        "# 트리의 기본구조\n",
        "nodes1 = {\n",
        "    'left':None,\n",
        "    'data': 10,\n",
        "    'right': None\n",
        "}\n",
        "nodes2 = {\n",
        "    'left':None,\n",
        "    'data': 30,\n",
        "    'right': None\n",
        "}\n",
        "nodes3 = {\n",
        "    'left':None,\n",
        "    'data': 40,\n",
        "    'right': None\n",
        "}\n",
        "nodes1['left'] = nodes2\n",
        "nodes1['right'] = nodes3\n"
      ],
      "metadata": {
        "id": "ZO1ubmFL_gzz"
      },
      "execution_count": 17,
      "outputs": []
    },
    {
      "cell_type": "code",
      "source": [
        "#다중트리\n",
        "nodes1 = {\n",
        "    'left':[],\n",
        "    'data': 10,\n",
        "    'right': []\n",
        "}\n",
        "nodes2 = {\n",
        "    'left':[],\n",
        "    'data': 10,\n",
        "    'right': []\n",
        "}\n",
        "nodes3 = {\n",
        "    'left':[],\n",
        "    'data': 50,\n",
        "    'right': []\n",
        "}\n",
        "nodes4 = {\n",
        "    'left':[],\n",
        "    'data': 30,\n",
        "    'right': []\n",
        "}\n",
        "nodes1['left'].append(nodes2)\n",
        "nodes1['left'].append(nodes3)\n",
        "nodes1['right'].append(nodes4)"
      ],
      "metadata": {
        "id": "Ch9Fx1Xo_nbP"
      },
      "execution_count": 18,
      "outputs": []
    },
    {
      "cell_type": "markdown",
      "source": [
        "# 연습문재"
      ],
      "metadata": {
        "id": "4vIicWN9G4VM"
      }
    },
    {
      "cell_type": "code",
      "source": [
        "#문재링크: https://school.programmers.co.kr/learn/courses/30/lessons/120583\n",
        "def solution(array, n):\n",
        "    return array.count(n)"
      ],
      "metadata": {
        "id": "wOfXS8BKG3fN"
      },
      "execution_count": 19,
      "outputs": []
    },
    {
      "cell_type": "code",
      "source": [
        "#문재링크: https://school.programmers.co.kr/learn/courses/30/lessons/120585\n",
        "def solution(array, height):\n",
        "    return len(list(filter(lambda x:x>height, array)))\n",
        "solution([149, 180, 192, 170],167)"
      ],
      "metadata": {
        "id": "t5CMaIWuJsot",
        "colab": {
          "base_uri": "https://localhost:8080/"
        },
        "outputId": "68cfd93f-ead6-4aba-cba8-fd1c84b31905"
      },
      "execution_count": 20,
      "outputs": [
        {
          "output_type": "execute_result",
          "data": {
            "text/plain": [
              "3"
            ]
          },
          "metadata": {},
          "execution_count": 20
        }
      ]
    },
    {
      "cell_type": "code",
      "source": [
        "#문재링크: https://school.programmers.co.kr/learn/courses/30/lessons/120844\n",
        "# result라는 변수를 안썼기 때문에\n",
        "# 공간 복잡도가 위 보다 우위에 있습니다.\n",
        "order = 'riht'\n",
        "numbers = [1, 2, 3]\n",
        "if order == 'right':\n",
        "    numbers.insert(0, numbers.pop())\n",
        "else:\n",
        "    numbers.insert(len(numbers), numbers.pop(0))\n",
        "numbers"
      ],
      "metadata": {
        "id": "5uSxihl9K-OV",
        "colab": {
          "base_uri": "https://localhost:8080/"
        },
        "outputId": "b9463c55-4a09-4f87-a200-09bd103e8000"
      },
      "execution_count": 21,
      "outputs": [
        {
          "output_type": "execute_result",
          "data": {
            "text/plain": [
              "[2, 3, 1]"
            ]
          },
          "metadata": {},
          "execution_count": 21
        }
      ]
    },
    {
      "cell_type": "code",
      "source": [
        "#문재링크: https://school.programmers.co.kr/learn/courses/30/lessons/120864\n",
        "\n",
        "import re\n",
        "\n",
        "p = sum(list(map(int,re.findall('\\d+',\"aAb1B2cC34oOp9493abcde\"))))\n",
        "p"
      ],
      "metadata": {
        "id": "nbRFk7SuT0Vx",
        "colab": {
          "base_uri": "https://localhost:8080/"
        },
        "outputId": "5b2f9da9-eb98-40b1-858f-b9fd42f241ed"
      },
      "execution_count": 22,
      "outputs": [
        {
          "output_type": "execute_result",
          "data": {
            "text/plain": [
              "9530"
            ]
          },
          "metadata": {},
          "execution_count": 22
        }
      ]
    },
    {
      "cell_type": "code",
      "source": [],
      "metadata": {
        "id": "Fp6HoZPpfGqx"
      },
      "execution_count": 22,
      "outputs": []
    }
  ]
}