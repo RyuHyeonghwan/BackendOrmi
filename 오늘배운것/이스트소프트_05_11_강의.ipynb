{
  "nbformat": 4,
  "nbformat_minor": 0,
  "metadata": {
    "colab": {
      "provenance": [],
      "toc_visible": true,
      "authorship_tag": "ABX9TyN6ZRP0Rnpa4VSd58VOXKUW",
      "include_colab_link": true
    },
    "kernelspec": {
      "name": "python3",
      "display_name": "Python 3"
    },
    "language_info": {
      "name": "python"
    }
  },
  "cells": [
    {
      "cell_type": "markdown",
      "metadata": {
        "id": "view-in-github",
        "colab_type": "text"
      },
      "source": [
        "<a href=\"https://colab.research.google.com/github/RyuHyeonghwan/BackendOrmi/blob/main/%EC%98%A4%EB%8A%98%EB%B0%B0%EC%9A%B4%EA%B2%83/%EC%9D%B4%EC%8A%A4%ED%8A%B8%EC%86%8C%ED%94%84%ED%8A%B8_05_11_%EA%B0%95%EC%9D%98.ipynb\" target=\"_parent\"><img src=\"https://colab.research.google.com/assets/colab-badge.svg\" alt=\"Open In Colab\"/></a>"
      ]
    },
    {
      "cell_type": "markdown",
      "source": [
        "## 노드"
      ],
      "metadata": {
        "id": "zejsfzUpQnhh"
      }
    },
    {
      "cell_type": "code",
      "execution_count": 9,
      "metadata": {
        "colab": {
          "base_uri": "https://localhost:8080/"
        },
        "id": "qG1pN5HBLw2B",
        "outputId": "49115cf7-b368-411d-fa7a-d38cbd40cb74"
      },
      "outputs": [
        {
          "output_type": "execute_result",
          "data": {
            "text/plain": [
              "<__main__.Node at 0x7fb3ead8da80>"
            ]
          },
          "metadata": {},
          "execution_count": 9
        }
      ],
      "source": [
        "class Node:\n",
        "    def __init__(self,data1,data2):\n",
        "        self.data1 = data1\n",
        "        self.data2 = data2\n",
        "        self.next = None\n",
        "node1 = Node(10,1)\n",
        "node2 = Node(20,2)\n",
        "node3 = Node(30,3)\n",
        "\n",
        "node1.next = node2\n",
        "node2.next = node3\n",
        "node1"
      ]
    },
    {
      "cell_type": "code",
      "source": [
        "class Node:\n",
        "    dataset = []\n",
        "\n",
        "    def __init__(self, data1, data2):\n",
        "        self.data = [data1, data2]\n",
        "        self.next = None\n",
        "        self.dataset.append(self)\n",
        "\n",
        "node1 = Node(10,20)\n",
        "node2 = Node(20,30)\n",
        "node3 = Node(30,40)\n",
        "\n",
        "for i in range(len(node1.dataset)-1):\n",
        "    node1.dataset[i].next = node1.dataset[i+1]\n",
        "\n",
        "print(node1.data, node1.next.data, node1.next.next.data)"
      ],
      "metadata": {
        "colab": {
          "base_uri": "https://localhost:8080/"
        },
        "id": "k2KU6416Ony0",
        "outputId": "bbaef2b3-7fd5-4564-f04b-8e5398605e39"
      },
      "execution_count": 10,
      "outputs": [
        {
          "output_type": "stream",
          "name": "stdout",
          "text": [
            "[10, 20] [20, 30] [30, 40]\n"
          ]
        }
      ]
    },
    {
      "cell_type": "markdown",
      "source": [
        "## 메서드 오버라이딩"
      ],
      "metadata": {
        "id": "NnN7u4zrQ3Ds"
      }
    },
    {
      "cell_type": "code",
      "source": [
        "class Car(object):\n",
        "    maxSpeed = 300\n",
        "    maxPeople = 5\n",
        "    def move(self, x):\n",
        "        print(x, '의 스피드로 달리고 있습니다.')\n",
        "    def stop(self):\n",
        "        print('멈췄습니다.')\n",
        "\n",
        "class HybridCar(Car):\n",
        "    battery = 1000\n",
        "    batteryKM = 300\n",
        "\n",
        "class ElectricCar(HybridCar):\n",
        "    battery = 2000\n",
        "    batteryKM = 600\n",
        "\n",
        "    def move(self, x):\n",
        "        print(self.batteryKM, '만큼 달릴 수 있습니다.')\n",
        "        print(x, '스피드로 달리고 있습니다.')\n",
        "\n",
        "\n",
        "k5 = HybridCar()\n",
        "electricCarK5 = ElectricCar()\n",
        "k5.maxspeed\n",
        "electricCarK5.maxspeed\n",
        "electricCarK5.battery\n",
        "electricCarK5.move(10)"
      ],
      "metadata": {
        "id": "hBe4-rNpQ2oB"
      },
      "execution_count": null,
      "outputs": []
    },
    {
      "cell_type": "code",
      "source": [
        "class Car(object):\n",
        "    maxSpeed = 300\n",
        "    maxPeople = 5\n",
        "    def move(self, x):\n",
        "        print(x, '의 스피드로 달리고 있습니다.')\n",
        "    def stop(self):\n",
        "        print('멈췄습니다.')\n",
        "\n",
        "class HybridCar(Car):\n",
        "    battery = 1000\n",
        "    batteryKM = 300\n",
        "\n",
        "class ElectricCar(HybridCar):\n",
        "    battery = 2000\n",
        "    batteryKM = 600\n",
        "\n",
        "    def move(self, x):\n",
        "        print(self.batteryKM, '만큼 달릴 수 있습니다.')\n",
        "        print(x, '스피드로 달리고 있습니다.')\n",
        "\n",
        "# 자신의 고유의 영역에서 선언된\n",
        "# 멤버와 메서드를 우선순위로 잡습니다.\n",
        "k5 = HybridCar()\n",
        "electricCarK5 = ElectricCar()\n",
        "k5.maxspeed\n",
        "electricCarK5.maxspeed\n",
        "electricCarK5.battery\n",
        "electricCarK5.move(10)"
      ],
      "metadata": {
        "id": "sL2T9C0pXpjj"
      },
      "execution_count": null,
      "outputs": []
    },
    {
      "cell_type": "code",
      "source": [
        "class A(object):\n",
        "    maxSpeed = 300\n",
        "\n",
        "class B(A):\n",
        "    battery = 1000\n",
        "\n",
        "class C(A):\n",
        "    battery = 2000\n",
        "\n",
        "class D(B, C):\n",
        "    pass\n",
        "\n",
        "D.mro()\n",
        "# D.battery"
      ],
      "metadata": {
        "colab": {
          "base_uri": "https://localhost:8080/"
        },
        "id": "hQHDrCewQY4D",
        "outputId": "00a81189-ab46-476e-c169-d1ad6a4ade66"
      },
      "execution_count": 12,
      "outputs": [
        {
          "output_type": "execute_result",
          "data": {
            "text/plain": [
              "[__main__.D, __main__.B, __main__.C, __main__.A, object]"
            ]
          },
          "metadata": {},
          "execution_count": 12
        }
      ]
    },
    {
      "cell_type": "markdown",
      "source": [
        "## 이터레이터"
      ],
      "metadata": {
        "id": "WokprZiyYXQP"
      }
    },
    {
      "cell_type": "code",
      "source": [
        "class MyIter:\n",
        "    def __init__(self, stop):\n",
        "        self.currentValue = 0\n",
        "        self.stop = stop\n",
        "    \n",
        "    def __iter__(self):\n",
        "        return self\n",
        "\n",
        "    def __next__(self):\n",
        "        if self.currentValue >= self.stop:\n",
        "            raise StopIteration\n",
        "        self.currentValue += 1\n",
        "        return self.currentValue\n",
        "\n",
        "li = MyIter(5)\n",
        "for i in li:\n",
        "    print(i)"
      ],
      "metadata": {
        "colab": {
          "base_uri": "https://localhost:8080/"
        },
        "id": "Zh0vzCENX0Od",
        "outputId": "d977fd97-836c-49d3-c737-b33366624b1e"
      },
      "execution_count": 13,
      "outputs": [
        {
          "output_type": "stream",
          "name": "stdout",
          "text": [
            "1\n",
            "2\n",
            "3\n",
            "4\n",
            "5\n"
          ]
        }
      ]
    },
    {
      "cell_type": "code",
      "source": [
        "class MyIter:\n",
        "    def __init__(self, stop):\n",
        "        self.stop = stop\n",
        "    \n",
        "    def __iter__(self):\n",
        "        self.currentValue = 0\n",
        "        return self\n",
        "\n",
        "    def __next__(self):\n",
        "        if self.currentValue >= self.stop:\n",
        "            raise StopIteration\n",
        "        result = self.currentValue\n",
        "        self.currentValue += 1\n",
        "        return result\n",
        "\n",
        "li = MyIter(5)\n",
        "# for는 iter먼저 실행하고, next로 StopIteration\n",
        "for i in li:\n",
        "    print(i)\n",
        "\n",
        "for i in li:\n",
        "    print(i)"
      ],
      "metadata": {
        "id": "2v5rwjTnaCxS"
      },
      "execution_count": null,
      "outputs": []
    },
    {
      "cell_type": "markdown",
      "source": [
        "## 제너레이터"
      ],
      "metadata": {
        "id": "iRf6taP-cgCU"
      }
    },
    {
      "cell_type": "code",
      "source": [
        "def gen():\n",
        "    count = 0    \n",
        "    while True:\n",
        "        yield count\n",
        "        count += 1\n",
        "gen()\n",
        "\n",
        "for i in gen():\n",
        "     print(i)\n",
        "     if i == 10:\n",
        "        break"
      ],
      "metadata": {
        "colab": {
          "base_uri": "https://localhost:8080/"
        },
        "id": "kgXZFmvndAxF",
        "outputId": "980c08f0-f145-4f96-8dd5-8534d564fe76"
      },
      "execution_count": 16,
      "outputs": [
        {
          "output_type": "stream",
          "name": "stdout",
          "text": [
            "0\n",
            "1\n",
            "2\n",
            "3\n",
            "4\n",
            "5\n",
            "6\n",
            "7\n",
            "8\n",
            "9\n",
            "10\n"
          ]
        }
      ]
    },
    {
      "cell_type": "code",
      "source": [
        "def gen():\n",
        "    count = 0\n",
        "    while True:\n",
        "        yield count\n",
        "        count += 2\n",
        "\n",
        "l = [10, 20, 30, 40, 50]\n",
        "list(zip(l, gen()))"
      ],
      "metadata": {
        "colab": {
          "base_uri": "https://localhost:8080/"
        },
        "id": "rtHTPWgTe799",
        "outputId": "2aadab63-b1c5-492d-a87a-e8bc48fbde2b"
      },
      "execution_count": 17,
      "outputs": [
        {
          "output_type": "execute_result",
          "data": {
            "text/plain": [
              "[(10, 0), (20, 2), (30, 4), (40, 6), (50, 8)]"
            ]
          },
          "metadata": {},
          "execution_count": 17
        }
      ]
    },
    {
      "cell_type": "code",
      "source": [
        "def gen():\n",
        "    count = 0\n",
        "    while True:\n",
        "        yield f'{count}주차'\n",
        "        count += 2\n",
        "과목 = ['HTML', 'CSS', 'JavaScript', 'Python']\n",
        "\n",
        "list(zip(과목, gen()))"
      ],
      "metadata": {
        "colab": {
          "base_uri": "https://localhost:8080/"
        },
        "id": "tpNtz6Pte-_M",
        "outputId": "f3e6f02b-98de-4193-c151-bde977c0cd8e"
      },
      "execution_count": 18,
      "outputs": [
        {
          "output_type": "execute_result",
          "data": {
            "text/plain": [
              "[('HTML', '0주차'), ('CSS', '2주차'), ('JavaScript', '4주차'), ('Python', '6주차')]"
            ]
          },
          "metadata": {},
          "execution_count": 18
        }
      ]
    },
    {
      "cell_type": "code",
      "source": [
        "def my_generator(data):\n",
        "    \n",
        "    for i in data:\n",
        "        yield i\n",
        "\n",
        "my_list = [1, 2, 3, 4, 5]\n",
        "my_iterator = my_generator(my_list)\n",
        "\n",
        "for i in my_iterator:\n",
        "    print(i)\n"
      ],
      "metadata": {
        "colab": {
          "base_uri": "https://localhost:8080/"
        },
        "id": "vw2BCY6vcftd",
        "outputId": "7b7dbf2f-45ff-4167-c153-c3763f592a63"
      },
      "execution_count": 19,
      "outputs": [
        {
          "output_type": "stream",
          "name": "stdout",
          "text": [
            "1\n",
            "2\n",
            "3\n",
            "4\n",
            "5\n"
          ]
        }
      ]
    },
    {
      "cell_type": "markdown",
      "source": [
        "## 데코레이터"
      ],
      "metadata": {
        "id": "e5rRlif6i_c2"
      }
    },
    {
      "cell_type": "code",
      "source": [
        "# 중요한 코드입니다.\n",
        "# 손으로 2 ~ 3번 써보시길 권해드립니다.\n",
        "def print_hello(func):\n",
        "    def wrap_func():\n",
        "        print('hello')\n",
        "        func()\n",
        "    return wrap_func\n",
        "\n",
        "@print_hello\n",
        "def func1():\n",
        "    print('func1 입니다.')\n",
        "\n",
        "func1()"
      ],
      "metadata": {
        "colab": {
          "base_uri": "https://localhost:8080/"
        },
        "id": "bG5DkkEIfJF5",
        "outputId": "c2cf0f83-6875-42f5-e468-07723b800616"
      },
      "execution_count": 20,
      "outputs": [
        {
          "output_type": "stream",
          "name": "stdout",
          "text": [
            "hello\n",
            "func1 입니다.\n"
          ]
        }
      ]
    },
    {
      "cell_type": "code",
      "source": [
        "#보기가 더 편하다\n",
        "def 인사말(func):\n",
        "    def wrap_func():\n",
        "        print('안녕하세요.')\n",
        "        func()\n",
        "    return wrap_func\n",
        "\n",
        "@인사말\n",
        "def 자기소개1():\n",
        "    print('이호준입니다.')\n",
        "\n",
        "@인사말\n",
        "def 자기소개2():\n",
        "    print('홍길동입니다.')\n",
        "\n",
        "def 작별인사():\n",
        "    print('안녕히계세요.')\n",
        "\n",
        "자기소개1()\n",
        "자기소개2()\n",
        "작별인사()"
      ],
      "metadata": {
        "colab": {
          "base_uri": "https://localhost:8080/"
        },
        "id": "ll54MGlDmZ9f",
        "outputId": "8997fa1a-a453-4530-fd6d-70783ad89475"
      },
      "execution_count": 21,
      "outputs": [
        {
          "output_type": "stream",
          "name": "stdout",
          "text": [
            "안녕하세요.\n",
            "이호준입니다.\n",
            "안녕하세요.\n",
            "홍길동입니다.\n",
            "안녕히계세요.\n"
          ]
        }
      ]
    },
    {
      "cell_type": "code",
      "source": [
        "def 인사말(func):\n",
        "    def wrap_func():\n",
        "        print('안녕하세요.')\n",
        "        func()\n",
        "    return wrap_func\n",
        "\n",
        "def 자기소개1():\n",
        "    print('이호준입니다.')\n",
        "\n",
        "def 자기소개2():\n",
        "    print('홍길동입니다.')\n",
        "\n",
        "def 작별인사():\n",
        "    print('안녕히계세요.')\n",
        "\n",
        "인사말(자기소개1)()\n",
        "인사말(자기소개2)()\n",
        "작별인사()"
      ],
      "metadata": {
        "colab": {
          "base_uri": "https://localhost:8080/"
        },
        "id": "X_wuGkgInIGt",
        "outputId": "89f0de30-c38b-43cc-a86c-58153ec006da"
      },
      "execution_count": 22,
      "outputs": [
        {
          "output_type": "stream",
          "name": "stdout",
          "text": [
            "안녕하세요.\n",
            "이호준입니다.\n",
            "안녕하세요.\n",
            "홍길동입니다.\n",
            "안녕히계세요.\n"
          ]
        }
      ]
    },
    {
      "cell_type": "code",
      "source": [
        "#보기가 더 편하다\n",
        "def 인사말(func):\n",
        "    def wrap_func(이름):\n",
        "        print('안녕하세요.')\n",
        "        func(이름)\n",
        "    return wrap_func\n",
        "\n",
        "@인사말\n",
        "def 자기소개1(name):\n",
        "    print(f'{name}입니다.')\n",
        "\n",
        "@인사말\n",
        "def 자기소개2(name):\n",
        "    print(f'{name}입니다.')\n",
        "\n",
        "def 작별인사():\n",
        "    print('안녕히계세요.')\n",
        "\n",
        "자기소개1('a')\n",
        "자기소개2('b')\n",
        "작별인사()"
      ],
      "metadata": {
        "colab": {
          "base_uri": "https://localhost:8080/"
        },
        "id": "nydEtG7Lnag-",
        "outputId": "5a742225-c0da-4e61-e7a7-9c1e0fd125ec"
      },
      "execution_count": 26,
      "outputs": [
        {
          "output_type": "stream",
          "name": "stdout",
          "text": [
            "안녕하세요.\n",
            "a입니다.\n",
            "안녕하세요.\n",
            "b입니다.\n",
            "안녕히계세요.\n"
          ]
        }
      ]
    },
    {
      "cell_type": "code",
      "source": [
        "def 인사말(func):\n",
        "    def wrap_func(이름):\n",
        "        print('안녕하세요.')\n",
        "        func(이름)\n",
        "    return wrap_func\n",
        "\n",
        "def 자기소개1(name):\n",
        "    print(f'{name}입니다.')\n",
        "\n",
        "def 자기소개2(name):\n",
        "    print(f'{name}입니다.')\n",
        "\n",
        "def 작별인사():\n",
        "    print('안녕히계세요.')\n",
        "\n",
        "\n",
        "\n",
        "인사말(자기소개1)(\"a\")\n",
        "인사말(자기소개2)('b')\n",
        "작별인사()"
      ],
      "metadata": {
        "colab": {
          "base_uri": "https://localhost:8080/"
        },
        "id": "P65pNFLgn6Je",
        "outputId": "edbafd56-3d44-4fcc-b12c-b872fddae0a1"
      },
      "execution_count": 28,
      "outputs": [
        {
          "output_type": "stream",
          "name": "stdout",
          "text": [
            "안녕하세요.\n",
            "a입니다.\n",
            "안녕하세요.\n",
            "b입니다.\n",
            "안녕히계세요.\n"
          ]
        }
      ]
    },
    {
      "cell_type": "code",
      "source": [
        "#보기가 더 편하다\n",
        "def 전처리(func):\n",
        "    def wrap_func(iterable):\n",
        "        iterable = list(map(int,iterable))\n",
        "        print(func(iterable))\n",
        "    return wrap_func\n",
        "\n",
        "@전처리\n",
        "def 평균(l):\n",
        "    return sum(l)/len(l)\n",
        "\n",
        "평균(['1',2,10,'99'])"
      ],
      "metadata": {
        "colab": {
          "base_uri": "https://localhost:8080/"
        },
        "id": "JUiR7UWCol8t",
        "outputId": "82f83598-94db-4dea-94b8-21dcb683e186"
      },
      "execution_count": 31,
      "outputs": [
        {
          "output_type": "stream",
          "name": "stdout",
          "text": [
            "28.0\n"
          ]
        }
      ]
    },
    {
      "cell_type": "code",
      "source": [
        "def 전처리(func):\n",
        "    def wrap_func(iterable):\n",
        "        iterable = list(map(int, iterable))\n",
        "        print(func(iterable))\n",
        "    return wrap_func\n",
        "\n",
        "@전처리\n",
        "def 평균(l):\n",
        "    return sum(l) / len(l)\n",
        "\n",
        "평균(['1', 2, 3, '4'])"
      ],
      "metadata": {
        "colab": {
          "base_uri": "https://localhost:8080/"
        },
        "id": "jJ4o9NompvRi",
        "outputId": "6bcd42ef-a3ba-43eb-b2a4-6543d93464e4"
      },
      "execution_count": 30,
      "outputs": [
        {
          "output_type": "stream",
          "name": "stdout",
          "text": [
            "2.5\n"
          ]
        }
      ]
    },
    {
      "cell_type": "code",
      "source": [
        "# 데코레이터 실습 문제\n",
        "# 다음 값이 들어갔을 때, 숫자만 모두 더하는 코드를 완성하세요.\n",
        "def 전처리(func):\n",
        "    def wrap_func(iterable):\n",
        "        a = []\n",
        "        for i in list(iterable):\n",
        "            if type(i) == int:\n",
        "                a.append(i)\n",
        "        wrap_func = a\n",
        "        print(wrap_func)\n",
        "    return wrap_func\n",
        "\n",
        "@전처리\n",
        "def 평균(l):\n",
        "    return sum(l) / len(l)\n",
        "\n",
        "@전처리\n",
        "def custom_sum(l):\n",
        "    return sum(l\n",
        "               )\n",
        "    \n",
        "custom_sum(['10', True, False, '21', 0, 10, 20])"
      ],
      "metadata": {
        "colab": {
          "base_uri": "https://localhost:8080/"
        },
        "id": "CQguOq0ipqmn",
        "outputId": "dd4b55f8-9498-4da0-9a1d-a934e6bfe38f"
      },
      "execution_count": 58,
      "outputs": [
        {
          "output_type": "stream",
          "name": "stdout",
          "text": [
            "[0, 10, 20]\n"
          ]
        }
      ]
    },
    {
      "cell_type": "code",
      "source": [
        "# 데코레이터 실습 문제\n",
        "# 다음 값이 들어갔을 때, 숫자만 모두 더하는 코드를 완성하세요.\n",
        "def 전처리(func):\n",
        "    def wrap_func(iterable):\n",
        "        print(func([int(i) for i in iterable if str(i).isdigit() == True]))\n",
        "    return wrap_func\n",
        "\n",
        "@전처리\n",
        "def custom_sum(l):\n",
        "    return sum(l)\n",
        "    \n",
        "custom_sum(['10', True, False, '21', 0, 10, 20])"
      ],
      "metadata": {
        "colab": {
          "base_uri": "https://localhost:8080/"
        },
        "id": "ndND7urJqnZX",
        "outputId": "e1502a60-6f89-41ed-e9a4-9fa5277ecde2"
      },
      "execution_count": 50,
      "outputs": [
        {
          "output_type": "stream",
          "name": "stdout",
          "text": [
            "61\n"
          ]
        }
      ]
    },
    {
      "cell_type": "code",
      "source": [
        "def decorator1(func):\n",
        "    def wrapper():\n",
        "        print('decorator1')\n",
        "        func()\n",
        "    return wrapper\n",
        " \n",
        "def decorator2(func):\n",
        "    def wrapper():\n",
        "        print('decorator2')\n",
        "        func()\n",
        "    return wrapper\n",
        " \n",
        "# 데코레이터를 여러 개 지정\n",
        "@decorator1\n",
        "@decorator2\n",
        "def hello():\n",
        "    print('hello')\n",
        " \n",
        "hello()"
      ],
      "metadata": {
        "colab": {
          "base_uri": "https://localhost:8080/"
        },
        "id": "B5FAjGhE_lbU",
        "outputId": "56e58c7b-94e1-4091-9984-89a4be4cee40"
      },
      "execution_count": 54,
      "outputs": [
        {
          "output_type": "stream",
          "name": "stdout",
          "text": [
            "decorator1\n",
            "decorator2\n",
            "hello\n"
          ]
        }
      ]
    },
    {
      "cell_type": "markdown",
      "source": [
        "## 모듈과 패키지"
      ],
      "metadata": {
        "id": "A3OvtfArCPYS"
      }
    },
    {
      "cell_type": "code",
      "source": [
        "# 주의!! 같은 이름이 있었을 경우\n",
        "# 마지막에 추가된 추가된 변수명으로 할당\n",
        "# import * 는 더더욱 포함시키는 변수, 메서드, 클래스 명을 알 수 없기에\n",
        "# 주의해서 사용해야 합니다.\n",
        "from test2 import name\n",
        "from test1 import name\n",
        "\n",
        "print(name)"
      ],
      "metadata": {
        "id": "glhghxs0Dvjx"
      },
      "execution_count": null,
      "outputs": []
    },
    {
      "cell_type": "code",
      "source": [
        "from one.tow import three\n",
        "print(three.name)"
      ],
      "metadata": {
        "colab": {
          "base_uri": "https://localhost:8080/"
        },
        "id": "axQXnZ0HAqF6",
        "outputId": "13d2e9c3-8ad9-475f-90ff-ec40b7b68dd5"
      },
      "execution_count": 65,
      "outputs": [
        {
          "output_type": "stream",
          "name": "stdout",
          "text": [
            "hello world\n"
          ]
        }
      ]
    },
    {
      "cell_type": "code",
      "source": [
        "import test1 as t\n",
        "t.hello\n"
      ],
      "metadata": {
        "colab": {
          "base_uri": "https://localhost:8080/"
        },
        "id": "6b0h-tJmEBcT",
        "outputId": "f600cdf2-328e-4989-e19a-05bc59759f80"
      },
      "execution_count": 3,
      "outputs": [
        {
          "output_type": "execute_result",
          "data": {
            "text/plain": [
              "<function test1.hello()>"
            ]
          },
          "metadata": {},
          "execution_count": 3
        }
      ]
    },
    {
      "cell_type": "markdown",
      "source": [
        "## 파일입출력"
      ],
      "metadata": {
        "id": "0HU0r9eIMyIg"
      }
    },
    {
      "cell_type": "code",
      "source": [
        "f = open('python.txt', 'w')#파일모드:\n",
        "f.close()"
      ],
      "metadata": {
        "id": "jN9rQeS6MVht"
      },
      "execution_count": 6,
      "outputs": []
    },
    {
      "cell_type": "code",
      "source": [
        "f = open('python.txt', 'w')\n",
        "s = 'hello\\nworld'\n",
        "f.write(s)\n",
        "f.close()"
      ],
      "metadata": {
        "id": "mKS8rk3bNxaz"
      },
      "execution_count": 7,
      "outputs": []
    },
    {
      "cell_type": "code",
      "source": [
        "data1 = ['one','tow','three']\n",
        "data2 = [10,20,30]\n",
        "'''\n",
        "{\n",
        "    \"one\": 10\n",
        "    \"tow\": 20\n",
        "    \"three\": 30\n",
        "\n",
        "}\n",
        "'''\n",
        "data3 = list(zip(data1,data2))\n",
        "f = open('data.json', 'w')\n",
        "for i in range(0,len(data3)):\n",
        "    for j in range(0,2):\n",
        "        f.write(str(data3[i][j]))\n",
        "        f.write(':')\n",
        "    f.write(',')\n",
        "    f.write('\\n')\n",
        "    \n",
        "        \n",
        "    \n",
        "    print(str(i))\n",
        "f.close()"
      ],
      "metadata": {
        "colab": {
          "base_uri": "https://localhost:8080/"
        },
        "id": "89GVaLcqN8AM",
        "outputId": "f0b4fafa-1fe9-4c4e-c741-f64b086a055d"
      },
      "execution_count": 19,
      "outputs": [
        {
          "output_type": "stream",
          "name": "stdout",
          "text": [
            "0\n",
            "1\n",
            "2\n"
          ]
        }
      ]
    },
    {
      "cell_type": "code",
      "source": [
        "import json\n",
        "\n",
        "\n",
        "data1 = ['one', 'two', 'three']\n",
        "data2 = [10, 20, 30]\n",
        "'''\n",
        "{\n",
        "    \"one\": 10\n",
        "    \"tow\": 20\n",
        "    \"three\": 30\n",
        "\n",
        "}\n",
        "'''\n",
        "\n",
        "f = open('data.js', 'w')\n",
        "s = json.dumps(dict(zip(data1,data2)), indent=4)\n",
        "f.write(s)\n",
        "f.close()"
      ],
      "metadata": {
        "id": "gjKQShHjPMzR"
      },
      "execution_count": 42,
      "outputs": []
    },
    {
      "cell_type": "code",
      "source": [
        "f = open('python.txt', 'r')\n",
        "while True:\n",
        "    line = f.readline()\n",
        "    if not line:\n",
        "        break\n",
        "    print(line)\n",
        "f.close()"
      ],
      "metadata": {
        "id": "z0gDzWLLVZ9d"
      },
      "execution_count": null,
      "outputs": []
    },
    {
      "cell_type": "code",
      "source": [
        "f = open('python.txt', 'r')\n",
        "lines = f.readlines()\n",
        "for line in lines:\n",
        "    print(line)\n",
        "f.close()"
      ],
      "metadata": {
        "id": "gmfF7VnLWhQp"
      },
      "execution_count": null,
      "outputs": []
    },
    {
      "cell_type": "code",
      "source": [
        "f = open('python.txt', 'r')\n",
        "data = f.read()\n",
        "print(data)\n",
        "f.close()"
      ],
      "metadata": {
        "colab": {
          "base_uri": "https://localhost:8080/"
        },
        "id": "J4Rl0R4yWj3o",
        "outputId": "02aef178-3003-4cf9-ede2-90fcc47d9da3"
      },
      "execution_count": 23,
      "outputs": [
        {
          "output_type": "stream",
          "name": "stdout",
          "text": [
            "\n"
          ]
        }
      ]
    },
    {
      "cell_type": "markdown",
      "source": [
        "## 파일 입출력 심화과정"
      ],
      "metadata": {
        "id": "hsi7b4m6Z0mL"
      }
    },
    {
      "cell_type": "markdown",
      "source": [
        "* github(https://github.com/paullabkorea/xlsxwriter) 에서 모든 소스코드를 다운로드 받으실 수 있습니다.\n",
        "* 무료책인 인공지능을 활용한 업무자동화 책(2021 Version Notion)을 활용하면 좀 더 활용성이 극대화된 코딩이 가능합니다.(크롤링, 워드파일 크롤링, PDF크롤링, 문자 보내기 등)\n",
        "* 업무자동화 Notion 링크 : https://paullabworkspace.notion.site/2021-6192ed4219fc4e7a96e10b22cfa27c80"
      ],
      "metadata": {
        "id": "4GBuFe_KaMCQ"
      }
    },
    {
      "cell_type": "code",
      "source": [
        "pip install xlsxwriter"
      ],
      "metadata": {
        "colab": {
          "base_uri": "https://localhost:8080/"
        },
        "id": "5D0G5ck7bVct",
        "outputId": "f9e11834-edb2-4555-d231-31ccadca6ccb"
      },
      "execution_count": 34,
      "outputs": [
        {
          "output_type": "stream",
          "name": "stdout",
          "text": [
            "Looking in indexes: https://pypi.org/simple, https://us-python.pkg.dev/colab-wheels/public/simple/\n",
            "Requirement already satisfied: xlsxwriter in /usr/local/lib/python3.10/dist-packages (3.1.0)\n"
          ]
        }
      ]
    },
    {
      "cell_type": "code",
      "source": [
        "import xlsxwriter"
      ],
      "metadata": {
        "id": "XQhlSKAKZ0Jy"
      },
      "execution_count": 35,
      "outputs": []
    },
    {
      "cell_type": "code",
      "source": [
        "홍길동 = ['홍길동',33, 88, 24]\n",
        "이호준 = ['이호준',34, 66, 77]\n",
        "김철수 = ['김철수',78, 82, 36]\n",
        "stu = list(zip(홍길동,이호준,김철수))"
      ],
      "metadata": {
        "id": "B9FYH_dJeHMB"
      },
      "execution_count": 37,
      "outputs": []
    },
    {
      "cell_type": "code",
      "source": [
        "import xlsxwriter\n",
        "\n",
        "홍길동 = [33, 88, 24]\n",
        "이호준 = [34, 66, 77]\n",
        "김철수 = [78, 82, 36]\n",
        "\n",
        "workbook = xlsxwriter.Workbook('test.xlsx')\n",
        "worksheet = workbook.add_worksheet('test')\n",
        "\n",
        "worksheet.write(0, 0, '이름')\n",
        "worksheet.write(0, 1, '국어')\n",
        "worksheet.write(0, 2, '영어')\n",
        "worksheet.write(0, 3, '수학')\n",
        "\n",
        "worksheet.write(1, 0, '홍길동')\n",
        "worksheet.write(2, 0, '이호준')\n",
        "worksheet.write(3, 0, '김철수')\n",
        "\n",
        "for i in range(len(홍길동)):\n",
        "    worksheet.write(1, i+1, 홍길동[i])\n",
        "    worksheet.write(2, i+1, 이호준[i])\n",
        "    worksheet.write(3, i+1, 김철수[i])\n",
        "\n",
        "workbook.close()"
      ],
      "metadata": {
        "id": "pA_OCejqCAN5"
      },
      "execution_count": null,
      "outputs": []
    },
    {
      "cell_type": "code",
      "source": [
        "for i in os.listdir():\n",
        "    if len(i.split('.')) >= 2:\n",
        "        if i.split('.')[1] == 'py' or i.split('.')[1] == 'txt':\n",
        "            print(i)"
      ],
      "metadata": {
        "id": "VSZIaHQdWtZG"
      },
      "execution_count": null,
      "outputs": []
    },
    {
      "cell_type": "code",
      "source": [
        "import glob\n",
        "\n",
        "glob.glob(\"*.py\")"
      ],
      "metadata": {
        "id": "AU-oie7gjIBG"
      },
      "execution_count": null,
      "outputs": []
    },
    {
      "cell_type": "code",
      "source": [
        "import json\n",
        "#writefile의 데코레이터 기능은 아래와 같은 형식으로 result.txt에 항상 저장되게 하는 것입니다.\n",
        "# {\n",
        "#     \"a\": 10,\n",
        "#     \"b\": 20,\n",
        "#     \"a+b\": 30\n",
        "# }\n",
        "\n",
        "def writefile(func):\n",
        "    def calculate(a,b):\n",
        "        l = ['a', 'b', 'a + b','a ** b']\n",
        "        cal = [a, b, a + b, a ** b]\n",
        "        f = open('result.txt', 'w')\n",
        "        s = json.dumps(dict(zip(l,cal)), indent=4)\n",
        "        f.write(s)\n",
        "        f.close()\n",
        "        print('완료')\n",
        "    return calculate\n",
        "\n",
        "@writefile\n",
        "def add(a, b):\n",
        "    return a + b\n",
        "\n",
        "add(2, 6)"
      ],
      "metadata": {
        "colab": {
          "base_uri": "https://localhost:8080/"
        },
        "id": "MSYQJxAqnQZK",
        "outputId": "5788716c-fa51-4008-f0fc-499a3fb52f2f"
      },
      "execution_count": 5,
      "outputs": [
        {
          "output_type": "stream",
          "name": "stdout",
          "text": [
            "완료\n"
          ]
        }
      ]
    },
    {
      "cell_type": "code",
      "source": [
        "# 데코레이터에 argument를 넣는 방법\n",
        "def deco1(name):\n",
        "    def deco2(func):\n",
        "        def wrapper():\n",
        "            print('decorator1')\n",
        "            func()\n",
        "        return wrapper\n",
        "    return deco2\n",
        " \n",
        "# 데코레이터를 여러 개 지정\n",
        "@deco1('hojun')\n",
        "def hello():\n",
        "    print('hello')\n",
        " \n",
        "hello()"
      ],
      "metadata": {
        "colab": {
          "base_uri": "https://localhost:8080/"
        },
        "id": "W9VQFl0ojp_a",
        "outputId": "75e2181c-456d-402a-a635-25eb12f18147"
      },
      "execution_count": 6,
      "outputs": [
        {
          "output_type": "stream",
          "name": "stdout",
          "text": [
            "decorator1\n",
            "hello\n"
          ]
        }
      ]
    },
    {
      "cell_type": "code",
      "source": [
        "# 2중 decorator\n",
        "def decorator1(func):\n",
        "    def wrapper():\n",
        "        print(f'deco1 > wrapper > func : {id(func)}')\n",
        "        func()\n",
        "    print(f'deco1 > wrapper : {id(wrapper)}')\n",
        "    return wrapper\n",
        " \n",
        "def decorator2(func):\n",
        "    def wrapper():\n",
        "        print(f'deco2 > wrapper > func : {id(func)}')\n",
        "        func()\n",
        "    print(f'deco2 > wrapper : {id(wrapper)}')\n",
        "    return wrapper\n",
        " \n",
        "# 데코레이터를 여러 개 지정\n",
        "@decorator1\n",
        "@decorator2\n",
        "def hello():\n",
        "    print('hello')\n",
        " \n",
        "hello()"
      ],
      "metadata": {
        "colab": {
          "base_uri": "https://localhost:8080/"
        },
        "id": "GdEYYifF4QgK",
        "outputId": "eb12aeb9-6ffd-47d8-8ed4-75bd81afdfac"
      },
      "execution_count": 7,
      "outputs": [
        {
          "output_type": "stream",
          "name": "stdout",
          "text": [
            "deco2 > wrapper : 139870178996384\n",
            "deco1 > wrapper : 139870178996816\n",
            "deco1 > wrapper > func : 139870178996384\n",
            "deco2 > wrapper > func : 139870178996240\n",
            "hello\n"
          ]
        }
      ]
    },
    {
      "cell_type": "markdown",
      "source": [
        "## !! 오늘 배운 것 정리\n",
        "* 제너레이터\n",
        "    * 제너레이터란, 이터레이터(순회 가능한 객체)를 생성해주는 함수\n",
        "    * 예제 1\n",
        "        ```python\n",
        "        def gen():\n",
        "            count = 0\n",
        "            while True:\n",
        "                yield count\n",
        "                count += 1\n",
        "        for i in gen():\n",
        "            print(i)\n",
        "            if i == 10:\n",
        "                break\n",
        "        ```\n",
        "* 데코레이터\n",
        "    * 함수 앞 뒤로 다른 역활을 해주는 기능을 붙이고 싶을 때 사용\n",
        "    * 코드 예\n",
        "        ```python\n",
        "        def print_hello(func):\n",
        "            def wrap_func():\n",
        "                print('hello start')\n",
        "                func()\n",
        "                print('hello end')\n",
        "            return wrap_func\n",
        "\n",
        "        @print_hello\n",
        "        def func1():\n",
        "            print('func1 입니다.')\n",
        "\n",
        "        func1()\n",
        "        ```\n",
        "\n",
        "* 파이썬 모듈\n",
        "    * 모듈 : 함수나 변수 또는 클래스를 모아 놓은 파이썬 파일\n",
        "    * 패키지 : 파이썬 모듈들을 계층적으로 관리\n",
        "    * 모듈 사용 예1\n",
        "    ```python\n",
        "    # 같은 폴더 내 test1.py\n",
        "    name = 'leehojun'\n",
        "    age = 10\n",
        "\n",
        "    def hello():\n",
        "        pass\n",
        "\n",
        "    class Human():\n",
        "        pass\n",
        "\n",
        "    # 같은 폴더 내 실행 파일\n",
        "    import test1\n",
        "\n",
        "    print(test1.name)\n",
        "    print(test1.hello())\n",
        "    ```\n",
        "    * 예2\n",
        "    ```python\n",
        "    # 연습 3 (폴더 > 파일 생성)\n",
        "    # one이라는 것이 여기서는 폴더입니다!\n",
        "    # two가 file 이름이에요.\n",
        "    from one import two\n",
        "\n",
        "    print(two.name)\n",
        "    ```\n",
        "    * 예3\n",
        "    ```python\n",
        "    # 연습 4 (폴더 > 폴더 > 파일 생성)\n",
        "    # 런타임 재시작 하세요!\n",
        "    from one.two import three\n",
        "\n",
        "    print(three.name)\n",
        "    ```\n",
        "\n",
        "* 파일 입출력\n",
        "    * 파일을 읽고 쓰는 것\n",
        "        * 파일 쓰기\n",
        "        ```python\n",
        "        f = open('python.txt', 'w') \n",
        "        # 파일모드 : r(read), w(write, 처음부터 덮어씁니다.), a(append)\n",
        "        s = 'hello\\nworld'\n",
        "        f.write(s)\n",
        "        f.close()\n",
        "        ```\n",
        "        * 파일 읽기\n",
        "        ```python\n",
        "        f = open('python.txt', 'r')\n",
        "        while True:\n",
        "            line = f.readline()\n",
        "            if not line:\n",
        "                break\n",
        "            print(line)\n",
        "        f.close()\n",
        "        ```\n",
        "        ```python\n",
        "        f = open('python.txt', 'r')\n",
        "        data = f.read()\n",
        "        print(data)\n",
        "        f.close()\n",
        "        ```"
      ],
      "metadata": {
        "id": "IfXOYZJJA1Zj"
      }
    },
    {
      "cell_type": "code",
      "source": [],
      "metadata": {
        "id": "sQLRTnGPAqrL"
      },
      "execution_count": null,
      "outputs": []
    }
  ]
}