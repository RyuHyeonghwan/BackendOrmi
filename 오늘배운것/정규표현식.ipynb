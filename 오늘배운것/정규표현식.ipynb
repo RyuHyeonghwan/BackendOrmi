{
  "nbformat": 4,
  "nbformat_minor": 0,
  "metadata": {
    "colab": {
      "provenance": [],
      "toc_visible": true,
      "authorship_tag": "ABX9TyNKq0djwl1LTNFq2VvCXZXx",
      "include_colab_link": true
    },
    "kernelspec": {
      "name": "python3",
      "display_name": "Python 3"
    },
    "language_info": {
      "name": "python"
    }
  },
  "cells": [
    {
      "cell_type": "markdown",
      "metadata": {
        "id": "view-in-github",
        "colab_type": "text"
      },
      "source": [
        "<a href=\"https://colab.research.google.com/github/RyuHyeonghwan/BackendOrmi/blob/main/%EC%98%A4%EB%8A%98%EB%B0%B0%EC%9A%B4%EA%B2%83/%EC%A0%95%EA%B7%9C%ED%91%9C%ED%98%84%EC%8B%9D.ipynb\" target=\"_parent\"><img src=\"https://colab.research.google.com/assets/colab-badge.svg\" alt=\"Open In Colab\"/></a>"
      ]
    },
    {
      "cell_type": "code",
      "execution_count": 1,
      "metadata": {
        "id": "fDDKaSkokicJ"
      },
      "outputs": [],
      "source": [
        "# 문제를 보면\n",
        "# step 1. 어떤 자료 구조를 사용하여 이 문제를 풀어갈 것인지\n",
        "#         저는 class를 선택\n",
        "class Stock:\n",
        "    def __init__(self,날짜, 종가, 전일비, 시가, 고가, 저가, 거래량):\n",
        "        self.날짜 = 날짜\n",
        "        self.종가 = 종가\n",
        "        self.전일비 = 전일비\n",
        "        self.시가 = 시가\n",
        "        self.고가 = 고가\n",
        "        self.저가 = 저가\n",
        "        self.거래량 = 거래량\n",
        "\n",
        "    def 거래금액(self):\n",
        "        return self.종가 * self.거래량"
      ]
    },
    {
      "cell_type": "code",
      "source": [
        "# step 2. 자료구조가 정해졌으면 함수 아키텍처를 어떤 구조로 가져갈지\n",
        "#         각 함수에 들어가는 파라미터나 아규먼트도 고민을 해야 합니다.\n",
        "\n",
        "from bs4 import BeautifulSoup\n",
        "import requests\n",
        "\n",
        "#1\n",
        "def get_parsing_data():\n",
        "    '''\n",
        "    requests 모듈 사용해서 data를 가져와 bs4로 parsing해주는 함수\n",
        "    '''\n",
        "    pass\n",
        "\n",
        "#2\n",
        "def get_select_data():\n",
        "    '''\n",
        "    parsing된 데이터에서 목적에 맞는 데이터 추출\n",
        "    '''\n",
        "    pass\n",
        "\n",
        "#3\n",
        "def create_instance():\n",
        "    '''\n",
        "    데이터 추출한 것을 인스턴스로 생성\n",
        "    '''\n",
        "    pass\n",
        "\n",
        "#4\n",
        "def sum_data():\n",
        "    '''\n",
        "    인스턴스에서 필요 영역을 다 더할 수 있도록 하는 함수\n",
        "    '''\n",
        "    pass"
      ],
      "metadata": {
        "id": "Q1frPXmTonD0"
      },
      "execution_count": null,
      "outputs": []
    },
    {
      "cell_type": "code",
      "source": [
        "# step3 함수 코딩\n",
        "\n",
        "from bs4 import BeautifulSoup\n",
        "import requests\n",
        "\n",
        "def get_parsing_data(url):\n",
        "    response = requests.get(url)\n",
        "    response.encoding = 'utf-8'\n",
        "    html = response.text\n",
        "    soup = BeautifulSoup(html, 'html.parser')\n",
        "    return soup\n",
        "\n",
        "def get_select_data(data, name, location): #company name은 활용하지 않습니다.\n",
        "    return data.select('body > .main > table')[0]\n",
        "\n",
        "def create_instance(datalist, selecdata):\n",
        "    # 날짜 구해주는 함수를 깜빡했는데\n",
        "    # 그대로(슬라이싱으로) 진행하겠습니다.\n",
        "    for i in selecdata.select('tr')[1:]:\n",
        "        print(i.select('td'))\n",
        "        # 날짜.text, 종가.text, 전일비.text, 시가.text, 고가.text, 저가.text, 거래량.text = i.select('td')\n",
        "        # print(날짜, 종가, 전일비)\n",
        "    # datalist.append(Stock())\n",
        "\n",
        "def sum_data():\n",
        "    pass\n",
        "\n",
        "soupdata = get_parsing_data('http://paullab.synology.me/stock.html')\n",
        "selecdata = get_select_data(soupdata, \n",
        "                '제주코딩베이스캠프연구원', \n",
        "                'body > .main > table')\n",
        "datalist = []\n",
        "create_instance(datalist, selecdata)"
      ],
      "metadata": {
        "colab": {
          "base_uri": "https://localhost:8080/"
        },
        "id": "DiagpW35ovQ7",
        "outputId": "ee760416-0138-4bed-a224-eed5e45c340b"
      },
      "execution_count": 3,
      "outputs": [
        {
          "output_type": "stream",
          "name": "stdout",
          "text": [
            "[<td align=\"center \"><span class=\"date\">2019.10.23</span></td>, <td class=\"num\"><span>6,650</span></td>, <td class=\"num\">\n",
            "<img alt=\"상승 \" height=\"6 \" src=\"ico_up.gif \" style=\"margin-right:4px; \" width=\"7 \"/><span>\r\n",
            "                            20\r\n",
            "                        </span>\n",
            "</td>, <td class=\"num\"><span>6,590</span></td>, <td class=\"num\"><span>6,830</span></td>, <td class=\"num\"><span>6,580</span></td>, <td class=\"num\"><span>398,421</span></td>]\n",
            "[<td align=\"center\"><span class=\"date\">2019.10.22</span></td>, <td class=\"num\"><span>6,630</span></td>, <td class=\"num\">\n",
            "<img alt=\"하락\" height=\"6\" src=\"ico_down.gif\" style=\"margin-right:4px;\" width=\"7\"/><span class=\"tah p11 nv01\">\r\n",
            "                            190\r\n",
            "                        </span>\n",
            "</td>, <td class=\"num\"><span>6,830</span></td>, <td class=\"num\"><span>6,930</span></td>, <td class=\"num\"><span>6,530</span></td>, <td class=\"num\"><span>919,571</span></td>]\n",
            "[<td align=\"center\"><span class=\"date\">2019.10.21</span></td>, <td class=\"num\"><span>6,820</span></td>, <td class=\"num\">\n",
            "<img alt=\"상승\" height=\"6\" src=\"ico_up.gif\" style=\"margin-right:4px;\" width=\"7\"/><span>\r\n",
            "                            390\r\n",
            "                        </span>\n",
            "</td>, <td class=\"num\"><span>6,440</span></td>, <td class=\"num\"><span>6,890</span></td>, <td class=\"num\"><span>6,360</span></td>, <td class=\"num\"><span>1,678,055</span></td>]\n",
            "[<td align=\"center\"><span class=\"date\">2019.10.18</span></td>, <td class=\"num\"><span>6,430</span></td>, <td class=\"num\">\n",
            "<img alt=\"상승\" height=\"6\" src=\"ico_up.gif\" style=\"margin-right:4px;\" width=\"7\"/><span>\r\n",
            "                            480\r\n",
            "                        </span>\n",
            "</td>, <td class=\"num\"><span>6,020</span></td>, <td class=\"num\"><span>6,620</span></td>, <td class=\"num\"><span>5,970</span></td>, <td class=\"num\"><span>2,168,857</span></td>]\n",
            "[<td align=\"center\"><span class=\"date\">2019.10.17</span></td>, <td class=\"num\"><span>5,950</span></td>, <td class=\"num\">\n",
            "<img alt=\"상승\" height=\"6\" src=\"ico_up.gif\" style=\"margin-right:4px;\" width=\"7\"/><span>\r\n",
            "                            20\r\n",
            "                        </span>\n",
            "</td>, <td class=\"num\"><span>6,100</span></td>, <td class=\"num\"><span>6,180</span></td>, <td class=\"num\"><span>5,840</span></td>, <td class=\"num\"><span>1,982,922</span></td>]\n",
            "[<td align=\"center\"><span class=\"date\">2019.10.16</span></td>, <td class=\"num\"><span>5,930</span></td>, <td class=\"num\">\n",
            "<img alt=\"상승\" height=\"6\" src=\"ico_up.gif\" style=\"margin-right:4px;\" width=\"7\"/><span>\r\n",
            "                            290\r\n",
            "                        </span>\n",
            "</td>, <td class=\"num\"><span>5,620</span></td>, <td class=\"num\"><span>5,930</span></td>, <td class=\"num\"><span>5,350</span></td>, <td class=\"num\"><span>839,434</span></td>]\n",
            "[<td align=\"center\"><span class=\"date\">2019.10.15</span></td>, <td class=\"num\"><span>5,640</span></td>, <td class=\"num\">\n",
            "<img alt=\"상승\" height=\"6\" src=\"ico_up.gif\" style=\"margin-right:4px;\" width=\"7\"/><span>\r\n",
            "                            260\r\n",
            "                        </span>\n",
            "</td>, <td class=\"num\"><span>5,370</span></td>, <td class=\"num\"><span>5,660</span></td>, <td class=\"num\"><span>5,300</span></td>, <td class=\"num\"><span>702,104</span></td>]\n",
            "[<td align=\"center\"><span class=\"date\">2019.10.14</span></td>, <td class=\"num\"><span>5,380</span></td>, <td class=\"num\">\n",
            "<img alt=\"상승\" height=\"6\" src=\"ico_up.gif\" style=\"margin-right:4px;\" width=\"7\"/><span>\r\n",
            "                            340\r\n",
            "                        </span>\n",
            "</td>, <td class=\"num\"><span>5,060</span></td>, <td class=\"num\"><span>5,420</span></td>, <td class=\"num\"><span>5,060</span></td>, <td class=\"num\"><span>764,800</span></td>]\n",
            "[<td align=\"center\"><span class=\"date\">2019.10.11</span></td>, <td class=\"num\"><span>5,040</span></td>, <td class=\"num\">\n",
            "<img alt=\"하락\" height=\"6\" src=\"ico_down.gif\" style=\"margin-right:4px;\" width=\"7\"/><span class=\"tah p11 nv01\">\r\n",
            "                            60\r\n",
            "                        </span>\n",
            "</td>, <td class=\"num\"><span>5,100</span></td>, <td class=\"num\"><span>5,170</span></td>, <td class=\"num\"><span>5,020</span></td>, <td class=\"num\"><span>134,558</span></td>]\n",
            "[<td align=\"center\"><span class=\"date\">2019.10.10</span></td>, <td class=\"num\"><span>5,100</span></td>, <td class=\"num\">\n",
            "<img alt=\"상승\" height=\"6\" src=\"ico_up.gif\" style=\"margin-right:4px;\" width=\"7\"/><span>\r\n",
            "                            50\r\n",
            "                        </span>\n",
            "</td>, <td class=\"num\"><span>5,000</span></td>, <td class=\"num\"><span>5,120</span></td>, <td class=\"num\"><span>4,970</span></td>, <td class=\"num\"><span>288,563</span></td>]\n",
            "[<td align=\"center\"><span class=\"date\">2019.10.08</span></td>, <td class=\"num\"><span>5,050</span></td>, <td class=\"num\">\n",
            "<img alt=\"상승\" height=\"6\" src=\"ico_up.gif\" style=\"margin-right:4px;\" width=\"7\"/><span>\r\n",
            "                            110\r\n",
            "                        </span>\n",
            "</td>, <td class=\"num\"><span>4,985</span></td>, <td class=\"num\"><span>5,050</span></td>, <td class=\"num\"><span>4,910</span></td>, <td class=\"num\"><span>223,839</span></td>]\n",
            "[<td align=\"center\"><span class=\"date\">2019.10.07</span></td>, <td class=\"num\"><span>4,940</span></td>, <td class=\"num\">\n",
            "<img alt=\"하락\" height=\"6\" src=\"ico_down.gif\" style=\"margin-right:4px;\" width=\"7\"/><span class=\"tah p11 nv01\">\r\n",
            "                            70\r\n",
            "                        </span>\n",
            "</td>, <td class=\"num\"><span>4,990</span></td>, <td class=\"num\"><span>5,110</span></td>, <td class=\"num\"><span>4,905</span></td>, <td class=\"num\"><span>199,580</span></td>]\n",
            "[<td align=\"center\"><span class=\"date\">2019.10.04</span></td>, <td class=\"num\"><span>5,010</span></td>, <td class=\"num\">\n",
            "<img alt=\"상승\" height=\"6\" src=\"ico_up.gif\" style=\"margin-right:4px;\" width=\"7\"/><span>\r\n",
            "                            90\r\n",
            "                        </span>\n",
            "</td>, <td class=\"num\"><span>4,900</span></td>, <td class=\"num\"><span>5,050</span></td>, <td class=\"num\"><span>4,900</span></td>, <td class=\"num\"><span>188,467</span></td>]\n",
            "[<td align=\"center\"><span class=\"date\">2019.10.02</span></td>, <td class=\"num\"><span>4,920</span></td>, <td class=\"num\">\n",
            "<img alt=\"하락\" height=\"6\" src=\"ico_down.gif\" style=\"margin-right:4px;\" width=\"7\"/><span class=\"tah p11 nv01\">\r\n",
            "                            90\r\n",
            "                        </span>\n",
            "</td>, <td class=\"num\"><span>4,930</span></td>, <td class=\"num\"><span>5,000</span></td>, <td class=\"num\"><span>4,900</span></td>, <td class=\"num\"><span>160,510</span></td>]\n",
            "[<td align=\"center\"><span class=\"date\">2019.10.01</span></td>, <td class=\"num\"><span>5,010</span></td>, <td class=\"num\">\n",
            "<img alt=\"상승\" height=\"6\" src=\"ico_up.gif\" style=\"margin-right:4px;\" width=\"7\"/><span>\r\n",
            "                            10\r\n",
            "                        </span>\n",
            "</td>, <td class=\"num\"><span>4,950</span></td>, <td class=\"num\"><span>5,050</span></td>, <td class=\"num\"><span>4,950</span></td>, <td class=\"num\"><span>246,145</span></td>]\n",
            "[<td align=\"center\"><span class=\"date\">2019.09.30</span></td>, <td class=\"num\"><span>5,000</span></td>, <td class=\"num\">\n",
            "<img alt=\"하락\" height=\"6\" src=\"ico_down.gif\" style=\"margin-right:4px;\" width=\"7\"/><span class=\"tah p11 nv01\">\r\n",
            "                            10\r\n",
            "                        </span>\n",
            "</td>, <td class=\"num\"><span>5,180</span></td>, <td class=\"num\"><span>5,300</span></td>, <td class=\"num\"><span>4,990</span></td>, <td class=\"num\"><span>705,046</span></td>]\n",
            "[<td align=\"center\"><span class=\"date\">2019.09.27</span></td>, <td class=\"num\"><span>5,010</span></td>, <td class=\"num\">\n",
            "<img alt=\"하락\" height=\"6\" src=\"ico_down.gif\" style=\"margin-right:4px;\" width=\"7\"/><span class=\"tah p11 nv01\">\r\n",
            "                            50\r\n",
            "                        </span>\n",
            "</td>, <td class=\"num\"><span>5,020</span></td>, <td class=\"num\"><span>5,080</span></td>, <td class=\"num\"><span>4,865</span></td>, <td class=\"num\"><span>408,859</span></td>]\n",
            "[<td align=\"center\"><span class=\"date\">2019.09.26</span></td>, <td class=\"num\"><span>5,060</span></td>, <td class=\"num\">\n",
            "<span>0</span>\n",
            "</td>, <td class=\"num\"><span>5,130</span></td>, <td class=\"num\"><span>5,200</span></td>, <td class=\"num\"><span>4,965</span></td>, <td class=\"num\"><span>404,633</span></td>]\n",
            "[<td align=\"center\"><span class=\"date\">2019.09.25</span></td>, <td class=\"num\"><span>5,060</span></td>, <td class=\"num\">\n",
            "<img alt=\"하락\" height=\"6\" src=\"ico_down.gif\" style=\"margin-right:4px;\" width=\"7\"/><span class=\"tah p11 nv01\">\r\n",
            "                            270\r\n",
            "                        </span>\n",
            "</td>, <td class=\"num\"><span>5,280</span></td>, <td class=\"num\"><span>5,320</span></td>, <td class=\"num\"><span>5,040</span></td>, <td class=\"num\"><span>441,923</span></td>]\n",
            "[<td align=\"center\"><span class=\"date\">2019.09.24</span></td>, <td class=\"num\"><span>5,330</span></td>, <td class=\"num\">\n",
            "<img alt=\"상승\" height=\"6\" src=\"ico_up.gif\" style=\"margin-right:4px;\" width=\"7\"/><span>\r\n",
            "                            10\r\n",
            "                        </span>\n",
            "</td>, <td class=\"num\"><span>5,300</span></td>, <td class=\"num\"><span>5,370</span></td>, <td class=\"num\"><span>5,280</span></td>, <td class=\"num\"><span>211,019</span></td>]\n"
          ]
        }
      ]
    },
    {
      "cell_type": "code",
      "source": [
        "response = requests.get('http://paullab.synology.me/stock.html')\n",
        "\n",
        "response.encoding = 'utf-8'\n",
        "html = response.text\n",
        "\n",
        "soup = BeautifulSoup(html, 'html.parser')\n",
        "\n",
        "data = soup.select('body > .main > table')[0]\n",
        "\n",
        "for i in data.select('tr')[1:]:\n",
        "    for j in i.select('td'):\n",
        "        print(j.text.strip())\n",
        "    print('----')"
      ],
      "metadata": {
        "id": "WVHnNEAdtmQG"
      },
      "execution_count": null,
      "outputs": []
    },
    {
      "cell_type": "code",
      "source": [
        "response = requests.get('http://paullab.synology.me/stock.html')\n",
        "\n",
        "response.encoding = 'utf-8'\n",
        "html = response.text\n",
        "\n",
        "soup = BeautifulSoup(html, 'html.parser')\n",
        "\n",
        "data = soup.select('body > .main > table')[0]\n",
        "\n",
        "for i in data.select('tr')[1:]:\n",
        "    print(i.select('td:nth-child(7)'))"
      ],
      "metadata": {
        "id": "mHME4ySSt4vI"
      },
      "execution_count": null,
      "outputs": []
    },
    {
      "cell_type": "code",
      "source": [
        "response = requests.get('http://paullab.synology.me/stock.html')\n",
        "\n",
        "response.encoding = 'utf-8'\n",
        "html = response.text\n",
        "\n",
        "soup = BeautifulSoup(html, 'html.parser')\n",
        "\n",
        "data = soup.select('body > .main > table')[0]\n",
        "\n",
        "result = []\n",
        "for i in data.select('tr')[1:]:\n",
        "    result.append(int(i.select('td:nth-child(7)')[0].text.replace(',', '')))\n",
        "\n",
        "sum(result)"
      ],
      "metadata": {
        "colab": {
          "base_uri": "https://localhost:8080/"
        },
        "id": "F7KIIgG0uL04",
        "outputId": "76e09c4b-1633-47e2-b08c-8cbadf61c59a"
      },
      "execution_count": 5,
      "outputs": [
        {
          "output_type": "execute_result",
          "data": {
            "text/plain": [
              "13067306"
            ]
          },
          "metadata": {},
          "execution_count": 5
        }
      ]
    },
    {
      "cell_type": "code",
      "source": [
        "# step3 함수 코딩\n",
        "\n",
        "from bs4 import BeautifulSoup\n",
        "import requests\n",
        "\n",
        "def get_parsing_data(url):\n",
        "    response = requests.get(url)\n",
        "    response.encoding = 'utf-8'\n",
        "    html = response.text\n",
        "    soup = BeautifulSoup(html, 'html.parser')\n",
        "    return soup\n",
        "\n",
        "def get_select_data(data, name, location): #company name은 활용하지 않습니다.\n",
        "    return data.select('body > .main > table')[0]\n",
        "\n",
        "def create_instance(datalist, selecdata):\n",
        "    # 날짜 구해주는 함수를 깜빡했는데\n",
        "    # 그대로(슬라이싱으로) 진행하겠습니다.\n",
        "    for i in selecdata.select('tr')[1:]:\n",
        "        # print(i.select('td'))\n",
        "        날짜, 종가, 전일비, 시가, 고가, 저가, 거래량 = i.select('td')\n",
        "        # print(날짜.text.strip(), \n",
        "        #       종가.text.strip(), \n",
        "        #       전일비.text.strip(),\n",
        "        #       시가.text.strip(), \n",
        "        #       고가.text.strip(), \n",
        "        #       저가.text.strip(), \n",
        "        #       거래량.text.strip())\n",
        "        datalist.append(Stock(날짜.text.strip(), \n",
        "              종가.text.strip(), \n",
        "              전일비.text.strip(),\n",
        "              시가.text.strip(), \n",
        "              고가.text.strip(), \n",
        "              저가.text.strip(), \n",
        "              거래량.text.strip()))\n",
        "        # print(날짜, 종가, 전일비)\n",
        "\n",
        "def sum_data(l):\n",
        "    pass\n",
        "\n",
        "\n",
        "soupdata = get_parsing_data('http://paullab.synology.me/stock.html')\n",
        "selecdata = get_select_data(soupdata, \n",
        "                '제주코딩베이스캠프연구원', \n",
        "                'body > .main > table')\n",
        "datalist = []\n",
        "create_instance(datalist, selecdata)\n",
        "datalist[0].거래량\n"
      ],
      "metadata": {
        "colab": {
          "base_uri": "https://localhost:8080/",
          "height": 35
        },
        "id": "FbSEC1Nvvyy4",
        "outputId": "e563ed2e-9f28-4df5-d2fe-df19463ce288"
      },
      "execution_count": 27,
      "outputs": [
        {
          "output_type": "execute_result",
          "data": {
            "text/plain": [
              "'398,421'"
            ],
            "application/vnd.google.colaboratory.intrinsic+json": {
              "type": "string"
            }
          },
          "metadata": {},
          "execution_count": 27
        }
      ]
    },
    {
      "cell_type": "markdown",
      "source": [
        "## 정규표현식\n",
        "\n",
        "- Anchors(처음과끝)\n",
        "        /^hello/gm : 처음에 hello\n",
        "        /hello$/gm : 끝에 hello\n",
        "\n",
        "* dot(모든문자)\n",
        "        /.ello/gm : hello, Hello, vello\n",
        "        /./gm : 모든 문자열(*과 같은 역할)\n",
        "        /....../gm : 모든 6개의 문자열\n",
        "\n",
        "* 대괄호(1택)\n",
        "        /h[eay]llo/gm : 대괄호 안에 문자 1개에 해당\n",
        "        /h[ea]l../gm :총 5개의 문자\n",
        "\n",
        "* 대쉬(범위)\n",
        "        /h[a-f]llo/gm\n",
        "        /[a-zA-Z0-9]/gm : 모든 알파뱃과 숫자를 찾음\n",
        "        /[^a-zA-Z0-9]/gm : 나머지 문자열을 찾음  \n",
        "\n",
        "* caret(대괄호 안에 들어가면 부정) \n",
        " * 아래경우 a 와 e가 모두 부정\n",
        "        /h[^ae]llo/gm : 대괄호 안에 있다면 not에 의미\n",
        "\n",
        "* 소괄호(서브페턴, 그루핑)\n",
        " * 패턴으로 외우는것보다 뎨제로 습득하는게 이해하기 쉬움\n",
        "        /(on|ues|rida)/gm: 그룹1로 3개중 매칭되는 패턴을 찾음\n",
        "\n",
        "* 수량자\n",
        "        _+ : 앞에 있는문자가 0개 ~ N개\n",
        "        _+ : 앞에 있는 문자가 0개 ~ N개\n",
        "        _? : 앞에 있는 문자가 0개 ~ 1개 \n",
        "\n",
        "        {3} : 3개\n",
        "        {3,} : 3개 이상\n",
        "        {1,3} :1개 ~3개 \n",
        "\n",
        "        _* : 앞에 있는 문자가 0개 ~ N개 ({0,})\n",
        "        _+ : 앞에 있는 문자가 1개 ~ N개({1,})\n",
        "        _? : 앞에 있는 문자가 0개 ~ 1개 ({0,1})\n",
        "\n",
        "        /[0-9]{3}[-.* ][0-9]{4}[-.* ][0-9]{4}/gm\n",
        "        /[0-9a-zA-Z]{2,3}[-.* ][0-9]{3,4}[-.* ][0-9]{4}/gm\n",
        "        /[0-9a-zA-Z]+@[0-9a-zA-Z]+.[a-zA-Z]+/gm\n",
        "\n",
        "* 캐릭터 클래스\n",
        "        /\\w/gm : 워드\n",
        "        /\\w{5} /gm: 5개의 글자와 스페이스 하나\n",
        "        /\\W/gm : not워드\n",
        "        /\\d/gm : 숫자\n",
        "        /\\D/gm : not숫자\n",
        "        /\\s/gm : 스페이스\n",
        "        /\\S/gm : not스페이스\n",
        "\n",
        "* 이스케이프 문자\n",
        "        /\\[.*]/gm : 대괄호([])안에 감싸여진 문자열\n",
        "        /\\(.*\\)/gm : 소괄호 안에 감싸여진 문자열\n",
        "        /\\\\.\\//gm : 이미 사용되고 있는 특수 문자로 감싸여진 문자열\n",
        "        /-.*-/gm : 이스케이프 문자가 필요한 경우\n",
        "        /\\^\\^/gm : 이스케이프 문자가 필요한 경우\n",
        "        /:\\/ : 이스케이프 문자가 필요한 경우\n",
        "\n",
        "* (연습) 전화번호\n",
        "\n",
        "        010[-,. ]?[0-9]{4}[-,. ]?[0-9]{4}\n",
        "        010([-,. ]?[0-9]{4}){2}\n",
        "\n",
        "* 공식문서: https://docs.python.org/ko/3/library/re.html"
      ],
      "metadata": {
        "id": "3-i5UHsLzVPb"
      }
    },
    {
      "cell_type": "markdown",
      "source": [
        "* 정규 표현식에서 자주 사용되는 패턴\n",
        " * 아래와 같이 2가지 방법으로 사용할 수 있습니다.        \n",
        "```python\n",
        "#1\n",
        "p = re.compile(r'([0-9|10])(SDT)(\\*\\#]?)')\n",
        "p.findall('1S2D*3T')\n",
        "#2\n",
        "re.findall(r'([0-9|10](SDT)([\\*\\#]?)'\n",
        "```\n",
        " * compile() : 패턴 컴파일\n",
        " * match() : 문자열의 앞 부분이 매치되는가를 체크, 추출\n",
        " * sub() : 매치된 부분을 치환(str에 replace와 같은 역할)\n",
        " * search() : 선두에 한해서 매치하는지를 체크, 추출\n",
        " * findall() : 매치된 부분 모두 리스트 반환\n",
        " * finditer() : 정규식과 매치되는 모든 문자열을 반복가능한 객체로 리턴한다\n",
        " * spilt : 정규표현 패턴으로 문자열 을 분할(str에 split와 같은 역할)\n",
        "* 변환 객체의 값\n",
        " * group() : 매치된 문자열\n",
        " * groups() : 매치된 문자열 전체\n",
        " * start() : 매치된 문자열의 시작 위치\n",
        " * end() : 매치된 문자열의 끝 위치\n",
        " * span() : 매치된 문자열의 시작과 끝\n",
        "\n",
        "* 컴파일 옵션\n",
        " * 사용예\n",
        " ```python\n",
        " e.compile('[a-z]+', re.I)\n",
        "```\n",
        "* re.DOTALL, re.S : 줄바꿈 문자까지 모두 매칭\n",
        "* re.IGNORECASE, re.I : 대소문자 구분하지 않음\n",
        "* re.MULTILINE, re.M : ^, & 등의 매칭 패턴을 라인마다 적용\n",
        "* re.VERBOSE, re.X : 아래와 같이 #으로 주석문을 사용할 수 있음\n",
        "  ```python\n",
        "a = re.compile(r\"\"\"\\d +  # the integral part\n",
        "             \\.    # the decimal point\n",
        "             \\d *  # some fractional digits\"\"\", re.X)\n",
        "b = re.compile(r\"\\d+\\.\\d*\")\n",
        "```\n",
        "* tip\n",
        " * 같은 패턴입니다\n",
        "  ```python\n",
        "re.compile('\\\\\\\\section')\n",
        "re.compile(r'\\\\section')\n",
        "```\n",
        " * {}를 표현하고 싶을 때에는 중괄호 2개, 또는 때에 따라 3개가 필요\n",
        "  ```python\n",
        "re.compile(f'{{section}}')\n",
        "```\n",
        "\n"
      ],
      "metadata": {
        "id": "tlwG-ZNkU8-o"
      }
    },
    {
      "cell_type": "markdown",
      "source": [],
      "metadata": {
        "id": "IkuWMi8MU7EL"
      }
    },
    {
      "cell_type": "code",
      "source": [
        "import re\n",
        "\n",
        "p = re.compile(r'([0-9]|10)([SDT])([\\*\\#]?)')\n",
        "p.findall('1S2D*3T')"
      ],
      "metadata": {
        "colab": {
          "base_uri": "https://localhost:8080/"
        },
        "id": "iIMvFUMEzUpB",
        "outputId": "55af8467-f913-4dad-9ff4-3f9f7a51fb2d"
      },
      "execution_count": 28,
      "outputs": [
        {
          "output_type": "execute_result",
          "data": {
            "text/plain": [
              "[('1', 'S', ''), ('2', 'D', '*'), ('3', 'T', '')]"
            ]
          },
          "metadata": {},
          "execution_count": 28
        }
      ]
    },
    {
      "cell_type": "markdown",
      "source": [
        "## compile"
      ],
      "metadata": {
        "id": "ecIFwqi3FA3B"
      }
    },
    {
      "cell_type": "code",
      "source": [
        "text = '''hello\n",
        "hallo\n",
        "hollo'''\n",
        "text"
      ],
      "metadata": {
        "colab": {
          "base_uri": "https://localhost:8080/",
          "height": 35
        },
        "id": "z476QtXWuN7E",
        "outputId": "160fc071-d7b8-4010-c631-d167fe129cac"
      },
      "execution_count": 30,
      "outputs": [
        {
          "output_type": "execute_result",
          "data": {
            "text/plain": [
              "'hello\\nhallo\\nhollo'"
            ],
            "application/vnd.google.colaboratory.intrinsic+json": {
              "type": "string"
            }
          },
          "metadata": {},
          "execution_count": 30
        }
      ]
    },
    {
      "cell_type": "code",
      "source": [
        "import re\n",
        "\n",
        "p = re.compile('h[eao]llo')"
      ],
      "metadata": {
        "id": "r880YRXWFU5w"
      },
      "execution_count": 31,
      "outputs": []
    },
    {
      "cell_type": "markdown",
      "source": [
        "## match"
      ],
      "metadata": {
        "id": "UxFtFjKYFlzd"
      }
    },
    {
      "cell_type": "code",
      "source": [
        "import re\n",
        "p = re.compile('h[eao]llo')\n",
        "result = p.match('hello hallo hollo')\n",
        "result.group(0)\n",
        "result"
      ],
      "metadata": {
        "colab": {
          "base_uri": "https://localhost:8080/",
          "height": 35
        },
        "id": "XeggbOYGFgeu",
        "outputId": "26df3979-6356-4c30-e709-9a854197fb05"
      },
      "execution_count": 35,
      "outputs": [
        {
          "output_type": "execute_result",
          "data": {
            "text/plain": [
              "'hello'"
            ],
            "application/vnd.google.colaboratory.intrinsic+json": {
              "type": "string"
            }
          },
          "metadata": {},
          "execution_count": 35
        }
      ]
    },
    {
      "cell_type": "code",
      "source": [
        "p = re.compile('(\\w+) (\\w+) (\\w+)')\n",
        "result = p.match('hello hallo hollo')\n",
        "result.group(0)\n",
        "result.group(1)\n",
        "result.group(2)"
      ],
      "metadata": {
        "colab": {
          "base_uri": "https://localhost:8080/",
          "height": 35
        },
        "id": "dOEI_8rPGjvy",
        "outputId": "0e09f76b-07c3-493a-a742-d314f8942964"
      },
      "execution_count": 39,
      "outputs": [
        {
          "output_type": "execute_result",
          "data": {
            "text/plain": [
              "'hallo'"
            ],
            "application/vnd.google.colaboratory.intrinsic+json": {
              "type": "string"
            }
          },
          "metadata": {},
          "execution_count": 39
        }
      ]
    },
    {
      "cell_type": "code",
      "source": [
        "import re\n",
        "\n",
        "p = re.compile('(\\w+) (\\w+) (\\w+)')\n",
        "result = p.match('hello hallo hollo hillo hallo')\n",
        "result.group(0) # 전체 그룹\n",
        "result.group(1) # 그룹1\n",
        "result.group(2) # 그룹2\n",
        "result.group(3) # 그룹3"
      ],
      "metadata": {
        "colab": {
          "base_uri": "https://localhost:8080/",
          "height": 35
        },
        "id": "2volyVpDHBfx",
        "outputId": "5c8b3347-204a-4a26-bc47-4bb9f3dade88"
      },
      "execution_count": 38,
      "outputs": [
        {
          "output_type": "execute_result",
          "data": {
            "text/plain": [
              "'hollo'"
            ],
            "application/vnd.google.colaboratory.intrinsic+json": {
              "type": "string"
            }
          },
          "metadata": {},
          "execution_count": 38
        }
      ]
    },
    {
      "cell_type": "code",
      "source": [
        "import re\n",
        "\n",
        "p = re.compile('(\\w+) (\\w+) (\\w+)')\n",
        "result = p.match('hello hallo hollo hillo hallo')\n",
        "result.group(1, 2) # 그룹1, 그룹2"
      ],
      "metadata": {
        "colab": {
          "base_uri": "https://localhost:8080/"
        },
        "id": "wCmJ8PFLGDby",
        "outputId": "bfaa02a9-7f89-4650-d7b8-9fd390f25cb7"
      },
      "execution_count": 40,
      "outputs": [
        {
          "output_type": "execute_result",
          "data": {
            "text/plain": [
              "('hello', 'hallo')"
            ]
          },
          "metadata": {},
          "execution_count": 40
        }
      ]
    },
    {
      "cell_type": "code",
      "source": [
        "import re\n",
        "p = re.compile('h[eao]llo')\n",
        "p.match('hillo hello hallo hollo hillo hallo')"
      ],
      "metadata": {
        "id": "WnHVhOJ9HqWD"
      },
      "execution_count": 42,
      "outputs": []
    },
    {
      "cell_type": "code",
      "source": [
        "m = re.match(r\"(?P<first_name>\\w+) (?P<last_name>\\w+)\", \"Malcolm Reynolds\")\n",
        "m.group('first_name')\n",
        "m.group('last_name')"
      ],
      "metadata": {
        "colab": {
          "base_uri": "https://localhost:8080/",
          "height": 35
        },
        "id": "Fh2CvMZFHKUp",
        "outputId": "2c24116e-c089-4719-edbd-8e5d8878ec61"
      },
      "execution_count": 43,
      "outputs": [
        {
          "output_type": "execute_result",
          "data": {
            "text/plain": [
              "'Reynolds'"
            ],
            "application/vnd.google.colaboratory.intrinsic+json": {
              "type": "string"
            }
          },
          "metadata": {},
          "execution_count": 43
        }
      ]
    },
    {
      "cell_type": "code",
      "source": [
        "m = re.match(r\"010-(?P<앞자리>[0-9]{4})-(?P<뒷자리>[0-9]{4})\", \"010-1000-2000\")\n",
        "m.group('앞자리'), m.group('뒷자리')"
      ],
      "metadata": {
        "colab": {
          "base_uri": "https://localhost:8080/"
        },
        "id": "PA35wzMnIGIQ",
        "outputId": "5172086d-6bef-4838-cb46-45b6f7759644"
      },
      "execution_count": 46,
      "outputs": [
        {
          "output_type": "execute_result",
          "data": {
            "text/plain": [
              "('1000', '2000')"
            ]
          },
          "metadata": {},
          "execution_count": 46
        }
      ]
    },
    {
      "cell_type": "code",
      "source": [
        "valid = re.compile(r\"^[a2-9tjqk]{5}$\")\n",
        "\n",
        "def displaymatch(match):\n",
        "    if match is None:\n",
        "        return None\n",
        "    return '<Match: %r, groups=%r>' % (match.group(), match.groups())\n",
        "\n",
        "displaymatch(valid.match(\"akt5q\"))"
      ],
      "metadata": {
        "colab": {
          "base_uri": "https://localhost:8080/",
          "height": 35
        },
        "id": "fZ2wUj6ZJkuX",
        "outputId": "6b44a595-622d-4e75-8a6f-29ae5efb701c"
      },
      "execution_count": 47,
      "outputs": [
        {
          "output_type": "execute_result",
          "data": {
            "text/plain": [
              "\"<Match: 'akt5q', groups=()>\""
            ],
            "application/vnd.google.colaboratory.intrinsic+json": {
              "type": "string"
            }
          },
          "metadata": {},
          "execution_count": 47
        }
      ]
    },
    {
      "cell_type": "markdown",
      "source": [],
      "metadata": {
        "id": "p3bsi-CxJwTH"
      }
    },
    {
      "cell_type": "code",
      "source": [
        "#https://school.programmers.co.kr/learn/courses/30/lessons/120849\n",
        "def solution(my_string):\n",
        "    return my_string.replace('a', '').replace('e', '').replace('i', '').replace('o', '').replace('u', '')"
      ],
      "metadata": {
        "id": "XYOs0F-6JVaO"
      },
      "execution_count": 48,
      "outputs": []
    },
    {
      "cell_type": "code",
      "source": [
        "def solution(my_string):\n",
        "    string = 'aeiou'\n",
        "    for i in string:\n",
        "        my_string = my_string.replace(i, '')\n",
        "    return my_string"
      ],
      "metadata": {
        "id": "vtyW5PakKWcP"
      },
      "execution_count": 49,
      "outputs": []
    },
    {
      "cell_type": "code",
      "source": [
        "import re\n",
        "\n",
        "def solution(my_string):\n",
        "    return re.sub(r\"[aeiou]\", \"\", my_string)"
      ],
      "metadata": {
        "id": "f54MB7AkKZxY"
      },
      "execution_count": 50,
      "outputs": []
    },
    {
      "cell_type": "code",
      "source": [],
      "metadata": {
        "id": "gjKIjlSEKdOH"
      },
      "execution_count": null,
      "outputs": []
    }
  ]
}