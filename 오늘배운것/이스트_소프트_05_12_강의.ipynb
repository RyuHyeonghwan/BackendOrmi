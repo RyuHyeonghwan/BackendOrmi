{
  "nbformat": 4,
  "nbformat_minor": 0,
  "metadata": {
    "colab": {
      "provenance": [],
      "toc_visible": true,
      "authorship_tag": "ABX9TyMzC5GOish9wx6SFeSdC+HA",
      "include_colab_link": true
    },
    "kernelspec": {
      "name": "python3",
      "display_name": "Python 3"
    },
    "language_info": {
      "name": "python"
    }
  },
  "cells": [
    {
      "cell_type": "markdown",
      "metadata": {
        "id": "view-in-github",
        "colab_type": "text"
      },
      "source": [
        "<a href=\"https://colab.research.google.com/github/RyuHyeonghwan/BackendOrmi/blob/main/%EC%98%A4%EB%8A%98%EB%B0%B0%EC%9A%B4%EA%B2%83/%EC%9D%B4%EC%8A%A4%ED%8A%B8_%EC%86%8C%ED%94%84%ED%8A%B8_05_12_%EA%B0%95%EC%9D%98.ipynb\" target=\"_parent\"><img src=\"https://colab.research.google.com/assets/colab-badge.svg\" alt=\"Open In Colab\"/></a>"
      ]
    },
    {
      "cell_type": "markdown",
      "source": [
        "##파일 입출력"
      ],
      "metadata": {
        "id": "fjPjhlISUzKh"
      }
    },
    {
      "cell_type": "code",
      "execution_count": null,
      "metadata": {
        "id": "lqOdzeukULUz"
      },
      "outputs": [],
      "source": [
        "# 동건님 코드 : 문제는 없으나 add를 실행시키긴 해야합니다!\n",
        "# 데코레이터 => 아래 코드는 데코할 대상이 없는거에요.\n",
        "\n",
        "'''\n",
        "추가로 부연 설명을 합니다. :)\n",
        "스토리로 굳이 표현하자면 아래와 같습니다.\n",
        "\n",
        "1. add라는 함수를 내가 1년 전에 만들었다. 문제 없이 잘 작동하는 함수이다.\n",
        "2. 이 add를 데코레이터를 써서 파일 입출력이 되게 하고 싶다.\n",
        "3. 데코레이터를 만든다.\n",
        "4. 기존의 코드도 정상적으로 작동이 되어야 한다.\n",
        "'''\n",
        "\n",
        "import json\n",
        "\n",
        "def writerfile(func):\n",
        "    def wrapper(a, b):\n",
        "        data1 = ['a', 'b', 'a+b']\n",
        "        data2 = [a, b, a+b]\n",
        "        f = open('writerfile.json', 'w')\n",
        "        json.dump(dict(zip(data1,data2)), f, indent = 4)\n",
        "        f.close()\n",
        "    return wrapper\n",
        "\n",
        "@writerfile\n",
        "def add(a,b):\n",
        "    return a + b\n",
        "\n",
        "add(10, 20)"
      ]
    },
    {
      "cell_type": "code",
      "source": [
        "import json\n",
        "\n",
        "def writerfile(func):\n",
        "    def wrapper(a, b):\n",
        "        data1 = ['a', 'b', 'a+b']\n",
        "        data2 = [a, b, a+b]\n",
        "        f = open('writerfile.json', 'w')\n",
        "        json.dump(dict(zip(data1,data2)), f, indent = 4)\n",
        "        f.close()\n",
        "        return func(a, b)\n",
        "    return wrapper\n",
        "\n",
        "@writerfile\n",
        "def add(a,b):\n",
        "    return a + b\n",
        "\n",
        "result = add(10, 20) + add(10, 20)\n",
        "print(result)"
      ],
      "metadata": {
        "colab": {
          "base_uri": "https://localhost:8080/"
        },
        "id": "tIQMCwqqUMcD",
        "outputId": "625d1949-f40d-4e55-8dc1-63acc0a932ce"
      },
      "execution_count": null,
      "outputs": [
        {
          "output_type": "stream",
          "name": "stdout",
          "text": [
            "60\n"
          ]
        }
      ]
    },
    {
      "cell_type": "markdown",
      "source": [
        "## 파일내용추가"
      ],
      "metadata": {
        "id": "s7rfc5z7U49V"
      }
    },
    {
      "cell_type": "code",
      "source": [
        "f = open('python.txt', 'w')\n",
        "s = ''\n",
        "for i in range(1, 6):\n",
        "    s += f'{i}명 참여 중입니다. \\n'\n",
        "f.write(s)\n",
        "f.close()"
      ],
      "metadata": {
        "id": "t2BB2WptUfYl"
      },
      "execution_count": null,
      "outputs": []
    },
    {
      "cell_type": "code",
      "source": [
        "f = open('python.txt', 'a') # 다시 write 모드로 하면 처음부터 덮어 씁니다.\n",
        "s = ''\n",
        "for i in range(5, 11):\n",
        "    s += f'{i}명 참여 중입니다. \\n'\n",
        "f.write(s)\n",
        "f.close()"
      ],
      "metadata": {
        "id": "jLnEP8JbVcYL"
      },
      "execution_count": null,
      "outputs": []
    },
    {
      "cell_type": "markdown",
      "source": [
        "## 파일 입출력 심화 과정"
      ],
      "metadata": {
        "id": "jkeVKDwpWVvX"
      }
    },
    {
      "cell_type": "code",
      "source": [
        "with open('test.txt', 'w') as f:\n",
        "    f.write('Life is too short, you need python')"
      ],
      "metadata": {
        "id": "6XtE6E_bVfpa"
      },
      "execution_count": null,
      "outputs": []
    },
    {
      "cell_type": "markdown",
      "source": [
        "## Python Error 처리"
      ],
      "metadata": {
        "id": "SY6A2vXsWmx0"
      }
    },
    {
      "cell_type": "markdown",
      "source": [
        "* Python에서 애러를 만나면 코드가(서비스가) 멈춥니다. 그렇기 때문에 견고한 코드와 에러처리를 하는게 중요\n"
      ],
      "metadata": {
        "id": "-Ta5Wc3GWwPw"
      }
    },
    {
      "cell_type": "markdown",
      "source": [
        "* Syntax Error: 오타나 문법적인 오류가 있을 경우 발생\n",
        "* Name Error: 정의되지 않은 변수나 함수를 호출했을 때 발생\n",
        "* Type Error: 서로 다른 타입의 변수 간 연산이나 함수 호출 시 발생\n",
        "* Index Error: 리스트나 튜플 등의 시퀀스 타입에서 존재하지 않는 인덱스를 호출했을 때 발생\n",
        "* Key Error: 딕셔너리에서 존재하지 않는 키를 호출했을 때 발생\n",
        "* ValueError: 내장 함수나 메서드의 인자로 전달된 값의 타입이나 값이 유효하지 않을 때 발생\n",
        "* ZeroDivisionError: 0으로 나누기 연산을 수행할 때 발생\n",
        "* Attribute Error: 객체에 존재하지 않는 속성이나 메서드를 호출했을 때 발생\n",
        "* TypeError: 함수나 메서드에 전달된 인자의 개수가 맞지 않을 때 발생\n",
        "* File I/O Error : 파일을 열거나 쓰거나 읽을 때 발생할 수 있습니다. 파일이 존재하지 않거나 권한이 없는 경우 발생할 수 있으며, 이 경우 파이썬 인터프리터는 해당 파일을 찾을 수 없다는 메시지를 출력합니다."
      ],
      "metadata": {
        "id": "YptoFmlhYhUm"
      }
    },
    {
      "cell_type": "code",
      "source": [
        "# Syntax Error: 오타나 문법적인 오류가 있을 경우 발생\n",
        "for i in range(10)\n",
        "    print(i)"
      ],
      "metadata": {
        "id": "xMNXO-QcZlvz"
      },
      "execution_count": null,
      "outputs": []
    },
    {
      "cell_type": "code",
      "source": [
        "# Name Error: 정의되지 않은 변수나 함수를 호출했을 때 발생\n",
        "print(x)"
      ],
      "metadata": {
        "id": "uPCPISE9ZltJ"
      },
      "execution_count": null,
      "outputs": []
    },
    {
      "cell_type": "code",
      "source": [
        "# Type Error: 서로 다른 타입의 변수 간 연산이나 함수 호출 시 발생\n",
        "x = 10\n",
        "y = '20'\n",
        "print(x + y)"
      ],
      "metadata": {
        "id": "SSe0BqC4ZlkS"
      },
      "execution_count": null,
      "outputs": []
    },
    {
      "cell_type": "code",
      "source": [],
      "metadata": {
        "id": "ecJ1lrzzZliB"
      },
      "execution_count": null,
      "outputs": []
    },
    {
      "cell_type": "code",
      "source": [],
      "metadata": {
        "id": "a669kHVIZlfB"
      },
      "execution_count": null,
      "outputs": []
    },
    {
      "cell_type": "code",
      "source": [],
      "metadata": {
        "id": "uObe4aAIZldC"
      },
      "execution_count": null,
      "outputs": []
    },
    {
      "cell_type": "code",
      "source": [],
      "metadata": {
        "id": "h1m8LwZkZlbR"
      },
      "execution_count": null,
      "outputs": []
    },
    {
      "cell_type": "code",
      "source": [],
      "metadata": {
        "id": "JM9Qi4ffZlXV"
      },
      "execution_count": null,
      "outputs": []
    },
    {
      "cell_type": "code",
      "source": [],
      "metadata": {
        "id": "UzIL18CYZlUv"
      },
      "execution_count": null,
      "outputs": []
    },
    {
      "cell_type": "code",
      "source": [],
      "metadata": {
        "id": "XG_-dwB9ZlSG"
      },
      "execution_count": null,
      "outputs": []
    },
    {
      "cell_type": "code",
      "source": [],
      "metadata": {
        "id": "Kh3hO81jZlPH"
      },
      "execution_count": null,
      "outputs": []
    },
    {
      "cell_type": "code",
      "source": [],
      "metadata": {
        "id": "v1aKz5qNZlM0"
      },
      "execution_count": null,
      "outputs": []
    },
    {
      "cell_type": "code",
      "source": [],
      "metadata": {
        "id": "HO06G02ZZlKR"
      },
      "execution_count": null,
      "outputs": []
    },
    {
      "cell_type": "code",
      "source": [],
      "metadata": {
        "id": "YOxVSVIhWbHl"
      },
      "execution_count": null,
      "outputs": []
    },
    {
      "cell_type": "markdown",
      "source": [
        "## 예외처리"
      ],
      "metadata": {
        "id": "TGHDxUjeZ_Jy"
      }
    },
    {
      "cell_type": "code",
      "source": [
        "try:\n",
        "    pass\n",
        "    # 예외가 발생할 가능성이 있는 코드\n",
        "except:\n",
        "    pass\n",
        "    # 예외 처리 코드"
      ],
      "metadata": {
        "id": "y3kvZggLaBhW"
      },
      "execution_count": null,
      "outputs": []
    },
    {
      "cell_type": "code",
      "source": [
        "def div(a, b):\n",
        "    return a / b\n",
        "\n",
        "try:\n",
        "    div(1, 0)\n",
        "except:\n",
        "    print('예외 발생')"
      ],
      "metadata": {
        "id": "zi_8YubdaLSB"
      },
      "execution_count": null,
      "outputs": []
    },
    {
      "cell_type": "code",
      "source": [
        "def div(a, b):\n",
        "    return a / b\n",
        "\n",
        "def f():\n",
        "    try:\n",
        "        return div(1, 0)\n",
        "    except:\n",
        "        print('예외 발생') # 에외처리를 했어도 에러발생\n",
        "\n",
        "result = f() + f() #result에는 float이 오길 기대하죠.\n",
        "print(result)"
      ],
      "metadata": {
        "id": "xYEaLs3JbFBk"
      },
      "execution_count": null,
      "outputs": []
    },
    {
      "cell_type": "code",
      "source": [
        "def div(a, b):\n",
        "    return a / b\n",
        "\n",
        "def f():\n",
        "    try:\n",
        "        return div(1, 0)\n",
        "    except:\n",
        "        print('예외 발생')\n",
        "        return float('inf')\n",
        "        \n",
        "\n",
        "result = f() + f() #result에는 float이 오길 기대하죠.\n",
        "print(result)"
      ],
      "metadata": {
        "colab": {
          "base_uri": "https://localhost:8080/"
        },
        "id": "W_vuOSXJaSxv",
        "outputId": "5a6f8674-9df9-4994-d3e5-bceb75e3315e"
      },
      "execution_count": null,
      "outputs": [
        {
          "output_type": "stream",
          "name": "stdout",
          "text": [
            "예외 발생\n",
            "예외 발생\n",
            "inf\n"
          ]
        }
      ]
    },
    {
      "cell_type": "code",
      "source": [
        "def div(a, b):\n",
        "    return a / b\n",
        "\n",
        "def f():\n",
        "    try:\n",
        "        return div(1, 0)\n",
        "    except:\n",
        "        return 0\n",
        "\n",
        "result = f() + f() \n",
        "print(result)"
      ],
      "metadata": {
        "colab": {
          "base_uri": "https://localhost:8080/"
        },
        "id": "Ps_q-4VvbC5W",
        "outputId": "fc3d25bb-5872-4376-b791-545dcca74552"
      },
      "execution_count": null,
      "outputs": [
        {
          "output_type": "stream",
          "name": "stdout",
          "text": [
            "0\n"
          ]
        }
      ]
    },
    {
      "cell_type": "code",
      "source": [
        "try:\n",
        "    1/0\n",
        "except:\n",
        "    print('hello')\n",
        "finally:\n",
        "    print('world')"
      ],
      "metadata": {
        "colab": {
          "base_uri": "https://localhost:8080/"
        },
        "id": "rgC4YKNkbsx3",
        "outputId": "1b0b3452-09cc-4d73-983d-0bb45588b85d"
      },
      "execution_count": null,
      "outputs": [
        {
          "output_type": "stream",
          "name": "stdout",
          "text": [
            "hello\n",
            "world\n"
          ]
        }
      ]
    },
    {
      "cell_type": "code",
      "source": [
        "try:\n",
        "    10/2\n",
        "except:\n",
        "     print('except:')\n",
        "else:\n",
        "     print('else')\n",
        "finally:\n",
        "     print('finally')"
      ],
      "metadata": {
        "colab": {
          "base_uri": "https://localhost:8080/"
        },
        "id": "GNp7QflifjF6",
        "outputId": "70a9caaa-1570-46db-fd2c-ef0ea73281cc"
      },
      "execution_count": null,
      "outputs": [
        {
          "output_type": "stream",
          "name": "stdout",
          "text": [
            "else\n",
            "finally\n"
          ]
        }
      ]
    },
    {
      "cell_type": "code",
      "source": [
        "#raise dofjdlfma\n",
        "raise ValueError"
      ],
      "metadata": {
        "colab": {
          "base_uri": "https://localhost:8080/",
          "height": 183
        },
        "id": "v6afj2AJfy6K",
        "outputId": "13ed47e8-0666-47d8-d127-015f57d0d420"
      },
      "execution_count": null,
      "outputs": [
        {
          "output_type": "error",
          "ename": "ValueError",
          "evalue": "ignored",
          "traceback": [
            "\u001b[0;31m---------------------------------------------------------------------------\u001b[0m",
            "\u001b[0;31mValueError\u001b[0m                                Traceback (most recent call last)",
            "\u001b[0;32m<ipython-input-15-9ad6160926ed>\u001b[0m in \u001b[0;36m<cell line: 2>\u001b[0;34m()\u001b[0m\n\u001b[1;32m      1\u001b[0m \u001b[0;31m#raise dofjdlfma\u001b[0m\u001b[0;34m\u001b[0m\u001b[0;34m\u001b[0m\u001b[0m\n\u001b[0;32m----> 2\u001b[0;31m \u001b[0;32mraise\u001b[0m \u001b[0mValueError\u001b[0m\u001b[0;34m\u001b[0m\u001b[0;34m\u001b[0m\u001b[0m\n\u001b[0m",
            "\u001b[0;31mValueError\u001b[0m: "
          ]
        }
      ]
    },
    {
      "cell_type": "code",
      "source": [
        "#raise dofjdlfma\n",
        "raise aa"
      ],
      "metadata": {
        "colab": {
          "base_uri": "https://localhost:8080/",
          "height": 183
        },
        "id": "2GN2rE9egQAo",
        "outputId": "a7e3e910-1ca9-4d5b-ee24-33eb4cd55742"
      },
      "execution_count": null,
      "outputs": [
        {
          "output_type": "error",
          "ename": "NameError",
          "evalue": "ignored",
          "traceback": [
            "\u001b[0;31m---------------------------------------------------------------------------\u001b[0m",
            "\u001b[0;31mNameError\u001b[0m                                 Traceback (most recent call last)",
            "\u001b[0;32m<ipython-input-16-28838e2c9f20>\u001b[0m in \u001b[0;36m<cell line: 2>\u001b[0;34m()\u001b[0m\n\u001b[1;32m      1\u001b[0m \u001b[0;31m#raise dofjdlfma\u001b[0m\u001b[0;34m\u001b[0m\u001b[0;34m\u001b[0m\u001b[0m\n\u001b[0;32m----> 2\u001b[0;31m \u001b[0;32mraise\u001b[0m \u001b[0maa\u001b[0m\u001b[0;34m\u001b[0m\u001b[0;34m\u001b[0m\u001b[0m\n\u001b[0m",
            "\u001b[0;31mNameError\u001b[0m: name 'aa' is not defined"
          ]
        }
      ]
    },
    {
      "cell_type": "code",
      "source": [
        "#raise dofjdlfma\n",
        "raise ValueError('다시 작성해주세요')"
      ],
      "metadata": {
        "colab": {
          "base_uri": "https://localhost:8080/",
          "height": 183
        },
        "id": "vjVxO7x6f9tN",
        "outputId": "1aef0226-9409-4b54-f946-92355aa8930b"
      },
      "execution_count": null,
      "outputs": [
        {
          "output_type": "error",
          "ename": "ValueError",
          "evalue": "ignored",
          "traceback": [
            "\u001b[0;31m---------------------------------------------------------------------------\u001b[0m",
            "\u001b[0;31mValueError\u001b[0m                                Traceback (most recent call last)",
            "\u001b[0;32m<ipython-input-17-25303eccbaf8>\u001b[0m in \u001b[0;36m<cell line: 2>\u001b[0;34m()\u001b[0m\n\u001b[1;32m      1\u001b[0m \u001b[0;31m#raise dofjdlfma\u001b[0m\u001b[0;34m\u001b[0m\u001b[0;34m\u001b[0m\u001b[0m\n\u001b[0;32m----> 2\u001b[0;31m \u001b[0;32mraise\u001b[0m \u001b[0mValueError\u001b[0m\u001b[0;34m(\u001b[0m\u001b[0;34m'다시 작성해주세요'\u001b[0m\u001b[0;34m)\u001b[0m\u001b[0;34m\u001b[0m\u001b[0;34m\u001b[0m\u001b[0m\n\u001b[0m",
            "\u001b[0;31mValueError\u001b[0m: 다시 작성해주세요"
          ]
        }
      ]
    },
    {
      "cell_type": "code",
      "source": [
        "try:\n",
        "    1/0\n",
        "except ValueError:\n",
        "    print('ValueError')\n",
        "except ZeroDivisionError:\n",
        "    print('ZeroDivisionError')\n",
        "ZeroDivisionError\n",
        "print(ZeroDivisionError)\n",
        "print(type(ZeroDivisionError))\n",
        "print(dir(ZeroDivisionError))"
      ],
      "metadata": {
        "colab": {
          "base_uri": "https://localhost:8080/"
        },
        "id": "XSlNwoUEgZrP",
        "outputId": "15f903c2-e51b-4dd4-d88f-6699cf0dba5a"
      },
      "execution_count": null,
      "outputs": [
        {
          "output_type": "stream",
          "name": "stdout",
          "text": [
            "ZeroDivisionError\n",
            "<class 'ZeroDivisionError'>\n",
            "<class 'type'>\n",
            "['__cause__', '__class__', '__context__', '__delattr__', '__dict__', '__dir__', '__doc__', '__eq__', '__format__', '__ge__', '__getattribute__', '__gt__', '__hash__', '__init__', '__init_subclass__', '__le__', '__lt__', '__ne__', '__new__', '__reduce__', '__reduce_ex__', '__repr__', '__setattr__', '__setstate__', '__sizeof__', '__str__', '__subclasshook__', '__suppress_context__', '__traceback__', 'args', 'with_traceback']\n"
          ]
        }
      ]
    },
    {
      "cell_type": "code",
      "source": [
        "from itertools import count\n",
        "#1번\n",
        "원주율 = 3.141592\n",
        "print(int(원주율))\n",
        "\n",
        "#2번\n",
        "# b. 1\n",
        "\n",
        "#3번\n",
        "my_name = '안녕하세요. 홍길동입니다.'\n",
        "print(my_name)\n",
        "\n",
        "#4번\n",
        "# c. reverse()\n",
        "\n",
        "#5번\n",
        "num = int(input())\n",
        "def divisor(num):\n",
        "    data = []\n",
        "\n",
        "    for i in range(1, num + 1):\n",
        "        if num % i == 0:\n",
        "            data.append(i)\n",
        "    return data\n",
        "print(divisor(num))\n",
        "\n",
        "\n",
        "#6번\n",
        "def solution(l,a):\n",
        "    count = 0\n",
        "    for i in l:\n",
        "        if i == a:\n",
        "            count+= 1\n",
        "\n",
        "    return count\n",
        "print(solution(['a', 'b', 'c', 'a', 'a'], 'b')) # 정답 : 3\n",
        "\n",
        "#7번\n",
        "def solution(l):\n",
        "    return sorted(l, key=lambda x:x[1], reverse=True)\n",
        "\n",
        "print(solution([[10, 5], [20, 3], [30, 4], [40, 1]]))\n",
        "# 정답 : [[10, 5], [30, 4], [20, 3], [40, 1]]\n",
        "\n",
        "#8번\n",
        "def solution(l):\n",
        "    return list(map(lambda x: x[0]-x[1], l))\n",
        "\n",
        "print(solution([[10, 5], [20, 3], [30, 4], [40, 1]]))\n",
        "# 정답 : [[5], [17], [26], [39]]\n",
        "\n",
        "#9번\n",
        "def solution(s):\n",
        "    sum = 0\n",
        "    for i in s:\n",
        "        sum = sum + int(i)\n",
        "    return sum\n",
        "print(solution('11123'))\n",
        "# 정답 : 8\n",
        "\n",
        "#10번\n",
        "def solution(s):\n",
        "    a = s.replace(' ','')\n",
        "    a = a.replace('!','')\n",
        "    return a\n",
        "\n",
        "print(solution('!hello!wor     ld!     '))\n",
        "# 정답 : helloworld\n"
      ],
      "metadata": {
        "colab": {
          "base_uri": "https://localhost:8080/"
        },
        "id": "5l2-Z5q5g70F",
        "outputId": "fde860e1-37a0-4863-a0f5-95085280ef7e"
      },
      "execution_count": null,
      "outputs": [
        {
          "output_type": "stream",
          "name": "stdout",
          "text": [
            "3\n",
            "안녕하세요. 홍길동입니다.\n",
            "15\n",
            "[1, 3, 5, 15]\n",
            "1\n",
            "[[10, 5], [30, 4], [20, 3], [40, 1]]\n",
            "[5, 17, 26, 39]\n",
            "8\n",
            "helloworld\n"
          ]
        }
      ]
    },
    {
      "cell_type": "code",
      "source": [
        "num = int(input())\n",
        "def divisor(num):\n",
        "    cau = 0\n",
        "    \n",
        "    while(1):\n",
        "        cau += 1\n",
        "        if num % cau == 0:\n",
        "            return cau \n",
        "print(divisor(num))\n",
        "\n"
      ],
      "metadata": {
        "colab": {
          "base_uri": "https://localhost:8080/"
        },
        "id": "77xXZ9qPhxSW",
        "outputId": "5ea1223f-0d3b-4cef-c4d8-dcc33ba2ed60"
      },
      "execution_count": null,
      "outputs": [
        {
          "output_type": "stream",
          "name": "stdout",
          "text": [
            "4\n",
            "1\n"
          ]
        }
      ]
    },
    {
      "cell_type": "code",
      "source": [
        "num = int(input())\n",
        "\n",
        "def divisor(num):\n",
        "    data = []\n",
        "\n",
        "    for i in range(1, num + 1):\n",
        "        if num % i == 0:\n",
        "            data.append(i)\n",
        "    return data\n",
        "\n",
        "divisor(num)"
      ],
      "metadata": {
        "colab": {
          "base_uri": "https://localhost:8080/"
        },
        "id": "tNTc8GHSy1xu",
        "outputId": "ed4d60ed-79f5-4c7b-925a-a42494d4db7c"
      },
      "execution_count": null,
      "outputs": [
        {
          "name": "stdout",
          "output_type": "stream",
          "text": [
            "15\n"
          ]
        },
        {
          "output_type": "execute_result",
          "data": {
            "text/plain": [
              "[1, 3, 5, 15]"
            ]
          },
          "metadata": {},
          "execution_count": 48
        }
      ]
    },
    {
      "cell_type": "code",
      "source": [
        "def solution(s):\n",
        "    return sum(map(int, s))\n",
        "solution('11123')"
      ],
      "metadata": {
        "colab": {
          "base_uri": "https://localhost:8080/"
        },
        "id": "s64m4PGrzCx_",
        "outputId": "2dbe5b33-6d4a-4230-a3e3-e3b37f5bdd03"
      },
      "execution_count": null,
      "outputs": [
        {
          "output_type": "execute_result",
          "data": {
            "text/plain": [
              "8"
            ]
          },
          "metadata": {},
          "execution_count": 56
        }
      ]
    },
    {
      "cell_type": "markdown",
      "source": [
        "## 클로저, 팩토리함수"
      ],
      "metadata": {
        "id": "dZzEauKn1cGK"
      }
    },
    {
      "cell_type": "code",
      "source": [
        "def one():\n",
        "    def tow():\n",
        "        return\n",
        "    return tow\n",
        "hello = one()\n"
      ],
      "metadata": {
        "id": "t1N5AMiY1bky"
      },
      "execution_count": null,
      "outputs": []
    },
    {
      "cell_type": "code",
      "source": [
        "def one(x):\n",
        "    def tow():\n",
        "        return x + x\n",
        "    return tow\n",
        "hello = one(10) # \n",
        "hello()"
      ],
      "metadata": {
        "colab": {
          "base_uri": "https://localhost:8080/"
        },
        "id": "fB9XlrSW0oeX",
        "outputId": "363f6a9f-65c5-40c6-cf5d-36e61eca8a61"
      },
      "execution_count": null,
      "outputs": [
        {
          "output_type": "execute_result",
          "data": {
            "text/plain": [
              "20"
            ]
          },
          "metadata": {},
          "execution_count": 58
        }
      ]
    },
    {
      "cell_type": "code",
      "source": [
        "def one(x):\n",
        "    def tow(a,b):\n",
        "        return a + b + x\n",
        "    return tow\n",
        "hello = one(10) # \n",
        "hello(2,3)"
      ],
      "metadata": {
        "id": "IWJQzUUEIN6-"
      },
      "execution_count": null,
      "outputs": []
    },
    {
      "cell_type": "code",
      "source": [
        "def user(username, usermoney):\n",
        "    def buy(productname, productprice):\n",
        "        leftmoney = usermoney - productprice\n",
        "        return f'{productname}를 {username}님이 구매하셔서 계좌에 {leftmoney}가 남아있습니다.'\n",
        "    return buy\n",
        "\n",
        "buy = user('leehojun', 1000000)\n",
        "buy('자전거', 100000)"
      ],
      "metadata": {
        "colab": {
          "base_uri": "https://localhost:8080/",
          "height": 35
        },
        "id": "xYR9Atu2I8Ly",
        "outputId": "823c078e-9aa7-4d55-ee0c-a9016efc31d5"
      },
      "execution_count": null,
      "outputs": [
        {
          "output_type": "execute_result",
          "data": {
            "text/plain": [
              "'자전거를 leehojun님이 구매하셔서 계좌에 900000가 남아있습니다.'"
            ],
            "application/vnd.google.colaboratory.intrinsic+json": {
              "type": "string"
            }
          },
          "metadata": {},
          "execution_count": 59
        }
      ]
    },
    {
      "cell_type": "code",
      "source": [
        "def user(username, usermoney):\n",
        "    def userbuy(productname, productprice):\n",
        "        leftmoney = usermoney - productprice\n",
        "        return f'{productname}를 {username}님이 구매하셔서 계좌에 {leftmoney}가 남아있습니다.'\n",
        "    return userbuy\n",
        "\n",
        "이호준구매 = user('leehojun', 1000000)\n",
        "이호준구매('자전거', 100000)\n",
        "\n",
        "홍길동구매 = user('hongildong', 1000000)\n",
        "홍길동구매('킥보드', 50000)"
      ],
      "metadata": {
        "id": "xjsjg3vHJ4hO"
      },
      "execution_count": null,
      "outputs": []
    },
    {
      "cell_type": "code",
      "source": [
        "def user(username, usermoney):\n",
        "    def userbuy(productname, productprice):\n",
        "        leftmoney = usermoney - productprice\n",
        "        return f'{productname}를 {username}님이 구매하셔서 계좌에 {leftmoney}가 남아있습니다.'\n",
        "    return userbuy\n",
        "\n",
        "이호준구매 = user('leehojun', 1000000)\n",
        "이호준구매('자전거', 100000)\n",
        "\n",
        "홍길동구매 = user('hongildong', 1000000)\n",
        "홍길동구매('킥보드', 50000)\n",
        "\n",
        "# 이호준구매와 홍길동구매 함수를 가지고 계좌를 조작할 수 있나요?\n",
        "# 계좌 변수에 접근할 수 있나요?"
      ],
      "metadata": {
        "colab": {
          "base_uri": "https://localhost:8080/",
          "height": 35
        },
        "id": "zHzkGHbJMKj_",
        "outputId": "e05e9e4c-44b6-4250-900e-8e75a09cb981"
      },
      "execution_count": null,
      "outputs": [
        {
          "output_type": "execute_result",
          "data": {
            "text/plain": [
              "'킥보드를 hongildong님이 구매하셔서 계좌에 950000가 남아있습니다.'"
            ],
            "application/vnd.google.colaboratory.intrinsic+json": {
              "type": "string"
            }
          },
          "metadata": {},
          "execution_count": 60
        }
      ]
    },
    {
      "cell_type": "code",
      "source": [
        "# 크롤링대상 http://www.paullab.co.kr/stock.html"
      ],
      "metadata": {
        "id": "7jyfwcNgoK2A"
      },
      "execution_count": null,
      "outputs": []
    },
    {
      "cell_type": "code",
      "source": [
        "import requests\n",
        "from bs4 import BeautifulSoup\n",
        "\n",
        "response = requests.get('http://www.paullab.co.kr/stock.html')\n",
        "\n",
        "response.encoding = 'utf-8'\n",
        "html = response.text\n",
        "\n",
        "soup = BeautifulSoup(html, 'html.parser')"
      ],
      "metadata": {
        "id": "sTYV_7AHMOo_"
      },
      "execution_count": null,
      "outputs": []
    },
    {
      "cell_type": "code",
      "source": [
        "sup = BeautifulSoup(html,'html.parser')"
      ],
      "metadata": {
        "id": "I-X72Mcxo7mM"
      },
      "execution_count": null,
      "outputs": []
    },
    {
      "cell_type": "code",
      "source": [
        "soup.title"
      ],
      "metadata": {
        "colab": {
          "base_uri": "https://localhost:8080/"
        },
        "id": "n4hldB3SoOIJ",
        "outputId": "bd6b2328-0b1d-48d4-cfdc-1e8530f1a340"
      },
      "execution_count": null,
      "outputs": [
        {
          "output_type": "execute_result",
          "data": {
            "text/plain": [
              "<title>Document</title>"
            ]
          },
          "metadata": {},
          "execution_count": 63
        }
      ]
    },
    {
      "cell_type": "code",
      "source": [
        "from os import replace\n",
        "import pandas as pd\n",
        "import re\n",
        "temp = str(soup.find_all('td', class_ = 'num'))\n",
        "temp = temp.split('</td>')\n",
        "Total = 0\n",
        "b = []\n",
        "del temp[:5]\n",
        "for i in range (0,len(temp)):\n",
        "    if i % 6 == 0:\n",
        "        numbers = re.sub(r'[^0-9]', '', temp[i])\n",
        "        b.append(numbers)\n",
        "        \n",
        "for i in b:\n",
        "    Total = Total + int(i)\n",
        "\n",
        "\n",
        "print(Total)"
      ],
      "metadata": {
        "colab": {
          "base_uri": "https://localhost:8080/"
        },
        "id": "1H0doqfBopbq",
        "outputId": "e9c9eb1e-6cf8-4c73-a495-1cd8fd4db471"
      },
      "execution_count": null,
      "outputs": [
        {
          "output_type": "stream",
          "name": "stdout",
          "text": [
            "32039669\n"
          ]
        }
      ]
    },
    {
      "cell_type": "code",
      "source": [
        "asd = b[0]\n",
        "int(asd)\n",
        "print(sum(b))"
      ],
      "metadata": {
        "colab": {
          "base_uri": "https://localhost:8080/",
          "height": 200
        },
        "id": "1mVN11gfG_xZ",
        "outputId": "a6cc32fb-5282-4aa2-bb7e-8a2e9f06d333"
      },
      "execution_count": null,
      "outputs": [
        {
          "output_type": "error",
          "ename": "IndexError",
          "evalue": "ignored",
          "traceback": [
            "\u001b[0;31m---------------------------------------------------------------------------\u001b[0m",
            "\u001b[0;31mIndexError\u001b[0m                                Traceback (most recent call last)",
            "\u001b[0;32m<ipython-input-140-e76c27a5a8cd>\u001b[0m in \u001b[0;36m<cell line: 1>\u001b[0;34m()\u001b[0m\n\u001b[0;32m----> 1\u001b[0;31m \u001b[0masd\u001b[0m \u001b[0;34m=\u001b[0m \u001b[0mb\u001b[0m\u001b[0;34m[\u001b[0m\u001b[0;36m0\u001b[0m\u001b[0;34m]\u001b[0m\u001b[0;34m\u001b[0m\u001b[0;34m\u001b[0m\u001b[0m\n\u001b[0m\u001b[1;32m      2\u001b[0m \u001b[0mint\u001b[0m\u001b[0;34m(\u001b[0m\u001b[0masd\u001b[0m\u001b[0;34m)\u001b[0m\u001b[0;34m\u001b[0m\u001b[0;34m\u001b[0m\u001b[0m\n\u001b[1;32m      3\u001b[0m \u001b[0mprint\u001b[0m\u001b[0;34m(\u001b[0m\u001b[0msum\u001b[0m\u001b[0;34m(\u001b[0m\u001b[0mb\u001b[0m\u001b[0;34m)\u001b[0m\u001b[0;34m)\u001b[0m\u001b[0;34m\u001b[0m\u001b[0;34m\u001b[0m\u001b[0m\n",
            "\u001b[0;31mIndexError\u001b[0m: list index out of range"
          ]
        }
      ]
    },
    {
      "cell_type": "code",
      "source": [
        "#advanced 과제 : 제주코딩베이스캠프 연구원에 2019.09.24일 부터 2019.10.23일까지 거래된 거래총량을 구해주세요.\n"
      ],
      "metadata": {
        "colab": {
          "base_uri": "https://localhost:8080/"
        },
        "id": "Ednm0W9npmyk",
        "outputId": "5824554f-c67c-448e-db12-cc491463e4ee"
      },
      "execution_count": null,
      "outputs": [
        {
          "output_type": "stream",
          "name": "stdout",
          "text": [
            "거래총량 : 13,067,306\n"
          ]
        }
      ]
    },
    {
      "cell_type": "code",
      "source": [
        "import pandas as pd\n",
        "temp = soup.find_all(\"div\",{\"class\":\"main\"})\n",
        "print(temp)"
      ],
      "metadata": {
        "id": "5bIUMKAJ1k-k"
      },
      "execution_count": null,
      "outputs": []
    },
    {
      "cell_type": "code",
      "source": [],
      "metadata": {
        "id": "sc0oPqje1lmr"
      },
      "execution_count": null,
      "outputs": []
    }
  ]
}