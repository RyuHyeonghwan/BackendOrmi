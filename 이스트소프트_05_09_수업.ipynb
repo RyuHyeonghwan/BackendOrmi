{
  "nbformat": 4,
  "nbformat_minor": 0,
  "metadata": {
    "colab": {
      "provenance": [],
      "toc_visible": true,
      "authorship_tag": "ABX9TyPXlfxjww3GI15VIeFyWIwG",
      "include_colab_link": true
    },
    "kernelspec": {
      "name": "python3",
      "display_name": "Python 3"
    },
    "language_info": {
      "name": "python"
    }
  },
  "cells": [
    {
      "cell_type": "markdown",
      "metadata": {
        "id": "view-in-github",
        "colab_type": "text"
      },
      "source": [
        "<a href=\"https://colab.research.google.com/github/RyuHyeonghwan/BackendOrmi/blob/main/%EC%9D%B4%EC%8A%A4%ED%8A%B8%EC%86%8C%ED%94%84%ED%8A%B8_05_09_%EC%88%98%EC%97%85.ipynb\" target=\"_parent\"><img src=\"https://colab.research.google.com/assets/colab-badge.svg\" alt=\"Open In Colab\"/></a>"
      ]
    },
    {
      "cell_type": "markdown",
      "source": [
        "## for문\n"
      ],
      "metadata": {
        "id": "AoO8OSRs5AOZ"
      }
    },
    {
      "cell_type": "code",
      "execution_count": null,
      "metadata": {
        "colab": {
          "base_uri": "https://localhost:8080/"
        },
        "id": "BgkMP7nI3gG2",
        "outputId": "737a8f15-8463-4af8-fe97-86592f515b23"
      },
      "outputs": [
        {
          "output_type": "stream",
          "name": "stdout",
          "text": [
            "0\n",
            "1\n",
            "2\n",
            "3\n",
            "4\n",
            "5\n"
          ]
        }
      ],
      "source": [
        "for i in range(10):\n",
        "    print(i)\n",
        "    if i == 5:\n",
        "        break"
      ]
    },
    {
      "cell_type": "code",
      "source": [
        "for i in range(10):\n",
        "    print('----------------')\n",
        "    print(i)\n",
        "    for j in range(10):\n",
        "        print(i, j)\n",
        "        if i == 5:\n",
        "            break"
      ],
      "metadata": {
        "id": "EbF_w1zC4_Fn"
      },
      "execution_count": null,
      "outputs": []
    },
    {
      "cell_type": "markdown",
      "source": [
        "## 반복문과 else 구문"
      ],
      "metadata": {
        "id": "5t_vp5C36X89"
      }
    },
    {
      "cell_type": "code",
      "source": [
        "for i in range(10):\n",
        "    if i == 5:\n",
        "        break\n",
        "    else:\n",
        "        print('정상종료')"
      ],
      "metadata": {
        "colab": {
          "base_uri": "https://localhost:8080/"
        },
        "id": "ukvHqKAx6qOL",
        "outputId": "79061529-f1af-4bf2-b8a5-e164be8a92db"
      },
      "execution_count": null,
      "outputs": [
        {
          "output_type": "stream",
          "name": "stdout",
          "text": [
            "정상종료\n",
            "정상종료\n",
            "정상종료\n",
            "정상종료\n",
            "정상종료\n"
          ]
        }
      ]
    },
    {
      "cell_type": "code",
      "source": [
        "for i in range(10):\n",
        "    if i == 5:\n",
        "        break\n",
        "else:\n",
        "    print('정상종료')"
      ],
      "metadata": {
        "id": "xoeOX4fY7Dea"
      },
      "execution_count": null,
      "outputs": []
    },
    {
      "cell_type": "markdown",
      "source": [],
      "metadata": {
        "id": "0z5cIEsX74-A"
      }
    },
    {
      "cell_type": "code",
      "source": [
        "#for문 무한반복\n",
        "# 아래 코드는 효율적이지 못하니\n",
        "# 뒤에서 배울 generator로 무한반복을 구현해주세요.\n",
        "l = [1]\n",
        "l = [1]\n",
        "for i in l:\n",
        "    l.append(i+1)\n",
        "    print(i)"
      ],
      "metadata": {
        "id": "YElZxo7276aY"
      },
      "execution_count": null,
      "outputs": []
    },
    {
      "cell_type": "markdown",
      "source": [
        "## 리스트 표현식(list comprehension)"
      ],
      "metadata": {
        "id": "xHa2UbmE5kMj"
      }
    },
    {
      "cell_type": "code",
      "source": [
        "l = []\n",
        "for i in range(10):\n",
        "    l.append(i)\n",
        "l"
      ],
      "metadata": {
        "colab": {
          "base_uri": "https://localhost:8080/"
        },
        "id": "GG7SVznj7DA0",
        "outputId": "16d27516-f358-4eea-e013-fa8811d8e366"
      },
      "execution_count": null,
      "outputs": [
        {
          "output_type": "execute_result",
          "data": {
            "text/plain": [
              "[0, 1, 2, 3, 4, 5, 6, 7, 8, 9]"
            ]
          },
          "metadata": {},
          "execution_count": 9
        }
      ]
    },
    {
      "cell_type": "code",
      "source": [
        "#리스트 표현식이 일반 for문보다 빠르다\n",
        "[i for i in range(10)]"
      ],
      "metadata": {
        "colab": {
          "base_uri": "https://localhost:8080/"
        },
        "id": "lB-VueGi5E6v",
        "outputId": "cbce104a-85b0-469c-8151-5858237a2b4e"
      },
      "execution_count": null,
      "outputs": [
        {
          "output_type": "execute_result",
          "data": {
            "text/plain": [
              "[0, 1, 2, 3, 4, 5, 6, 7, 8, 9]"
            ]
          },
          "metadata": {},
          "execution_count": 11
        }
      ]
    },
    {
      "cell_type": "code",
      "source": [
        "l = []\n",
        "for i in range(10):\n",
        "    if i % 2 == 0:\n",
        "        l.append(i)\n",
        "l"
      ],
      "metadata": {
        "colab": {
          "base_uri": "https://localhost:8080/"
        },
        "id": "TqrdNVim-EPq",
        "outputId": "d1225aab-14c0-40b0-d47b-bfff9c3b5b83"
      },
      "execution_count": null,
      "outputs": [
        {
          "output_type": "execute_result",
          "data": {
            "text/plain": [
              "[0, 2, 4, 6, 8]"
            ]
          },
          "metadata": {},
          "execution_count": 13
        }
      ]
    },
    {
      "cell_type": "code",
      "source": [
        "[i for i in range(10) if i % 2 == 0]"
      ],
      "metadata": {
        "colab": {
          "base_uri": "https://localhost:8080/"
        },
        "id": "aVrkynqK92Rh",
        "outputId": "251b091c-d328-42b4-a626-4c10bee273e9"
      },
      "execution_count": null,
      "outputs": [
        {
          "output_type": "execute_result",
          "data": {
            "text/plain": [
              "[0, 2, 4, 6, 8]"
            ]
          },
          "metadata": {},
          "execution_count": 12
        }
      ]
    },
    {
      "cell_type": "code",
      "source": [
        "l = ['aa', 'abc', 'bbb', 'ccc', 'aba']\n",
        "[i for i in l if 'a' in i]"
      ],
      "metadata": {
        "colab": {
          "base_uri": "https://localhost:8080/"
        },
        "id": "uvZtFIDJ-4Sj",
        "outputId": "d006d71d-8e07-459e-940f-62153f44cbfe"
      },
      "execution_count": null,
      "outputs": [
        {
          "output_type": "execute_result",
          "data": {
            "text/plain": [
              "['aa', 'abc', 'aba']"
            ]
          },
          "metadata": {},
          "execution_count": 14
        }
      ]
    },
    {
      "cell_type": "code",
      "source": [
        "[for i in range(10) if i % 2 == 0 or i % 3 == 0]"
      ],
      "metadata": {
        "id": "2SGgGn2K-Twp"
      },
      "execution_count": null,
      "outputs": []
    },
    {
      "cell_type": "code",
      "source": [
        "for i in range (2,10):\n",
        "    print('*')"
      ],
      "metadata": {
        "id": "fWofmJXFCQEX"
      },
      "execution_count": null,
      "outputs": []
    },
    {
      "cell_type": "markdown",
      "source": [
        "## 다중 리스트 순회"
      ],
      "metadata": {
        "id": "B1BWH-6wFhvV"
      }
    },
    {
      "cell_type": "code",
      "source": [
        "#다중 리스트 for문\n",
        "skill = [\n",
        "        ('고기잡이', 100),\n",
        "        ('고기팔기', 120),\n",
        "        ('낚시', 5),\n",
        "        ('통발', 5),\n",
        "        ('큰그물', 5)\n",
        "]\n",
        "\n",
        "for i,j in skill:\n",
        "    print(i,j)\n"
      ],
      "metadata": {
        "colab": {
          "base_uri": "https://localhost:8080/"
        },
        "id": "0xVDrvRJEhbi",
        "outputId": "feaa391c-d471-4fd1-c63b-3803d56e36fd"
      },
      "execution_count": null,
      "outputs": [
        {
          "output_type": "stream",
          "name": "stdout",
          "text": [
            "고기잡이 100\n",
            "고기팔기 120\n",
            "낚시 5\n",
            "통발 5\n",
            "큰그물 5\n"
          ]
        }
      ]
    },
    {
      "cell_type": "code",
      "source": [
        "skill = [\n",
        "        ('고기잡이', (1, 100)),\n",
        "        ('고기팔기', (1, 100)),\n",
        "        ('낚시', (2, 100)),\n",
        "        ('통발', (2, 100)),\n",
        "        ('큰그물', (2, 100))\n",
        "]\n",
        "\n",
        "for i, [x, y] in skill:\n",
        "    print(i, x, y)"
      ],
      "metadata": {
        "colab": {
          "base_uri": "https://localhost:8080/"
        },
        "id": "_t7e-iFAFpII",
        "outputId": "ad8f0032-65db-4ad1-f5e9-e8243c3a42c3"
      },
      "execution_count": null,
      "outputs": [
        {
          "output_type": "stream",
          "name": "stdout",
          "text": [
            "고기잡이 1 100\n",
            "고기팔기 1 100\n",
            "낚시 2 100\n",
            "통발 2 100\n",
            "큰그물 2 100\n"
          ]
        }
      ]
    },
    {
      "cell_type": "code",
      "source": [
        "data = [\n",
        "        ('고기잡이', (1, 100, 's')),\n",
        "        ('고기팔기', (1, 100, 'a')),\n",
        "        ('낚시', (2, 100, 'a')),\n",
        "        ('통발', (2, 100,'a')),\n",
        "        ('큰그물', (2, 100,'s'))\n",
        "]\n",
        "for i, [x, y,z] in data:\n",
        "    print(f'축하합니다.{i}등급에 skill {x}를 습득하셨습니다!\\n 해당 스킬은 레벨 제한{y} 스킬 포인트 {z}입니다\\n')"
      ],
      "metadata": {
        "colab": {
          "base_uri": "https://localhost:8080/"
        },
        "id": "KW4cf1wnHNIR",
        "outputId": "44ad0b41-a4b6-44be-b21e-1e4ddd6e8a99"
      },
      "execution_count": null,
      "outputs": [
        {
          "output_type": "stream",
          "name": "stdout",
          "text": [
            "축하합니다.고기잡이등급에 skill 1를 습득하셨습니다!\n",
            " 해당 스킬은 레벨 제한100 스킬 포인트 s입니다\n",
            "\n",
            "축하합니다.고기팔기등급에 skill 1를 습득하셨습니다!\n",
            " 해당 스킬은 레벨 제한100 스킬 포인트 a입니다\n",
            "\n",
            "축하합니다.낚시등급에 skill 2를 습득하셨습니다!\n",
            " 해당 스킬은 레벨 제한100 스킬 포인트 a입니다\n",
            "\n",
            "축하합니다.통발등급에 skill 2를 습득하셨습니다!\n",
            " 해당 스킬은 레벨 제한100 스킬 포인트 a입니다\n",
            "\n",
            "축하합니다.큰그물등급에 skill 2를 습득하셨습니다!\n",
            " 해당 스킬은 레벨 제한100 스킬 포인트 s입니다\n",
            "\n"
          ]
        }
      ]
    },
    {
      "cell_type": "code",
      "source": [
        "[print(f'축하합니다.{i}등급에 skill {x}를 습득하셨습니다!\\n 해당 스킬은 레벨 제한{y} 스킬 포인트 {z}입니다\\n')for i, [x, y,z] in data]"
      ],
      "metadata": {
        "colab": {
          "base_uri": "https://localhost:8080/"
        },
        "id": "IrYfIDztItPc",
        "outputId": "b26e23ca-77a4-4c8d-b697-59fcfc17b9b6"
      },
      "execution_count": null,
      "outputs": [
        {
          "output_type": "stream",
          "name": "stdout",
          "text": [
            "축하합니다.고기잡이등급에 skill 1를 습득하셨습니다!\n",
            " 해당 스킬은 레벨 제한100 스킬 포인트 s입니다\n",
            "\n",
            "축하합니다.고기팔기등급에 skill 1를 습득하셨습니다!\n",
            " 해당 스킬은 레벨 제한100 스킬 포인트 a입니다\n",
            "\n",
            "축하합니다.낚시등급에 skill 2를 습득하셨습니다!\n",
            " 해당 스킬은 레벨 제한100 스킬 포인트 a입니다\n",
            "\n",
            "축하합니다.통발등급에 skill 2를 습득하셨습니다!\n",
            " 해당 스킬은 레벨 제한100 스킬 포인트 a입니다\n",
            "\n",
            "축하합니다.큰그물등급에 skill 2를 습득하셨습니다!\n",
            " 해당 스킬은 레벨 제한100 스킬 포인트 s입니다\n",
            "\n"
          ]
        },
        {
          "output_type": "execute_result",
          "data": {
            "text/plain": [
              "[None, None, None, None, None]"
            ]
          },
          "metadata": {},
          "execution_count": 37
        }
      ]
    },
    {
      "cell_type": "markdown",
      "source": [
        "## while 문"
      ],
      "metadata": {
        "id": "NDAPUMWlML5v"
      }
    },
    {
      "cell_type": "code",
      "source": [
        "a = 1\n",
        "while a < 10 :\n",
        "    print(a)\n",
        "    a += 1 "
      ],
      "metadata": {
        "colab": {
          "base_uri": "https://localhost:8080/"
        },
        "id": "wjZz_xa3K6YV",
        "outputId": "58703a58-394a-4ef8-fb30-7a403a21dfe6"
      },
      "execution_count": null,
      "outputs": [
        {
          "output_type": "stream",
          "name": "stdout",
          "text": [
            "1\n",
            "2\n",
            "3\n",
            "4\n",
            "5\n",
            "6\n",
            "7\n",
            "8\n",
            "9\n"
          ]
        }
      ]
    },
    {
      "cell_type": "code",
      "source": [
        "# 이러한 무한반복은 메모리를 모두 소진합니다.\n",
        "# 서버가 뻗을 수도 있습니다.\n",
        "while True:\n",
        "    user_input = input('$')\n",
        "    split_data = user_input.split(' ')\n",
        "    if split_data[0] == 'mkdir':\n",
        "        print(f'{split_data[1]} 폴더가 생성되었습니다!')\n",
        "    elif split_data[0] == 'rmdir':\n",
        "        print(f'{split_data[1]} 폴더가 삭제되었습니다!')\n",
        "    elif split_data[0] == 'exit':\n",
        "        print('프로그램을 종료합니다.')\n",
        "        break"
      ],
      "metadata": {
        "id": "Wk0F3mKaMc-3"
      },
      "execution_count": null,
      "outputs": []
    },
    {
      "cell_type": "code",
      "source": [
        "import random\n",
        "# up down game\n",
        "\n",
        "result = random.randint(1, 10)\n",
        "\n",
        "while True:\n",
        "    user_input = int(input())\n",
        "    if user_input > result:\n",
        "        print('down')\n",
        "    elif user_input < result:\n",
        "        print('up')\n",
        "    else:\n",
        "        print('맞췄습니다!')\n",
        "        print('프로그램을 종료합니다.')\n",
        "        break"
      ],
      "metadata": {
        "colab": {
          "base_uri": "https://localhost:8080/"
        },
        "id": "Ym8pgd4UR2Qx",
        "outputId": "2799be9b-0d2d-4969-bff8-ff4cc8c35cb0"
      },
      "execution_count": null,
      "outputs": [
        {
          "output_type": "stream",
          "name": "stdout",
          "text": [
            "5\n",
            "up\n",
            "8\n",
            "down\n",
            "7\n",
            "맞췄습니다!\n",
            "프로그램을 종료합니다.\n"
          ]
        }
      ]
    },
    {
      "cell_type": "code",
      "source": [
        "from itertools import count\n",
        "count10 = 0\n",
        "count3 = 0\n",
        "a = 0\n",
        "n = 10\n",
        "while count10 < n:\n",
        "    count10 += 1\n",
        "    count3 += 1\n",
        "    while count10 % 3 == 0 or '3' in str(count3):\n",
        "        count3 +=1\n",
        "print(count3)"
      ],
      "metadata": {
        "colab": {
          "base_uri": "https://localhost:8080/",
          "height": 235
        },
        "id": "5yFrumKHRz_0",
        "outputId": "51fc8297-66b7-435b-fcd7-669a8e53406c"
      },
      "execution_count": null,
      "outputs": [
        {
          "output_type": "error",
          "ename": "KeyboardInterrupt",
          "evalue": "ignored",
          "traceback": [
            "\u001b[0;31m---------------------------------------------------------------------------\u001b[0m",
            "\u001b[0;31mKeyboardInterrupt\u001b[0m                         Traceback (most recent call last)",
            "\u001b[0;32m<ipython-input-59-6a0288fe9459>\u001b[0m in \u001b[0;36m<cell line: 6>\u001b[0;34m()\u001b[0m\n\u001b[1;32m      7\u001b[0m     \u001b[0mcount10\u001b[0m \u001b[0;34m+=\u001b[0m \u001b[0;36m1\u001b[0m\u001b[0;34m\u001b[0m\u001b[0;34m\u001b[0m\u001b[0m\n\u001b[1;32m      8\u001b[0m     \u001b[0mcount3\u001b[0m \u001b[0;34m+=\u001b[0m \u001b[0;36m1\u001b[0m\u001b[0;34m\u001b[0m\u001b[0;34m\u001b[0m\u001b[0m\n\u001b[0;32m----> 9\u001b[0;31m     \u001b[0;32mwhile\u001b[0m \u001b[0mcount10\u001b[0m \u001b[0;34m%\u001b[0m \u001b[0;36m3\u001b[0m \u001b[0;34m==\u001b[0m \u001b[0;36m0\u001b[0m \u001b[0;32mor\u001b[0m \u001b[0;34m'3'\u001b[0m \u001b[0;32min\u001b[0m \u001b[0mstr\u001b[0m\u001b[0;34m(\u001b[0m\u001b[0mcount3\u001b[0m\u001b[0;34m)\u001b[0m\u001b[0;34m:\u001b[0m\u001b[0;34m\u001b[0m\u001b[0;34m\u001b[0m\u001b[0m\n\u001b[0m\u001b[1;32m     10\u001b[0m         \u001b[0mcount3\u001b[0m \u001b[0;34m+=\u001b[0m\u001b[0;36m1\u001b[0m\u001b[0;34m\u001b[0m\u001b[0;34m\u001b[0m\u001b[0m\n\u001b[1;32m     11\u001b[0m \u001b[0mprint\u001b[0m\u001b[0;34m(\u001b[0m\u001b[0mcount3\u001b[0m \u001b[0;34m)\u001b[0m\u001b[0;34m\u001b[0m\u001b[0;34m\u001b[0m\u001b[0m\n",
            "\u001b[0;31mKeyboardInterrupt\u001b[0m: "
          ]
        }
      ]
    },
    {
      "cell_type": "code",
      "source": [
        "def solution(n):\n",
        "    count10 = 0\n",
        "    count3 = 0\n",
        "    while count10 < n:\n",
        "        count10 += 1\n",
        "        count3 += 1\n",
        "        while count3 % 3 == 0 or '3' in str(count3):\n",
        "            count3 += 1\n",
        "    return count3\n",
        "solution(10)"
      ],
      "metadata": {
        "colab": {
          "base_uri": "https://localhost:8080/"
        },
        "id": "QfG0vbpwaI9T",
        "outputId": "d565f4d9-345d-42c4-b56f-ec2863282e6a"
      },
      "execution_count": null,
      "outputs": [
        {
          "output_type": "execute_result",
          "data": {
            "text/plain": [
              "16"
            ]
          },
          "metadata": {},
          "execution_count": 57
        }
      ]
    },
    {
      "cell_type": "code",
      "source": [
        "def solution(n):\n",
        "    return [i for i in range(1, 1001) if i % 3 != 0 and not('3' in str(i))][n-1]\n",
        "solution(12)"
      ],
      "metadata": {
        "colab": {
          "base_uri": "https://localhost:8080/"
        },
        "id": "4LzXMWeVuSKL",
        "outputId": "b892af6a-ae03-45d8-cd56-25b624dee039"
      },
      "execution_count": null,
      "outputs": [
        {
          "output_type": "execute_result",
          "data": {
            "text/plain": [
              "19"
            ]
          },
          "metadata": {},
          "execution_count": 61
        }
      ]
    },
    {
      "cell_type": "code",
      "source": [
        "[i for i in range(1, 31) if i % 3 != 0 and not('3' in str(i))][n-1]"
      ],
      "metadata": {
        "colab": {
          "base_uri": "https://localhost:8080/"
        },
        "id": "8ORYdcshuob8",
        "outputId": "8fd0274b-c3c3-4024-aee4-4d9a075e7c26"
      },
      "execution_count": null,
      "outputs": [
        {
          "output_type": "execute_result",
          "data": {
            "text/plain": [
              "16"
            ]
          },
          "metadata": {},
          "execution_count": 62
        }
      ]
    },
    {
      "cell_type": "markdown",
      "source": [
        "## 실제 데이터를 가지고 연습(json gen)"
      ],
      "metadata": {
        "id": "KqfATv9JvE87"
      }
    },
    {
      "cell_type": "code",
      "source": [
        "customer_data = [\n",
        "  {\n",
        "    \"_id\": \"6459f73edb3989607c12156e\",\n",
        "    \"age\": 32,\n",
        "    \"eyeColor\": \"brown\",\n",
        "    \"name\": \"Shepherd Wallace\",\n",
        "    \"gender\": \"male\"\n",
        "  },\n",
        "  {\n",
        "    \"_id\": \"6459f73e5b3399fa18e627be\",\n",
        "    \"age\": 22,\n",
        "    \"eyeColor\": \"brown\",\n",
        "    \"name\": \"Lucas Mccoy\",\n",
        "    \"gender\": \"male\"\n",
        "  },\n",
        "  {\n",
        "    \"_id\": \"6459f73e3aaa4ca5ab94e57a\",\n",
        "    \"age\": 39,\n",
        "    \"eyeColor\": \"green\",\n",
        "    \"name\": \"Reynolds Miller\",\n",
        "    \"gender\": \"male\"\n",
        "  },\n",
        "  {\n",
        "    \"_id\": \"6459f73e217b6b8c5023a72e\",\n",
        "    \"age\": 33,\n",
        "    \"eyeColor\": \"green\",\n",
        "    \"name\": \"Gabriela Mccray\",\n",
        "    \"gender\": \"female\"\n",
        "  },\n",
        "  {\n",
        "    \"_id\": \"6459f73e1abff4ad2b5fd122\",\n",
        "    \"age\": 23,\n",
        "    \"eyeColor\": \"brown\",\n",
        "    \"name\": \"Valeria Harding\",\n",
        "    \"gender\": \"female\"\n",
        "  },\n",
        "  {\n",
        "    \"_id\": \"6459f73e272ae91b22595d69\",\n",
        "    \"age\": 26,\n",
        "    \"eyeColor\": \"brown\",\n",
        "    \"name\": \"Rush Glover\",\n",
        "    \"gender\": \"male\"\n",
        "  },\n",
        "  {\n",
        "    \"_id\": \"6459f73e2a81238dea6f274c\",\n",
        "    \"age\": 23,\n",
        "    \"eyeColor\": \"blue\",\n",
        "    \"name\": \"Le Hooper\",\n",
        "    \"gender\": \"male\"\n",
        "  },\n",
        "  {\n",
        "    \"_id\": \"6459f73ed319964ac223aa50\",\n",
        "    \"age\": 26,\n",
        "    \"eyeColor\": \"brown\",\n",
        "    \"name\": \"Roy Copeland\",\n",
        "    \"gender\": \"male\"\n",
        "  },\n",
        "  {\n",
        "    \"_id\": \"6459f73e39d08750b378b035\",\n",
        "    \"age\": 34,\n",
        "    \"eyeColor\": \"blue\",\n",
        "    \"name\": \"Cecelia Foster\",\n",
        "    \"gender\": \"female\"\n",
        "  },\n",
        "  {\n",
        "    \"_id\": \"6459f73efed254717126c497\",\n",
        "    \"age\": 32,\n",
        "    \"eyeColor\": \"green\",\n",
        "    \"name\": \"Alice Bauer\",\n",
        "    \"gender\": \"female\"\n",
        "  },\n",
        "  {\n",
        "    \"_id\": \"6459f73ed69cb83384562d0d\",\n",
        "    \"age\": 38,\n",
        "    \"eyeColor\": \"blue\",\n",
        "    \"name\": \"Sheryl Schultz\",\n",
        "    \"gender\": \"female\"\n",
        "  },\n",
        "  {\n",
        "    \"_id\": \"6459f73e815c22ce034d3e47\",\n",
        "    \"age\": 25,\n",
        "    \"eyeColor\": \"blue\",\n",
        "    \"name\": \"Mccray Gentry\",\n",
        "    \"gender\": \"male\"\n",
        "  },\n",
        "  {\n",
        "    \"_id\": \"6459f73e260eeed6fb249c59\",\n",
        "    \"age\": 39,\n",
        "    \"eyeColor\": \"blue\",\n",
        "    \"name\": \"Louella Gross\",\n",
        "    \"gender\": \"female\"\n",
        "  },\n",
        "  {\n",
        "    \"_id\": \"6459f73e08422e20b195423c\",\n",
        "    \"age\": 37,\n",
        "    \"eyeColor\": \"brown\",\n",
        "    \"name\": \"Peterson Torres\",\n",
        "    \"gender\": \"male\"\n",
        "  },\n",
        "  {\n",
        "    \"_id\": \"6459f73e888726f85714533c\",\n",
        "    \"age\": 40,\n",
        "    \"eyeColor\": \"green\",\n",
        "    \"name\": \"Watkins Larsen\",\n",
        "    \"gender\": \"male\"\n",
        "  },\n",
        "  {\n",
        "    \"_id\": \"6459f73e0629af32374aaabf\",\n",
        "    \"age\": 29,\n",
        "    \"eyeColor\": \"green\",\n",
        "    \"name\": \"Dollie Dickson\",\n",
        "    \"gender\": \"female\"\n",
        "  },\n",
        "  {\n",
        "    \"_id\": \"6459f73ee9ba604175e38003\",\n",
        "    \"age\": 35,\n",
        "    \"eyeColor\": \"brown\",\n",
        "    \"name\": \"Margarita Rhodes\",\n",
        "    \"gender\": \"female\"\n",
        "  },\n",
        "  {\n",
        "    \"_id\": \"6459f73e1dfd92672f351fee\",\n",
        "    \"age\": 26,\n",
        "    \"eyeColor\": \"green\",\n",
        "    \"name\": \"Schmidt Collins\",\n",
        "    \"gender\": \"male\"\n",
        "  },\n",
        "  {\n",
        "    \"_id\": \"6459f73e25e2b06d95173751\",\n",
        "    \"age\": 36,\n",
        "    \"eyeColor\": \"blue\",\n",
        "    \"name\": \"Janis Sloan\",\n",
        "    \"gender\": \"female\"\n",
        "  },\n",
        "  {\n",
        "    \"_id\": \"6459f73e84fc418a35791876\",\n",
        "    \"age\": 25,\n",
        "    \"eyeColor\": \"green\",\n",
        "    \"name\": \"Fernandez Ramos\",\n",
        "    \"gender\": \"male\"\n",
        "  },\n",
        "  {\n",
        "    \"_id\": \"6459f73e1af69f96084eecf7\",\n",
        "    \"age\": 25,\n",
        "    \"eyeColor\": \"green\",\n",
        "    \"name\": \"Walker Serrano\",\n",
        "    \"gender\": \"male\"\n",
        "  },\n",
        "  {\n",
        "    \"_id\": \"6459f73e9948cf45a9b0729d\",\n",
        "    \"age\": 30,\n",
        "    \"eyeColor\": \"brown\",\n",
        "    \"name\": \"Love Bailey\",\n",
        "    \"gender\": \"male\"\n",
        "  },\n",
        "  {\n",
        "    \"_id\": \"6459f73e54695e84fa234448\",\n",
        "    \"age\": 25,\n",
        "    \"eyeColor\": \"green\",\n",
        "    \"name\": \"Marcie Head\",\n",
        "    \"gender\": \"female\"\n",
        "  },\n",
        "  {\n",
        "    \"_id\": \"6459f73ed21f2c10b657d935\",\n",
        "    \"age\": 27,\n",
        "    \"eyeColor\": \"brown\",\n",
        "    \"name\": \"Katelyn Rasmussen\",\n",
        "    \"gender\": \"female\"\n",
        "  },\n",
        "  {\n",
        "    \"_id\": \"6459f73e05b2d97b431628fc\",\n",
        "    \"age\": 22,\n",
        "    \"eyeColor\": \"brown\",\n",
        "    \"name\": \"Camille Chandler\",\n",
        "    \"gender\": \"female\"\n",
        "  },\n",
        "  {\n",
        "    \"_id\": \"6459f73e82f7880482c996f9\",\n",
        "    \"age\": 27,\n",
        "    \"eyeColor\": \"brown\",\n",
        "    \"name\": \"Mckee Mckee\",\n",
        "    \"gender\": \"male\"\n",
        "  },\n",
        "  {\n",
        "    \"_id\": \"6459f73ef86ad860e8f5df07\",\n",
        "    \"age\": 37,\n",
        "    \"eyeColor\": \"blue\",\n",
        "    \"name\": \"Warren Pitts\",\n",
        "    \"gender\": \"male\"\n",
        "  },\n",
        "  {\n",
        "    \"_id\": \"6459f73ebfe462fef54f3695\",\n",
        "    \"age\": 38,\n",
        "    \"eyeColor\": \"brown\",\n",
        "    \"name\": \"Ramos Clay\",\n",
        "    \"gender\": \"male\"\n",
        "  },\n",
        "  {\n",
        "    \"_id\": \"6459f73e66b127d30a24bf37\",\n",
        "    \"age\": 39,\n",
        "    \"eyeColor\": \"green\",\n",
        "    \"name\": \"Ronda Sargent\",\n",
        "    \"gender\": \"female\"\n",
        "  },\n",
        "  {\n",
        "    \"_id\": \"6459f73ef03bf1bdafc69cbc\",\n",
        "    \"age\": 36,\n",
        "    \"eyeColor\": \"blue\",\n",
        "    \"name\": \"Winnie Vasquez\",\n",
        "    \"gender\": \"female\"\n",
        "  },\n",
        "  {\n",
        "    \"_id\": \"6459f73e8e6574ee7aba6626\",\n",
        "    \"age\": 35,\n",
        "    \"eyeColor\": \"blue\",\n",
        "    \"name\": \"Mattie Estrada\",\n",
        "    \"gender\": \"female\"\n",
        "  },\n",
        "  {\n",
        "    \"_id\": \"6459f73ea37c37224db70d2f\",\n",
        "    \"age\": 32,\n",
        "    \"eyeColor\": \"green\",\n",
        "    \"name\": \"Deirdre Daniel\",\n",
        "    \"gender\": \"female\"\n",
        "  },\n",
        "  {\n",
        "    \"_id\": \"6459f73e528017041d2fa2b8\",\n",
        "    \"age\": 29,\n",
        "    \"eyeColor\": \"green\",\n",
        "    \"name\": \"Wiley Stark\",\n",
        "    \"gender\": \"male\"\n",
        "  },\n",
        "  {\n",
        "    \"_id\": \"6459f73eb2c4fb4771b10d54\",\n",
        "    \"age\": 21,\n",
        "    \"eyeColor\": \"blue\",\n",
        "    \"name\": \"Alston Chapman\",\n",
        "    \"gender\": \"male\"\n",
        "  },\n",
        "  {\n",
        "    \"_id\": \"6459f73eb2d519ed89e0c342\",\n",
        "    \"age\": 25,\n",
        "    \"eyeColor\": \"blue\",\n",
        "    \"name\": \"Wall Fisher\",\n",
        "    \"gender\": \"male\"\n",
        "  },\n",
        "  {\n",
        "    \"_id\": \"6459f73eabdee816dcdedd2b\",\n",
        "    \"age\": 27,\n",
        "    \"eyeColor\": \"blue\",\n",
        "    \"name\": \"Mildred Mcdowell\",\n",
        "    \"gender\": \"female\"\n",
        "  },\n",
        "  {\n",
        "    \"_id\": \"6459f73e57ab2a0699c4a364\",\n",
        "    \"age\": 28,\n",
        "    \"eyeColor\": \"green\",\n",
        "    \"name\": \"Riggs Fitzpatrick\",\n",
        "    \"gender\": \"male\"\n",
        "  },\n",
        "  {\n",
        "    \"_id\": \"6459f73e56add821468eeccf\",\n",
        "    \"age\": 38,\n",
        "    \"eyeColor\": \"brown\",\n",
        "    \"name\": \"Whitley Hunt\",\n",
        "    \"gender\": \"male\"\n",
        "  },\n",
        "  {\n",
        "    \"_id\": \"6459f73ed9961279c94a6351\",\n",
        "    \"age\": 25,\n",
        "    \"eyeColor\": \"green\",\n",
        "    \"name\": \"Colon Giles\",\n",
        "    \"gender\": \"male\"\n",
        "  },\n",
        "  {\n",
        "    \"_id\": \"6459f73e37b3956c52c90cfe\",\n",
        "    \"age\": 22,\n",
        "    \"eyeColor\": \"blue\",\n",
        "    \"name\": \"Young Noble\",\n",
        "    \"gender\": \"female\"\n",
        "  },\n",
        "  {\n",
        "    \"_id\": \"6459f73e86a404959795cd13\",\n",
        "    \"age\": 39,\n",
        "    \"eyeColor\": \"brown\",\n",
        "    \"name\": \"Nicole Rose\",\n",
        "    \"gender\": \"female\"\n",
        "  },\n",
        "  {\n",
        "    \"_id\": \"6459f73e66d54fa63eb72812\",\n",
        "    \"age\": 26,\n",
        "    \"eyeColor\": \"blue\",\n",
        "    \"name\": \"Darcy Jacobs\",\n",
        "    \"gender\": \"female\"\n",
        "  },\n",
        "  {\n",
        "    \"_id\": \"6459f73ee6ee7607f35a1dc3\",\n",
        "    \"age\": 40,\n",
        "    \"eyeColor\": \"blue\",\n",
        "    \"name\": \"Roxanne Nicholson\",\n",
        "    \"gender\": \"female\"\n",
        "  },\n",
        "  {\n",
        "    \"_id\": \"6459f73ed4c15eb0b7b16d20\",\n",
        "    \"age\": 29,\n",
        "    \"eyeColor\": \"green\",\n",
        "    \"name\": \"Boyd Mann\",\n",
        "    \"gender\": \"male\"\n",
        "  },\n",
        "  {\n",
        "    \"_id\": \"6459f73eb02dcaadfc3f3252\",\n",
        "    \"age\": 38,\n",
        "    \"eyeColor\": \"brown\",\n",
        "    \"name\": \"Lynn Jennings\",\n",
        "    \"gender\": \"male\"\n",
        "  },\n",
        "  {\n",
        "    \"_id\": \"6459f73ec4557a134564fdc8\",\n",
        "    \"age\": 32,\n",
        "    \"eyeColor\": \"blue\",\n",
        "    \"name\": \"Reva Norman\",\n",
        "    \"gender\": \"female\"\n",
        "  },\n",
        "  {\n",
        "    \"_id\": \"6459f73e0b2a3371bc62a66e\",\n",
        "    \"age\": 20,\n",
        "    \"eyeColor\": \"green\",\n",
        "    \"name\": \"Kathleen Cannon\",\n",
        "    \"gender\": \"female\"\n",
        "  },\n",
        "  {\n",
        "    \"_id\": \"6459f73ea5e9832be28f3281\",\n",
        "    \"age\": 28,\n",
        "    \"eyeColor\": \"brown\",\n",
        "    \"name\": \"Kimberley Rowland\",\n",
        "    \"gender\": \"female\"\n",
        "  },\n",
        "  {\n",
        "    \"_id\": \"6459f73e91299d4641e840e2\",\n",
        "    \"age\": 20,\n",
        "    \"eyeColor\": \"brown\",\n",
        "    \"name\": \"Shauna Rocha\",\n",
        "    \"gender\": \"female\"\n",
        "  },\n",
        "  {\n",
        "    \"_id\": \"6459f73e1bcdfee34ba00323\",\n",
        "    \"age\": 37,\n",
        "    \"eyeColor\": \"green\",\n",
        "    \"name\": \"Angelica Ellison\",\n",
        "    \"gender\": \"female\"\n",
        "  }\n",
        "]\n"
      ],
      "metadata": {
        "id": "jriq5OytvEC7"
      },
      "execution_count": null,
      "outputs": []
    },
    {
      "cell_type": "code",
      "source": [
        "import matplotlib.pyplot as plt\n",
        "i = 0\n",
        "customer_age = 0\n",
        "customer_male = 0\n",
        "customer_female = 0\n",
        "for i in range (0,len(customer_data)):\n",
        "    customer_age = customer_age + customer_data[i]['age']\n",
        "print(customer_age/len(customer_data))\n",
        "\n",
        "for j in range (0,len(customer_data)):\n",
        "    if customer_data[j]['gender'] == 'female':\n",
        "        customer_female += 1\n",
        "    else:\n",
        "        customer_male +=1\n",
        "print()\n",
        "\n",
        "gender = [customer_male,customer_female]\n",
        "gender_label = ['male','female']\n",
        "plt.pie(gender, labels=gender_label, autopct='%.1f%%')\n",
        "plt.show()"
      ],
      "metadata": {
        "colab": {
          "base_uri": "https://localhost:8080/",
          "height": 441
        },
        "id": "yxYR6ODBvtYM",
        "outputId": "81cd6a51-fd17-495b-86eb-39b87b3dbb2e"
      },
      "execution_count": null,
      "outputs": [
        {
          "output_type": "stream",
          "name": "stdout",
          "text": [
            "30.34\n",
            "\n"
          ]
        },
        {
          "output_type": "display_data",
          "data": {
            "text/plain": [
              "<Figure size 640x480 with 1 Axes>"
            ],
            "image/png": "[encoded data removed]"
          },
          "metadata": {}
        }
      ]
    },
    {
      "cell_type": "code",
      "source": [
        "#Lv2\n",
        "\n",
        "# 평균 (1줄)\n",
        "# list(map(lambda x:x['age'], data))\n",
        "print(sum(map(lambda x:x['age'], customer_data)) / len(customer_data))\n",
        "\n",
        "# 성별 (1줄)\n",
        "male = len(list(filter(lambda x:x['gender'] == 'male', customer_data)))\n",
        "female = len(list(filter(lambda x:x['gender'] == 'female',customer_data)))\n",
        "gender = [male,female]\n",
        "gender_label = ['male','female']\n",
        "plt.pie(gender, labels=gender_label, autopct='%.1f%%')\n",
        "plt.show()"
      ],
      "metadata": {
        "colab": {
          "base_uri": "https://localhost:8080/",
          "height": 423
        },
        "id": "mKOF-XynaCW4",
        "outputId": "89a3f70a-0296-458b-d5d6-7343cee465a7"
      },
      "execution_count": null,
      "outputs": [
        {
          "output_type": "stream",
          "name": "stdout",
          "text": [
            "30.34\n"
          ]
        },
        {
          "output_type": "display_data",
          "data": {
            "text/plain": [
              "<Figure size 640x480 with 1 Axes>"
            ],
            "image/png": "[encoded data removed]"
          },
          "metadata": {}
        }
      ]
    },
    {
      "cell_type": "code",
      "source": [
        "eyeColor = list((map(lambda x:x['eyeColor'],customer_data)))\n",
        "eyeColor =set(eyeColor)\n",
        "list(eyeColor)\n",
        "blue = len(list(filter(lambda x:x['eyeColor'] == 'blue', customer_data)))\n",
        "brown = len(list(filter(lambda x:x['eyeColor'] == 'brown', customer_data)))\n",
        "green = len(list(filter(lambda x:x['eyeColor'] == 'green', customer_data)))\n",
        "eyeColor_count = [blue, brown, green]\n",
        "eyeColor_label = ['blue', 'brown', 'green']\n",
        "plt.pie(eyeColor_count, labels = eyeColor_label, autopct='%.1f%%',colors=['blue', 'brown', 'green'])\n",
        "plt.show()"
      ],
      "metadata": {
        "colab": {
          "base_uri": "https://localhost:8080/",
          "height": 406
        },
        "id": "AeurUdlxb8w_",
        "outputId": "301707ae-66f7-467b-d244-0436453a6c0f"
      },
      "execution_count": null,
      "outputs": [
        {
          "output_type": "display_data",
          "data": {
            "text/plain": [
              "<Figure size 640x480 with 1 Axes>"
            ],
            "image/png": "[encoded data removed]"
          },
          "metadata": {}
        }
      ]
    },
    {
      "cell_type": "code",
      "source": [],
      "metadata": {
        "id": "8k_38RR806kL"
      },
      "execution_count": null,
      "outputs": []
    },
    {
      "cell_type": "markdown",
      "source": [
        "## 알아야하는 built-in function"
      ],
      "metadata": {
        "id": "th5z7e0xu_ck"
      }
    },
    {
      "cell_type": "markdown",
      "source": [
        "### 1.1 각종 수학적 통계에 활용되는 함수\n",
        "- abs( ) : 괄호 안에 있는 값을 절대값으로 출력해줍니다.\n",
        "- all( ) : 괄호 안에 있는 값들이 모두 True(False)일 때 True(False)를 출력합니다.\n",
        "- any( ) : 괄호안에 있는 값이 하나라고 True이면 True로 출력합니다.\n",
        "- pow( ) : 제곱을 출력합니다.\n",
        "- max( ) : 값의 최댓값을 출력합니다.\n",
        "- min( ) : 값의 최솟값을 출력합니다.\n",
        "- sum( ) : 값의 합계를 출력합니다.\n",
        "- len( ) : 문자열의 길이를 출력합니다.\n",
        "- sorted( ) : 데이터를 정렬해줍니다.\n",
        "- reversed( ) : 정렬되지 않은 상태에서 값을 역순으로 출력합니다.\n"
      ],
      "metadata": {
        "id": "BOAA3hop9V-1"
      }
    },
    {
      "cell_type": "markdown",
      "source": [
        "###1.2 형변환 함수\n",
        "- set( )\n",
        "- dict( )\n",
        "- hex( ) : 16진법\n",
        "- bin( ) : 2진법\n",
        "- oct( ) : 8진법\n",
        "- bool( )\n",
        "- str( )\n",
        "- ord( ) : 각각의 문자에 대한 숫자값을 출력해줍니다.(아스키코드표를 참고하세요.)\n",
        "- float( )\n",
        "- tuple( )\n",
        "- chr( ) : 숫자값을 통해서 문자를 출력합니다.\n",
        "- list( )\n",
        "- range( )\n",
        "- complex( )"
      ],
      "metadata": {
        "id": "kvJxtmlhAzq_"
      }
    },
    {
      "cell_type": "markdown",
      "source": [
        "### 1.4 object 관련 함수\n",
        "\n",
        "- dir( )\n",
        "- id( )\n",
        "- type( )"
      ],
      "metadata": {
        "id": "wCh1rcZwC2fI"
      }
    },
    {
      "cell_type": "markdown",
      "source": [
        "### 1.5 유용한 순회 가능 객체\n",
        "\n",
        "- enumerate( ) : 값에 순위를 매기고 싶을 때 사용합니다.\n",
        "- filter( )\n",
        "- zip( )\n",
        "- map( )"
      ],
      "metadata": {
        "id": "MWzW9EMSC_5B"
      }
    },
    {
      "cell_type": "markdown",
      "source": [
        "## args, kwarg"
      ],
      "metadata": {
        "id": "lu1Ku6pUIjFd"
      }
    },
    {
      "cell_type": "code",
      "source": [
        "def print_args(*args):\n",
        "    print(args)\n",
        "    for x in args:\n",
        "        print(x)\n",
        "\n",
        "print_args(100, True, 'leehojun')"
      ],
      "metadata": {
        "colab": {
          "base_uri": "https://localhost:8080/"
        },
        "id": "MmLMYkl1AzGh",
        "outputId": "78ebd8dc-671e-4b72-cbcf-00c60d130ecf"
      },
      "execution_count": null,
      "outputs": [
        {
          "output_type": "stream",
          "name": "stdout",
          "text": [
            "(100, True, 'leehojun')\n",
            "100\n",
            "True\n",
            "leehojun\n"
          ]
        }
      ]
    },
    {
      "cell_type": "code",
      "source": [
        "def print_kwargs(a, **kwargs):\n",
        "    print(a)\n",
        "    print(kwargs)\n",
        "    for i in kwargs:\n",
        "        print(i)\n",
        "\n",
        "print_kwargs(100, name='leehojun', age='10')"
      ],
      "metadata": {
        "colab": {
          "base_uri": "https://localhost:8080/"
        },
        "id": "BfIELzCsKe6X",
        "outputId": "0d59eab7-4636-46cc-d5d5-aa3834ad1e34"
      },
      "execution_count": null,
      "outputs": [
        {
          "output_type": "stream",
          "name": "stdout",
          "text": [
            "100\n",
            "{'name': 'leehojun', 'age': '10'}\n",
            "name\n",
            "age\n"
          ]
        }
      ]
    },
    {
      "cell_type": "code",
      "source": [
        "def print_kwargs(*kwargs):\n",
        "    print(kwargs)\n",
        "    for i in kwargs:\n",
        "        print(i)\n",
        "\n",
        "value = {'one':10, 'two':20}\n",
        "print_kwargs(*value)"
      ],
      "metadata": {
        "colab": {
          "base_uri": "https://localhost:8080/"
        },
        "id": "ZDibKOuZKiym",
        "outputId": "40830923-9ab9-4e83-d29b-c81da3467cb2"
      },
      "execution_count": null,
      "outputs": [
        {
          "output_type": "stream",
          "name": "stdout",
          "text": [
            "('one', 'two')\n",
            "one\n",
            "two\n"
          ]
        }
      ]
    },
    {
      "cell_type": "code",
      "source": [
        "def print_args(*args):\n",
        "    print(args)\n",
        "    for x in args:\n",
        "        print(x)\n",
        "\n",
        "print_args(100, True, 'leehojun')"
      ],
      "metadata": {
        "colab": {
          "base_uri": "https://localhost:8080/"
        },
        "id": "ZT5A-p2UL82V",
        "outputId": "7337e791-08b4-4a86-97fb-750a66a51dc1"
      },
      "execution_count": null,
      "outputs": [
        {
          "output_type": "stream",
          "name": "stdout",
          "text": [
            "(100, True, 'leehojun')\n",
            "100\n",
            "True\n",
            "leehojun\n"
          ]
        }
      ]
    },
    {
      "cell_type": "markdown",
      "source": [
        "## lambda"
      ],
      "metadata": {
        "id": "mt-W3GUDKXkE"
      }
    },
    {
      "cell_type": "markdown",
      "source": [
        "- 익명함수라고도 하며, 이름이 없는 함수\n",
        "* 람다가 응용되는곳 : map, filter, max, min, sorted, "
      ],
      "metadata": {
        "id": "vIi6eGkFNE59"
      }
    },
    {
      "cell_type": "code",
      "source": [
        "rhh = lambda x : x**2"
      ],
      "metadata": {
        "id": "3p7K4FvwKmuq"
      },
      "execution_count": null,
      "outputs": []
    },
    {
      "cell_type": "code",
      "source": [
        "rhh"
      ],
      "metadata": {
        "colab": {
          "base_uri": "https://localhost:8080/"
        },
        "id": "v68owwuZKanZ",
        "outputId": "48b4df25-e2aa-4b93-d5bf-746994643714"
      },
      "execution_count": null,
      "outputs": [
        {
          "output_type": "execute_result",
          "data": {
            "text/plain": [
              "<function __main__.<lambda>(x)>"
            ]
          },
          "metadata": {},
          "execution_count": 91
        }
      ]
    },
    {
      "cell_type": "code",
      "source": [
        "list(range(10 , 0 , -1))"
      ],
      "metadata": {
        "colab": {
          "base_uri": "https://localhost:8080/"
        },
        "id": "iXjE4d7yAi8I",
        "outputId": "9162aa57-2009-4683-8f53-227e3c45c061"
      },
      "execution_count": null,
      "outputs": [
        {
          "output_type": "execute_result",
          "data": {
            "text/plain": [
              "[10, 9, 8, 7, 6, 5, 4, 3, 2, 1]"
            ]
          },
          "metadata": {},
          "execution_count": 86
        }
      ]
    },
    {
      "cell_type": "code",
      "source": [
        "#__len__가 없는것들 map, zip, filter...."
      ],
      "metadata": {
        "id": "2-RC1-VZ9VH0"
      },
      "execution_count": null,
      "outputs": []
    },
    {
      "cell_type": "code",
      "source": [],
      "metadata": {
        "id": "Y17Bq07cMf14"
      },
      "execution_count": null,
      "outputs": []
    },
    {
      "cell_type": "code",
      "source": [
        "def f():\n",
        "    return lambda x,t:x+y\n"
      ],
      "metadata": {
        "id": "Aocpgju9uz0o"
      },
      "execution_count": null,
      "outputs": []
    },
    {
      "cell_type": "code",
      "source": [
        "def f():\n",
        "    return lambda x :lambda i:i**2\n",
        "f()(1)(10)\n"
      ],
      "metadata": {
        "colab": {
          "base_uri": "https://localhost:8080/"
        },
        "id": "LdoaeSbwMgT2",
        "outputId": "920c451e-dbd0-4d30-b393-4e2ff9acaaea"
      },
      "execution_count": null,
      "outputs": [
        {
          "output_type": "execute_result",
          "data": {
            "text/plain": [
              "100"
            ]
          },
          "metadata": {},
          "execution_count": 94
        }
      ]
    },
    {
      "cell_type": "code",
      "source": [
        "def add(x, y):\n",
        "    return x + y\n",
        "def sub():\n",
        "    pass\n",
        "def div():\n",
        "    pass\n",
        "def mul():\n",
        "    pass\n",
        "\n",
        "caculator = [add, sub, div, mul]\n",
        "print(caculator[0](10, 20))#0번째 값은 add 입니다.\n",
        "\n",
        "caculator2 = [lambda x,y:x+y, \n",
        "              lambda x,y:x-y, \n",
        "              lambda x,y:x/y, \n",
        "              lambda x,y:x*y]\n",
        "\n",
        "print(caculator2[0](10, 20)) #0번째 값은 add 입니다.\n",
        "print(caculator2[0](10, 20))"
      ],
      "metadata": {
        "colab": {
          "base_uri": "https://localhost:8080/"
        },
        "id": "qVoTvdvzM2BF",
        "outputId": "d48284b5-b567-4742-ce3d-a8e121df8bc8"
      },
      "execution_count": null,
      "outputs": [
        {
          "output_type": "stream",
          "name": "stdout",
          "text": [
            "30\n",
            "30\n",
            "30\n"
          ]
        }
      ]
    },
    {
      "cell_type": "code",
      "source": [
        "#실무에서도 많이 사용됩니다.\n",
        "def 제곱(x):\n",
        "    return x ** 2\n",
        "\n",
        "# 재사용 하는 경우에는 함수로 선언하는 경우도 있습니다.\n",
        "list(map(제곱, [1, 2, 3, 4]))\n",
        "list(map(제곱, [1, 2, 3, 4]))\n",
        "\n",
        "list(map(lambda x : x ** 2, [1, 2, 3, 4]))"
      ],
      "metadata": {
        "colab": {
          "base_uri": "https://localhost:8080/"
        },
        "id": "hTSV5OoKN3Zi",
        "outputId": "8e3d28ae-ed39-44cf-d880-ab2c2fd38981"
      },
      "execution_count": null,
      "outputs": [
        {
          "output_type": "execute_result",
          "data": {
            "text/plain": [
              "[1, 4, 9, 16]"
            ]
          },
          "metadata": {},
          "execution_count": 96
        }
      ]
    },
    {
      "cell_type": "code",
      "source": [],
      "metadata": {
        "id": "peaIvqfgOeLJ"
      },
      "execution_count": null,
      "outputs": []
    },
    {
      "cell_type": "markdown",
      "source": [
        "## map()"
      ],
      "metadata": {
        "id": "1OHZOFVmM_Dz"
      }
    },
    {
      "cell_type": "code",
      "source": [
        "#실무에서도 많이 사용됩니다.\n",
        "def 제곱(x):\n",
        "    return x ** 2\n",
        "\n",
        "# 재사용 하는 경우에는 함수로 선언하는 경우도 있습니다.\n",
        "list(map(제곱, [1, 2, 3, 4]))\n",
        "list(map(제곱, [1, 2, 3, 4]))\n",
        "\n",
        "list(map(lambda x : x ** 2, [1, 2, 3, 4]))"
      ],
      "metadata": {
        "colab": {
          "base_uri": "https://localhost:8080/"
        },
        "id": "Wmx0NTZnObL9",
        "outputId": "7b57cd14-363a-4e0a-8bc3-dc8a06689686"
      },
      "execution_count": null,
      "outputs": [
        {
          "output_type": "execute_result",
          "data": {
            "text/plain": [
              "[1, 4, 9, 16]"
            ]
          },
          "metadata": {},
          "execution_count": 97
        }
      ]
    },
    {
      "cell_type": "code",
      "source": [
        "숫자 = [1, 2, 3, 4, 5]\n",
        "승수 = [2, 2, 2, 3, 3]\n",
        "\n",
        "#문제\n",
        "#1. 숫자의 승수를 zip으로 맵핑해서 진행하세요.\n",
        "#2. 숫자를 승수만큼 승수하여 결과값을 표현해주세요.\n",
        "#3. 승수한 값이 100이상인 값을 출력하세요.\n",
        "#4. 승수한 값을 모두 더하세요.\n",
        "list(zip(숫자,승수))\n",
        "list(map(lambda x: x[0] ** x[1], zip(숫자, 승수)))\n",
        "list(filter(lambda x: x>100, list(map(lambda x: x[0] ** x[1], zip(숫자, 승수)))))"
      ],
      "metadata": {
        "colab": {
          "base_uri": "https://localhost:8080/"
        },
        "id": "g_-RmvAZM2uY",
        "outputId": "7ee6b0b1-6c4b-4d48-c75b-72e025c3ff09"
      },
      "execution_count": null,
      "outputs": [
        {
          "output_type": "execute_result",
          "data": {
            "text/plain": [
              "[125]"
            ]
          },
          "metadata": {},
          "execution_count": 107
        }
      ]
    },
    {
      "cell_type": "markdown",
      "source": [
        "## !! 오늘 배운 것 정리\n",
        "* 반복문\n",
        "    * 정해진 순서를(next) 반복하는 것\n",
        "    * 형태\n",
        "    ```python\n",
        "    # for 변수 in 순회가능한객체: # stopItoration까지 반복\n",
        "    #     code\n",
        "\n",
        "    # while 조건: # true까지 반복\n",
        "    #     code \n",
        "    ```\n",
        "    * 순회 가능한 객체(이터러블 객체) : 문자열, 리스트, 튜플, 딕셔너리, 셋, range, enumerate, map, set, sorted, reverse 등\n",
        "    * 순회 불가능한 객체 : int, float 등 \n",
        "    * code 안에서 변수를 사용하지 않을 경우 언더바를 관습적으로 사용합니다.\n",
        "    ```python\n",
        "    # for _ in 순회가능한객체:\n",
        "    #     code\n",
        "    ```\n",
        "    * 반복문 다음 else 구문 : break 없이 정상 종료 되면 실행\n",
        "    * 반복문 안에 break 구문 : 자신을 감싸고 있는 반복문 1개 탈출\n",
        "    * 반복문 안에 continue 구문 : 다음 루프로 넘어감\n",
        "    * 반복문 안에 pass : 공백만 채워줄 뿐 아무 기능 없음\n",
        "\n",
        "* bulit-in function\n",
        "    * 수학적 통계에 활용되는 함수\n",
        "        - abs( ) : 괄호 안에 있는 값을 절대값으로 출력해줍니다.\n",
        "        - all( ) : 괄호 안에 있는 값들이 모두 True(False)일 때 True(False)를 출력합니다.\n",
        "        - any( ) : 괄호안에 있는 값이 하나라고 True이면 True로 출력합니다.\n",
        "        - pow( ) : 제곱을 출력합니다.\n",
        "        - max( ) : 값의 최댓값을 출력합니다.\n",
        "        - min( ) : 값의 최솟값을 출력합니다.\n",
        "        - sum( ) : 값의 합계를 출력합니다.\n",
        "        - len( ) : 문자열의 길이를 출력합니다.\n",
        "        - sorted( ) : 데이터를 정렬해줍니다.\n",
        "        - reversed( ) : 정렬되지 않은 상태에서 값을 역순으로 출력합니다.\n",
        "\n",
        "    * 형변환 함수\n",
        "        - set( )\n",
        "        - dict( )\n",
        "        - hex( ) : 16진법\n",
        "        - bin( ) : 2진법\n",
        "        - oct( ) : 8진법\n",
        "        - bool( )\n",
        "        - str( )\n",
        "        - ord( ) : 각각의 문자에 대한 숫자값을 출력해줍니다.(유니코드표를 참고하세요.)\n",
        "        - float( )\n",
        "        - tuple( )\n",
        "        - chr( ) : 숫자값을 통해서 문자를 출력합니다.\n",
        "        - list( )\n",
        "        - range( )\n",
        "        - complex( )\n",
        "\n",
        "    * 도움말\n",
        "        - help( )\n",
        "\n",
        "    * object 관련 함수\n",
        "        - dir( )\n",
        "        - id( )\n",
        "        - type( )\n",
        "\n",
        "    * 순회 가능한 객체\n",
        "        - enumerate( ) : 값에 순위를 매기고 싶을 때 사용합니다.\n",
        "        - range( )\n",
        "        - sorted( )\n",
        "        - reversed( )\n",
        "        - filter( )\n",
        "        - zip( )\n",
        "        - map( )\n",
        "\n",
        "* args, kargs\n",
        "    * 가변 아규먼트, 가변 키워드 아규먼트\n",
        "    ```python\n",
        "    def print_args(*args): # 꼭 args가 될 필요는 없습니다.\n",
        "        print(args)\n",
        "\n",
        "    print_args(100, True, 'leehojun')\n",
        "\n",
        "    ####\n",
        "\n",
        "    def print_kwargs(**kwargs): # 꼭 kargs가 될 필요는 없습니다.\n",
        "    print(kwargs)\n",
        "\n",
        "    print_kwargs(name='leehojun', age='10')\n",
        "    ```\n",
        "\n",
        "* lambda\n",
        "    * lambda 는 익명함수라고 하며, 이름이 없는 함수\n",
        "    * 보통은 다시 사용되지 않을 함수를 선언할 때 사용\n",
        "    ```python\n",
        "    leehojun = lambda x : x**2\n",
        "\n",
        "    # def leehojun(x):\n",
        "    #     return x ** 2\n",
        "\n",
        "    list(map(lambda x : x ** 2, [1, 2, 3, 4]))\n",
        "    ```"
      ],
      "metadata": {
        "id": "S9V-hlC-kaP_"
      }
    },
    {
      "cell_type": "code",
      "source": [],
      "metadata": {
        "id": "j5xXFN6rPLva"
      },
      "execution_count": null,
      "outputs": []
    }
  ]
}